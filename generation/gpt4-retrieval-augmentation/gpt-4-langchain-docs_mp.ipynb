{
 "cells": [
  {
   "cell_type": "markdown",
   "metadata": {},
   "source": [
    "## Retrieval Augmented Generation"
   ]
  },
  {
   "cell_type": "markdown",
   "metadata": {},
   "source": [
    "## Scrape documents"
   ]
  },
  {
   "cell_type": "code",
   "execution_count": 1,
   "metadata": {},
   "outputs": [
    {
     "data": {
      "text/plain": [
       "<Response [200]>"
      ]
     },
     "execution_count": 1,
     "metadata": {},
     "output_type": "execute_result"
    }
   ],
   "source": [
    "import requests\n",
    "\n",
    "response = requests.get(\"https://langchain.readthedocs.io/en/latest/\")\n",
    "response"
   ]
  },
  {
   "cell_type": "code",
   "execution_count": 2,
   "metadata": {},
   "outputs": [
    {
     "data": {
      "text/plain": [
       "'\\n\\n<!DOCTYPE html>\\n\\n\\n<html lang=\"en\" >\\n\\n  <head>\\n    <meta charset=\"utf-8\" />\\n    <meta name=\"viewport\" content=\"width=device-width, initial-scale=1.0\" /><meta name=\"generator\" content=\"Docutils 0.17.1: http://docutils.sourceforge.net/\" />\\n\\n    <title>Welcome to LangChain &#8212; 🦜🔗 LangChain 0.0.126</title>\\n  \\n  \\n  \\n  <script data-cfasync=\"false\">\\n    document.documentElement.dataset.mode = localStorage.getItem(\"mode\") || \"\";\\n    document.documentElement.dataset.theme = localStorage.getItem(\"theme\") || \"light\";\\n  </script>\\n  \\n  <!-- Loaded before other Sphinx assets -->\\n  <link href=\"_static/styles/theme.css?digest=12da95d707ffb74b382d\" rel=\"stylesheet\" />\\n<link href=\"_static/styles/bootstrap.css?digest=12da95d707ffb74b382d\" rel=\"stylesheet\" />\\n<link href=\"_static/styles/pydata-sphinx-theme.css?digest=12da95d707ffb74b382d\" rel=\"stylesheet\" />\\n\\n  \\n  <link href=\"_static/vendor/fontawesome/6.1.2/css/all.min.css?digest=12da95d707ffb74b382d\" rel=\"stylesheet\" />\\n  <link rel=\"preload\" as=\"font\" type=\"font/woff2\" crossorigin href=\"_static/vendor/fontawesome/6.1.2/webfonts/fa-solid-900.woff2\" />\\n<link rel=\"preload\" as=\"font\" type=\"font/woff2\" crossorigin href=\"_static/vendor/fontawesome/6.1.2/webfonts/fa-brands-400.woff2\" />\\n<link rel=\"preload\" as=\"font\" type=\"font/woff2\" crossorigin href=\"_static/vendor/fontawesome/6.1.2/webfonts/fa-regular-400.woff2\" />\\n\\n    <link rel=\"stylesheet\" type=\"text/css\" href=\"_static/pygments.css\" />\\n    <link rel=\"stylesheet\" href=\"_static/styles/sphinx-book-theme.css?digest=14f4ca6b54d191a8c7657f6c759bf11a5fb86285\" type=\"text/css\" />\\n    <link rel=\"stylesheet\" type=\"text/css\" href=\"_static/autodoc_pydantic.css\" />\\n    <link rel=\"stylesheet\" type=\"text/css\" href=\"_static/mystnb.4510f1fc1dee50b3e5859aac5469c37c29e427902b24a333a5f9fcb2f0b3ac41.css\" />\\n    <link rel=\"stylesheet\" type=\"text/css\" href=\"_static/copybutton.css\" />\\n    <link rel=\"stylesheet\" type=\"text/css\" href=\"_static/css/custom.css\" />\\n    <link rel=\"stylesheet\" type=\"text/css\" href=\"_static/panels-bootstrap.5fd3999ee7762ccc51105388f4a9d115.css\" />\\n    <link rel=\"stylesheet\" type=\"text/css\" href=\"_static/panels-main.c949a650a448cc0ae9fd3441c0e17fb0.css\" />\\n    <link rel=\"stylesheet\" type=\"text/css\" href=\"_static/panels-variables.06eb56fa6e07937060861dad626602ad.css\" />\\n    <link rel=\"stylesheet\" type=\"text/css\" href=\"/_/static/css/badge_only.css\" />\\n  \\n  <!-- Pre-loaded scripts that we\\'ll load fully later -->\\n  <link rel=\"preload\" as=\"script\" href=\"_static/scripts/bootstrap.js?digest=12da95d707ffb74b382d\" />\\n<link rel=\"preload\" as=\"script\" href=\"_static/scripts/pydata-sphinx-theme.js?digest=12da95d707ffb74b382d\" />\\n\\n    <script data-url_root=\"./\" id=\"documentation_options\" src=\"_static/documentation_options.js\"></script>\\n    <script src=\"_static/jquery.js\"></script>\\n    <script src=\"_static/underscore.js\"></script>\\n    <script src=\"_static/doctools.js\"></script>\\n    <script src=\"_static/clipboard.min.js\"></script>\\n    <script src=\"_static/copybutton.js\"></script>\\n    <script src=\"_static/scripts/sphinx-book-theme.js?digest=5a5c038af52cf7bc1a1ec88eea08e6366ee68824\"></script>\\n    <script async=\"async\" src=\"/_/static/javascript/readthedocs-doc-embed.js\"></script>\\n    <script>DOCUMENTATION_OPTIONS.pagename = \\'index\\';</script>\\n    <link rel=\"canonical\" href=\"https://python.langchain.com/en/latest/index.html\" />\\n    <link rel=\"index\" title=\"Index\" href=\"genindex.html\" />\\n    <link rel=\"search\" title=\"Search\" href=\"search.html\" />\\n    <link rel=\"next\" title=\"Quickstart Guide\" href=\"getting_started/getting_started.html\" />\\n  <meta name=\"viewport\" content=\"width=device-width, initial-scale=1\"/>\\n  <meta name=\"docsearch:language\" content=\"en\"/>\\n  \\n<!-- RTD Extra Head -->\\n\\n<link rel=\"stylesheet\" href=\"/_/static/css/readthedocs-doc-embed.css\" type=\"text/css\" />\\n\\n<script type=\"application/json\" id=\"READTHEDOCS_DATA\">{\"ad_free\": false, \"api_host\": \"https://readthedocs.org\", \"build_date\": \"2023-03-29T18:49:20Z\", \"builder\": \"sphinx\", \"canonical_url\": null, \"commit\": \"8b91a21e\", \"docroot\": \"/docs/\", \"features\": {\"docsearch_disabled\": false}, \"global_analytics_code\": \"UA-17997319-1\", \"language\": \"en\", \"page\": \"index\", \"programming_language\": \"words\", \"project\": \"langchain\", \"proxied_api_host\": \"/_\", \"source_suffix\": \".rst\", \"subprojects\": {}, \"theme\": \"sphinx_book_theme\", \"user_analytics_code\": \"\", \"version\": \"latest\"}</script>\\n\\n<!--\\nUsing this variable directly instead of using `JSON.parse` is deprecated.\\nThe READTHEDOCS_DATA global variable will be removed in the future.\\n-->\\n<script type=\"text/javascript\">\\nREADTHEDOCS_DATA = JSON.parse(document.getElementById(\\'READTHEDOCS_DATA\\').innerHTML);\\n</script>\\n\\n<script type=\"text/javascript\" src=\"/_/static/javascript/readthedocs-analytics.js\" async=\"async\"></script>\\n\\n<!-- end RTD <extrahead> -->\\n</head>\\n  \\n  \\n  <body data-bs-spy=\"scroll\" data-bs-target=\".bd-toc-nav\" data-offset=\"180\" data-bs-root-margin=\"0px 0px -60%\" data-default-mode=\"\">\\n\\n  \\n  \\n  <a class=\"skip-link\" href=\"#main-content\">Skip to main content</a>\\n  \\n  <input type=\"checkbox\"\\n          class=\"sidebar-toggle\"\\n          name=\"__primary\"\\n          id=\"__primary\"/>\\n  <label class=\"overlay overlay-primary\" for=\"__primary\"></label>\\n  \\n  <input type=\"checkbox\"\\n          class=\"sidebar-toggle\"\\n          name=\"__secondary\"\\n          id=\"__secondary\"/>\\n  <label class=\"overlay overlay-secondary\" for=\"__secondary\"></label>\\n  \\n  <div class=\"search-button__wrapper\">\\n    <div class=\"search-button__overlay\"></div>\\n    <div class=\"search-button__search-container\">\\n<form class=\"bd-search d-flex align-items-center\"\\n      action=\"search.html\"\\n      method=\"get\">\\n  <i class=\"fa-solid fa-magnifying-glass\"></i>\\n  <input type=\"search\"\\n         class=\"form-control\"\\n         name=\"q\"\\n         id=\"search-input\"\\n         placeholder=\"Search...\"\\n         aria-label=\"Search...\"\\n         autocomplete=\"off\"\\n         autocorrect=\"off\"\\n         autocapitalize=\"off\"\\n         spellcheck=\"false\"/>\\n  <span class=\"search-button__kbd-shortcut\"><kbd class=\"kbd-shortcut__modifier\">Ctrl</kbd>+<kbd>K</kbd></span>\\n</form></div>\\n  </div>\\n  \\n    <nav class=\"bd-header navbar navbar-expand-lg bd-navbar\">\\n    </nav>\\n  \\n  <div class=\"bd-container\">\\n    <div class=\"bd-container__inner bd-page-width\">\\n      \\n      <div class=\"bd-sidebar-primary bd-sidebar\">\\n        \\n\\n  \\n  <div class=\"sidebar-header-items sidebar-primary__section\">\\n    \\n    \\n    \\n    \\n  </div>\\n  \\n    <div class=\"sidebar-primary-items__start sidebar-primary__section\">\\n        <div class=\"sidebar-primary-item\">\\n  \\n\\n<a class=\"navbar-brand logo\" href=\"#\">\\n  \\n  \\n  \\n  \\n  \\n    <p class=\"title logo__title\">🦜🔗 LangChain 0.0.126</p>\\n  \\n</a></div>\\n        <div class=\"sidebar-primary-item\"><nav class=\"bd-links\" id=\"bd-docs-nav\" aria-label=\"Main\">\\n    <div class=\"bd-toc-item navbar-nav active\">\\n        <p aria-level=\"2\" class=\"caption\" role=\"heading\"><span class=\"caption-text\">Getting Started</span></p>\\n<ul class=\"nav bd-sidenav\">\\n<li class=\"toctree-l1\"><a class=\"reference internal\" href=\"getting_started/getting_started.html\">Quickstart Guide</a></li>\\n</ul>\\n<p aria-level=\"2\" class=\"caption\" role=\"heading\"><span class=\"caption-text\">Modules</span></p>\\n<ul class=\"nav bd-sidenav\">\\n<li class=\"toctree-l1 has-children\"><a class=\"reference internal\" href=\"modules/models.html\">Models</a><input class=\"toctree-checkbox\" id=\"toctree-checkbox-1\" name=\"toctree-checkbox-1\" type=\"checkbox\"/><label class=\"toctree-toggle\" for=\"toctree-checkbox-1\"><i class=\"fa-solid fa-chevron-down\"></i></label><ul>\\n<li class=\"toctree-l2 has-children\"><a class=\"reference internal\" href=\"modules/models/llms.html\">LLMs</a><input class=\"toctree-checkbox\" id=\"toctree-checkbox-2\" name=\"toctree-checkbox-2\" type=\"checkbox\"/><label class=\"toctree-toggle\" for=\"toctree-checkbox-2\"><i class=\"fa-solid fa-chevron-down\"></i></label><ul>\\n<li class=\"toctree-l3\"><a class=\"reference internal\" href=\"modules/models/llms/getting_started.html\">Getting Started</a></li>\\n<li class=\"toctree-l3 has-children\"><a class=\"reference internal\" href=\"modules/models/llms/how_to_guides.html\">Generic Functionality</a><input class=\"toctree-checkbox\" id=\"toctree-checkbox-3\" name=\"toctree-checkbox-3\" type=\"checkbox\"/><label class=\"toctree-toggle\" for=\"toctree-checkbox-3\"><i class=\"fa-solid fa-chevron-down\"></i></label><ul>\\n<li class=\"toctree-l4\"><a class=\"reference internal\" href=\"modules/models/llms/examples/async_llm.html\">How to use the async API for LLMs</a></li>\\n<li class=\"toctree-l4\"><a class=\"reference internal\" href=\"modules/models/llms/examples/custom_llm.html\">How to write a custom LLM wrapper</a></li>\\n<li class=\"toctree-l4\"><a class=\"reference internal\" href=\"modules/models/llms/examples/fake_llm.html\">How (and why) to use the fake LLM</a></li>\\n<li class=\"toctree-l4\"><a class=\"reference internal\" href=\"modules/models/llms/examples/llm_caching.html\">How to cache LLM calls</a></li>\\n<li class=\"toctree-l4\"><a class=\"reference internal\" href=\"modules/models/llms/examples/llm_serialization.html\">How to serialize LLM classes</a></li>\\n<li class=\"toctree-l4\"><a class=\"reference internal\" href=\"modules/models/llms/examples/streaming_llm.html\">How to stream LLM and Chat Model responses</a></li>\\n<li class=\"toctree-l4\"><a class=\"reference internal\" href=\"modules/models/llms/examples/token_usage_tracking.html\">How to track token usage</a></li>\\n</ul>\\n</li>\\n<li class=\"toctree-l3 has-children\"><a class=\"reference internal\" href=\"modules/models/llms/integrations.html\">Integrations</a><input class=\"toctree-checkbox\" id=\"toctree-checkbox-4\" name=\"toctree-checkbox-4\" type=\"checkbox\"/><label class=\"toctree-toggle\" for=\"toctree-checkbox-4\"><i class=\"fa-solid fa-chevron-down\"></i></label><ul>\\n<li class=\"toctree-l4\"><a class=\"reference internal\" href=\"modules/models/llms/integrations/ai21.html\">AI21</a></li>\\n<li class=\"toctree-l4\"><a class=\"reference internal\" href=\"modules/models/llms/integrations/aleph_alpha.html\">Aleph Alpha</a></li>\\n<li class=\"toctree-l4\"><a class=\"reference internal\" href=\"modules/models/llms/integrations/anthropic_example.html\">Anthropic</a></li>\\n<li class=\"toctree-l4\"><a class=\"reference internal\" href=\"modules/models/llms/integrations/azure_openai_example.html\">Azure OpenAI LLM Example</a></li>\\n<li class=\"toctree-l4\"><a class=\"reference internal\" href=\"modules/models/llms/integrations/banana.html\">Banana</a></li>\\n<li class=\"toctree-l4\"><a class=\"reference internal\" href=\"modules/models/llms/integrations/cerebriumai_example.html\">CerebriumAI LLM Example</a></li>\\n<li class=\"toctree-l4\"><a class=\"reference internal\" href=\"modules/models/llms/integrations/cohere.html\">Cohere</a></li>\\n<li class=\"toctree-l4\"><a class=\"reference internal\" href=\"modules/models/llms/integrations/deepinfra_example.html\">DeepInfra LLM Example</a></li>\\n<li class=\"toctree-l4\"><a class=\"reference internal\" href=\"modules/models/llms/integrations/forefrontai_example.html\">ForefrontAI LLM Example</a></li>\\n<li class=\"toctree-l4\"><a class=\"reference internal\" href=\"modules/models/llms/integrations/gooseai_example.html\">GooseAI LLM Example</a></li>\\n<li class=\"toctree-l4\"><a class=\"reference internal\" href=\"modules/models/llms/integrations/huggingface_hub.html\">Hugging Face Hub</a></li>\\n<li class=\"toctree-l4\"><a class=\"reference internal\" href=\"modules/models/llms/integrations/manifest.html\">Manifest</a></li>\\n<li class=\"toctree-l4\"><a class=\"reference internal\" href=\"modules/models/llms/integrations/modal.html\">Modal</a></li>\\n<li class=\"toctree-l4\"><a class=\"reference internal\" href=\"modules/models/llms/integrations/openai.html\">OpenAI</a></li>\\n<li class=\"toctree-l4\"><a class=\"reference internal\" href=\"modules/models/llms/integrations/petals_example.html\">Petals LLM Example</a></li>\\n<li class=\"toctree-l4\"><a class=\"reference internal\" href=\"modules/models/llms/integrations/promptlayer_openai.html\">PromptLayer OpenAI</a></li>\\n<li class=\"toctree-l4\"><a class=\"reference internal\" href=\"modules/models/llms/integrations/replicate.html\">Replicate</a></li>\\n\\n\\n\\n<li class=\"toctree-l4\"><a class=\"reference internal\" href=\"modules/models/llms/integrations/sagemaker.html\">SageMakerEndpoint</a></li>\\n<li class=\"toctree-l4\"><a class=\"reference internal\" href=\"modules/models/llms/integrations/self_hosted_examples.html\">Self-Hosted Models via Runhouse</a></li>\\n<li class=\"toctree-l4\"><a class=\"reference internal\" href=\"modules/models/llms/integrations/stochasticai.html\">StochasticAI</a></li>\\n<li class=\"toctree-l4\"><a class=\"reference internal\" href=\"modules/models/llms/integrations/writer.html\">Writer</a></li>\\n</ul>\\n</li>\\n<li class=\"toctree-l3\"><a class=\"reference internal\" href=\"reference/modules/llms.html\">Reference</a></li>\\n</ul>\\n</li>\\n<li class=\"toctree-l2 has-children\"><a class=\"reference internal\" href=\"modules/models/chat.html\">Chat Models</a><input class=\"toctree-checkbox\" id=\"toctree-checkbox-5\" name=\"toctree-checkbox-5\" type=\"checkbox\"/><label class=\"toctree-toggle\" for=\"toctree-checkbox-5\"><i class=\"fa-solid fa-chevron-down\"></i></label><ul>\\n<li class=\"toctree-l3\"><a class=\"reference internal\" href=\"modules/models/chat/getting_started.html\">Getting Started</a></li>\\n<li class=\"toctree-l3 has-children\"><a class=\"reference internal\" href=\"modules/models/chat/how_to_guides.html\">How-To Guides</a><input class=\"toctree-checkbox\" id=\"toctree-checkbox-6\" name=\"toctree-checkbox-6\" type=\"checkbox\"/><label class=\"toctree-toggle\" for=\"toctree-checkbox-6\"><i class=\"fa-solid fa-chevron-down\"></i></label><ul>\\n<li class=\"toctree-l4\"><a class=\"reference internal\" href=\"modules/models/chat/examples/few_shot_examples.html\">How to use few shot examples</a></li>\\n<li class=\"toctree-l4\"><a class=\"reference internal\" href=\"modules/models/chat/examples/streaming.html\">How to stream responses</a></li>\\n</ul>\\n</li>\\n<li class=\"toctree-l3 has-children\"><a class=\"reference internal\" href=\"modules/models/chat/integrations.html\">Integrations</a><input class=\"toctree-checkbox\" id=\"toctree-checkbox-7\" name=\"toctree-checkbox-7\" type=\"checkbox\"/><label class=\"toctree-toggle\" for=\"toctree-checkbox-7\"><i class=\"fa-solid fa-chevron-down\"></i></label><ul>\\n<li class=\"toctree-l4\"><a class=\"reference internal\" href=\"modules/models/chat/integrations/azure_chat_openai.html\">Azure</a></li>\\n<li class=\"toctree-l4\"><a class=\"reference internal\" href=\"modules/models/chat/integrations/openai.html\">OpenAI</a></li>\\n<li class=\"toctree-l4\"><a class=\"reference internal\" href=\"modules/models/chat/integrations/promptlayer_chatopenai.html\">PromptLayer ChatOpenAI</a></li>\\n</ul>\\n</li>\\n</ul>\\n</li>\\n<li class=\"toctree-l2 has-children\"><a class=\"reference internal\" href=\"modules/models/text_embedding.html\">Text Embedding Models</a><input class=\"toctree-checkbox\" id=\"toctree-checkbox-8\" name=\"toctree-checkbox-8\" type=\"checkbox\"/><label class=\"toctree-toggle\" for=\"toctree-checkbox-8\"><i class=\"fa-solid fa-chevron-down\"></i></label><ul>\\n<li class=\"toctree-l3\"><a class=\"reference internal\" href=\"modules/models/text_embedding/examples/azureopenai.html\">AzureOpenAI</a></li>\\n<li class=\"toctree-l3\"><a class=\"reference internal\" href=\"modules/models/text_embedding/examples/cohere.html\">Cohere</a></li>\\n<li class=\"toctree-l3\"><a class=\"reference internal\" href=\"modules/models/text_embedding/examples/fake.html\">Fake Embeddings</a></li>\\n<li class=\"toctree-l3\"><a class=\"reference internal\" href=\"modules/models/text_embedding/examples/huggingfacehub.html\">Hugging Face Hub</a></li>\\n<li class=\"toctree-l3\"><a class=\"reference internal\" href=\"modules/models/text_embedding/examples/instruct_embeddings.html\">InstructEmbeddings</a></li>\\n<li class=\"toctree-l3\"><a class=\"reference internal\" href=\"modules/models/text_embedding/examples/jina.html\">Jina</a></li>\\n<li class=\"toctree-l3\"><a class=\"reference internal\" href=\"modules/models/text_embedding/examples/openai.html\">OpenAI</a></li>\\n<li class=\"toctree-l3\"><a class=\"reference internal\" href=\"modules/models/text_embedding/examples/sagemaker-endpoint.html\">SageMaker Endpoint Embeddings</a></li>\\n<li class=\"toctree-l3\"><a class=\"reference internal\" href=\"modules/models/text_embedding/examples/self-hosted.html\">Self Hosted Embeddings</a></li>\\n<li class=\"toctree-l3\"><a class=\"reference internal\" href=\"modules/models/text_embedding/examples/tensorflowhub.html\">TensorflowHub</a></li>\\n</ul>\\n</li>\\n</ul>\\n</li>\\n<li class=\"toctree-l1 has-children\"><a class=\"reference internal\" href=\"modules/prompts.html\">Prompts</a><input class=\"toctree-checkbox\" id=\"toctree-checkbox-9\" name=\"toctree-checkbox-9\" type=\"checkbox\"/><label class=\"toctree-toggle\" for=\"toctree-checkbox-9\"><i class=\"fa-solid fa-chevron-down\"></i></label><ul>\\n<li class=\"toctree-l2 has-children\"><a class=\"reference internal\" href=\"modules/prompts/prompt_templates.html\">Prompt Templates</a><input class=\"toctree-checkbox\" id=\"toctree-checkbox-10\" name=\"toctree-checkbox-10\" type=\"checkbox\"/><label class=\"toctree-toggle\" for=\"toctree-checkbox-10\"><i class=\"fa-solid fa-chevron-down\"></i></label><ul>\\n<li class=\"toctree-l3\"><a class=\"reference internal\" href=\"modules/prompts/prompt_templates/getting_started.html\">Getting Started</a></li>\\n<li class=\"toctree-l3 has-children\"><a class=\"reference internal\" href=\"modules/prompts/prompt_templates/how_to_guides.html\">How-To Guides</a><input class=\"toctree-checkbox\" id=\"toctree-checkbox-11\" name=\"toctree-checkbox-11\" type=\"checkbox\"/><label class=\"toctree-toggle\" for=\"toctree-checkbox-11\"><i class=\"fa-solid fa-chevron-down\"></i></label><ul>\\n<li class=\"toctree-l4\"><a class=\"reference internal\" href=\"modules/prompts/prompt_templates/examples/custom_prompt_template.html\">How to create a custom prompt template</a></li>\\n<li class=\"toctree-l4\"><a class=\"reference internal\" href=\"modules/prompts/prompt_templates/examples/few_shot_examples.html\">How to create a prompt template that uses few shot examples</a></li>\\n<li class=\"toctree-l4\"><a class=\"reference internal\" href=\"modules/prompts/prompt_templates/examples/partial.html\">How to work with partial Prompt Templates</a></li>\\n<li class=\"toctree-l4\"><a class=\"reference internal\" href=\"modules/prompts/prompt_templates/examples/prompt_serialization.html\">How to serialize prompts</a></li>\\n</ul>\\n</li>\\n<li class=\"toctree-l3 has-children\"><a class=\"reference internal\" href=\"reference/prompts.html\">Reference</a><input class=\"toctree-checkbox\" id=\"toctree-checkbox-12\" name=\"toctree-checkbox-12\" type=\"checkbox\"/><label class=\"toctree-toggle\" for=\"toctree-checkbox-12\"><i class=\"fa-solid fa-chevron-down\"></i></label><ul>\\n<li class=\"toctree-l4\"><a class=\"reference internal\" href=\"reference/modules/prompt.html\">PromptTemplates</a></li>\\n<li class=\"toctree-l4\"><a class=\"reference internal\" href=\"reference/modules/example_selector.html\">Example Selector</a></li>\\n</ul>\\n</li>\\n</ul>\\n</li>\\n<li class=\"toctree-l2\"><a class=\"reference internal\" href=\"modules/prompts/chat_prompt_template.html\">Chat Prompt Template</a></li>\\n<li class=\"toctree-l2 has-children\"><a class=\"reference internal\" href=\"modules/prompts/example_selectors.html\">Example Selectors</a><input class=\"toctree-checkbox\" id=\"toctree-checkbox-13\" name=\"toctree-checkbox-13\" type=\"checkbox\"/><label class=\"toctree-toggle\" for=\"toctree-checkbox-13\"><i class=\"fa-solid fa-chevron-down\"></i></label><ul>\\n<li class=\"toctree-l3\"><a class=\"reference internal\" href=\"modules/prompts/example_selectors/examples/custom_example_selector.html\">How to create a custom example selector</a></li>\\n<li class=\"toctree-l3\"><a class=\"reference internal\" href=\"modules/prompts/example_selectors/examples/length_based.html\">LengthBased ExampleSelector</a></li>\\n<li class=\"toctree-l3\"><a class=\"reference internal\" href=\"modules/prompts/example_selectors/examples/mmr.html\">Maximal Marginal Relevance ExampleSelector</a></li>\\n<li class=\"toctree-l3\"><a class=\"reference internal\" href=\"modules/prompts/example_selectors/examples/ngram_overlap.html\">NGram Overlap ExampleSelector</a></li>\\n<li class=\"toctree-l3\"><a class=\"reference internal\" href=\"modules/prompts/example_selectors/examples/similarity.html\">Similarity ExampleSelector</a></li>\\n</ul>\\n</li>\\n<li class=\"toctree-l2 has-children\"><a class=\"reference internal\" href=\"modules/prompts/output_parsers.html\">Output Parsers</a><input class=\"toctree-checkbox\" id=\"toctree-checkbox-14\" name=\"toctree-checkbox-14\" type=\"checkbox\"/><label class=\"toctree-toggle\" for=\"toctree-checkbox-14\"><i class=\"fa-solid fa-chevron-down\"></i></label><ul>\\n<li class=\"toctree-l3\"><a class=\"reference internal\" href=\"modules/prompts/output_parsers/getting_started.html\">Output Parsers</a></li>\\n<li class=\"toctree-l3\"><a class=\"reference internal\" href=\"modules/prompts/output_parsers/examples/comma_separated.html\">CommaSeparatedListOutputParser</a></li>\\n<li class=\"toctree-l3\"><a class=\"reference internal\" href=\"modules/prompts/output_parsers/examples/output_fixing_parser.html\">OutputFixingParser</a></li>\\n<li class=\"toctree-l3\"><a class=\"reference internal\" href=\"modules/prompts/output_parsers/examples/pydantic.html\">PydanticOutputParser</a></li>\\n<li class=\"toctree-l3\"><a class=\"reference internal\" href=\"modules/prompts/output_parsers/examples/retry.html\">RetryOutputParser</a></li>\\n<li class=\"toctree-l3\"><a class=\"reference internal\" href=\"modules/prompts/output_parsers/examples/structured.html\">Structured Output Parser</a></li>\\n</ul>\\n</li>\\n</ul>\\n</li>\\n<li class=\"toctree-l1 has-children\"><a class=\"reference internal\" href=\"modules/indexes.html\">Indexes</a><input class=\"toctree-checkbox\" id=\"toctree-checkbox-15\" name=\"toctree-checkbox-15\" type=\"checkbox\"/><label class=\"toctree-toggle\" for=\"toctree-checkbox-15\"><i class=\"fa-solid fa-chevron-down\"></i></label><ul>\\n<li class=\"toctree-l2\"><a class=\"reference internal\" href=\"modules/indexes/getting_started.html\">Getting Started</a></li>\\n<li class=\"toctree-l2 has-children\"><a class=\"reference internal\" href=\"modules/indexes/document_loaders.html\">Document Loaders</a><input class=\"toctree-checkbox\" id=\"toctree-checkbox-16\" name=\"toctree-checkbox-16\" type=\"checkbox\"/><label class=\"toctree-toggle\" for=\"toctree-checkbox-16\"><i class=\"fa-solid fa-chevron-down\"></i></label><ul>\\n<li class=\"toctree-l3\"><a class=\"reference internal\" href=\"modules/indexes/document_loaders/examples/CoNLL-U.html\">CoNLL-U</a></li>\\n<li class=\"toctree-l3\"><a class=\"reference internal\" href=\"modules/indexes/document_loaders/examples/airbyte_json.html\">Airbyte JSON</a></li>\\n<li class=\"toctree-l3\"><a class=\"reference internal\" href=\"modules/indexes/document_loaders/examples/azlyrics.html\">AZLyrics</a></li>\\n<li class=\"toctree-l3\"><a class=\"reference internal\" href=\"modules/indexes/document_loaders/examples/azure_blob_storage_container.html\">Azure Blob Storage Container</a></li>\\n<li class=\"toctree-l3\"><a class=\"reference internal\" href=\"modules/indexes/document_loaders/examples/azure_blob_storage_file.html\">Azure Blob Storage File</a></li>\\n<li class=\"toctree-l3\"><a class=\"reference internal\" href=\"modules/indexes/document_loaders/examples/bigquery.html\">BigQuery Loader</a></li>\\n<li class=\"toctree-l3\"><a class=\"reference internal\" href=\"modules/indexes/document_loaders/examples/blackboard.html\">Blackboard</a></li>\\n<li class=\"toctree-l3\"><a class=\"reference internal\" href=\"modules/indexes/document_loaders/examples/college_confidential.html\">College Confidential</a></li>\\n<li class=\"toctree-l3\"><a class=\"reference internal\" href=\"modules/indexes/document_loaders/examples/copypaste.html\">Copy Paste</a></li>\\n<li class=\"toctree-l3\"><a class=\"reference internal\" href=\"modules/indexes/document_loaders/examples/csv.html\">CSV Loader</a></li>\\n\\n<li class=\"toctree-l3\"><a class=\"reference internal\" href=\"modules/indexes/document_loaders/examples/dataframe.html\">DataFrame Loader</a></li>\\n<li class=\"toctree-l3\"><a class=\"reference internal\" href=\"modules/indexes/document_loaders/examples/directory_loader.html\">Directory Loader</a></li>\\n<li class=\"toctree-l3\"><a class=\"reference internal\" href=\"modules/indexes/document_loaders/examples/duckdb.html\">DuckDB Loader</a></li>\\n<li class=\"toctree-l3\"><a class=\"reference internal\" href=\"modules/indexes/document_loaders/examples/email.html\">Email</a></li>\\n<li class=\"toctree-l3\"><a class=\"reference internal\" href=\"modules/indexes/document_loaders/examples/evernote.html\">EverNote</a></li>\\n<li class=\"toctree-l3\"><a class=\"reference internal\" href=\"modules/indexes/document_loaders/examples/facebook_chat.html\">Facebook Chat</a></li>\\n<li class=\"toctree-l3\"><a class=\"reference internal\" href=\"modules/indexes/document_loaders/examples/figma.html\">Figma</a></li>\\n<li class=\"toctree-l3\"><a class=\"reference internal\" href=\"modules/indexes/document_loaders/examples/gcs_directory.html\">GCS Directory</a></li>\\n<li class=\"toctree-l3\"><a class=\"reference internal\" href=\"modules/indexes/document_loaders/examples/gcs_file.html\">GCS File Storage</a></li>\\n<li class=\"toctree-l3\"><a class=\"reference internal\" href=\"modules/indexes/document_loaders/examples/gitbook.html\">GitBook</a></li>\\n<li class=\"toctree-l3\"><a class=\"reference internal\" href=\"modules/indexes/document_loaders/examples/googledrive.html\">Google Drive</a></li>\\n<li class=\"toctree-l3\"><a class=\"reference internal\" href=\"modules/indexes/document_loaders/examples/gutenberg.html\">Gutenberg</a></li>\\n<li class=\"toctree-l3\"><a class=\"reference internal\" href=\"modules/indexes/document_loaders/examples/hn.html\">Hacker News</a></li>\\n<li class=\"toctree-l3\"><a class=\"reference internal\" href=\"modules/indexes/document_loaders/examples/html.html\">HTML</a></li>\\n<li class=\"toctree-l3\"><a class=\"reference internal\" href=\"modules/indexes/document_loaders/examples/ifixit.html\">iFixit</a></li>\\n<li class=\"toctree-l3\"><a class=\"reference internal\" href=\"modules/indexes/document_loaders/examples/image.html\">Images</a></li>\\n<li class=\"toctree-l3\"><a class=\"reference internal\" href=\"modules/indexes/document_loaders/examples/imsdb.html\">IMSDb</a></li>\\n<li class=\"toctree-l3\"><a class=\"reference internal\" href=\"modules/indexes/document_loaders/examples/markdown.html\">Markdown</a></li>\\n<li class=\"toctree-l3\"><a class=\"reference internal\" href=\"modules/indexes/document_loaders/examples/notebook.html\">Notebook</a></li>\\n<li class=\"toctree-l3\"><a class=\"reference internal\" href=\"modules/indexes/document_loaders/examples/notion.html\">Notion</a></li>\\n<li class=\"toctree-l3\"><a class=\"reference internal\" href=\"modules/indexes/document_loaders/examples/notiondb.html\">Notion DB Loader</a></li>\\n<li class=\"toctree-l3\"><a class=\"reference internal\" href=\"modules/indexes/document_loaders/examples/obsidian.html\">Obsidian</a></li>\\n<li class=\"toctree-l3\"><a class=\"reference internal\" href=\"modules/indexes/document_loaders/examples/pdf.html\">PDF</a></li>\\n<li class=\"toctree-l3\"><a class=\"reference internal\" href=\"modules/indexes/document_loaders/examples/powerpoint.html\">PowerPoint</a></li>\\n<li class=\"toctree-l3\"><a class=\"reference internal\" href=\"modules/indexes/document_loaders/examples/readthedocs_documentation.html\">ReadTheDocs Documentation</a></li>\\n<li class=\"toctree-l3\"><a class=\"reference internal\" href=\"modules/indexes/document_loaders/examples/roam.html\">Roam</a></li>\\n<li class=\"toctree-l3\"><a class=\"reference internal\" href=\"modules/indexes/document_loaders/examples/s3_directory.html\">s3 Directory</a></li>\\n<li class=\"toctree-l3\"><a class=\"reference internal\" href=\"modules/indexes/document_loaders/examples/s3_file.html\">s3 File</a></li>\\n<li class=\"toctree-l3\"><a class=\"reference internal\" href=\"modules/indexes/document_loaders/examples/sitemap.html\">Sitemap Loader</a></li>\\n<li class=\"toctree-l3\"><a class=\"reference internal\" href=\"modules/indexes/document_loaders/examples/srt.html\">Subtitle Files</a></li>\\n<li class=\"toctree-l3\"><a class=\"reference internal\" href=\"modules/indexes/document_loaders/examples/telegram.html\">Telegram</a></li>\\n<li class=\"toctree-l3\"><a class=\"reference internal\" href=\"modules/indexes/document_loaders/examples/unstructured_file.html\">Unstructured File Loader</a></li>\\n<li class=\"toctree-l3\"><a class=\"reference internal\" href=\"modules/indexes/document_loaders/examples/url.html\">URL</a></li>\\n<li class=\"toctree-l3\"><a class=\"reference internal\" href=\"modules/indexes/document_loaders/examples/web_base.html\">Web Base</a></li>\\n\\n<li class=\"toctree-l3\"><a class=\"reference internal\" href=\"modules/indexes/document_loaders/examples/whatsapp_chat.html\">WhatsApp Chat</a></li>\\n<li class=\"toctree-l3\"><a class=\"reference internal\" href=\"modules/indexes/document_loaders/examples/word_document.html\">Word Documents</a></li>\\n<li class=\"toctree-l3\"><a class=\"reference internal\" href=\"modules/indexes/document_loaders/examples/youtube.html\">YouTube</a></li>\\n</ul>\\n</li>\\n<li class=\"toctree-l2 has-children\"><a class=\"reference internal\" href=\"modules/indexes/text_splitters.html\">Text Splitters</a><input class=\"toctree-checkbox\" id=\"toctree-checkbox-17\" name=\"toctree-checkbox-17\" type=\"checkbox\"/><label class=\"toctree-toggle\" for=\"toctree-checkbox-17\"><i class=\"fa-solid fa-chevron-down\"></i></label><ul>\\n<li class=\"toctree-l3\"><a class=\"reference internal\" href=\"modules/indexes/text_splitters/getting_started.html\">Getting Started</a></li>\\n<li class=\"toctree-l3\"><a class=\"reference internal\" href=\"modules/indexes/text_splitters/examples/character_text_splitter.html\">Character Text Splitter</a></li>\\n<li class=\"toctree-l3\"><a class=\"reference internal\" href=\"modules/indexes/text_splitters/examples/huggingface_length_function.html\">HuggingFace Length Function</a></li>\\n<li class=\"toctree-l3\"><a class=\"reference internal\" href=\"modules/indexes/text_splitters/examples/latex.html\">Latex Text Splitter</a></li>\\n<li class=\"toctree-l3\"><a class=\"reference internal\" href=\"modules/indexes/text_splitters/examples/markdown.html\">Markdown Text Splitter</a></li>\\n<li class=\"toctree-l3\"><a class=\"reference internal\" href=\"modules/indexes/text_splitters/examples/nltk.html\">NLTK Text Splitter</a></li>\\n<li class=\"toctree-l3\"><a class=\"reference internal\" href=\"modules/indexes/text_splitters/examples/python.html\">Python Code Text Splitter</a></li>\\n<li class=\"toctree-l3\"><a class=\"reference internal\" href=\"modules/indexes/text_splitters/examples/recursive_text_splitter.html\">RecursiveCharacterTextSplitter</a></li>\\n<li class=\"toctree-l3\"><a class=\"reference internal\" href=\"modules/indexes/text_splitters/examples/spacy.html\">Spacy Text Splitter</a></li>\\n<li class=\"toctree-l3\"><a class=\"reference internal\" href=\"modules/indexes/text_splitters/examples/tiktoken.html\">tiktoken (OpenAI) Length Function</a></li>\\n<li class=\"toctree-l3\"><a class=\"reference internal\" href=\"modules/indexes/text_splitters/examples/tiktoken_splitter.html\">TiktokenText Splitter</a></li>\\n</ul>\\n</li>\\n<li class=\"toctree-l2 has-children\"><a class=\"reference internal\" href=\"modules/indexes/vectorstores.html\">Vectorstores</a><input class=\"toctree-checkbox\" id=\"toctree-checkbox-18\" name=\"toctree-checkbox-18\" type=\"checkbox\"/><label class=\"toctree-toggle\" for=\"toctree-checkbox-18\"><i class=\"fa-solid fa-chevron-down\"></i></label><ul>\\n<li class=\"toctree-l3\"><a class=\"reference internal\" href=\"modules/indexes/vectorstores/getting_started.html\">Getting Started</a></li>\\n<li class=\"toctree-l3\"><a class=\"reference internal\" href=\"modules/indexes/vectorstores/examples/atlas.html\">AtlasDB</a></li>\\n<li class=\"toctree-l3\"><a class=\"reference internal\" href=\"modules/indexes/vectorstores/examples/chroma.html\">Chroma</a></li>\\n<li class=\"toctree-l3\"><a class=\"reference internal\" href=\"modules/indexes/vectorstores/examples/deeplake.html\">Deep Lake</a></li>\\n<li class=\"toctree-l3\"><a class=\"reference internal\" href=\"modules/indexes/vectorstores/examples/elasticsearch.html\">ElasticSearch</a></li>\\n<li class=\"toctree-l3\"><a class=\"reference internal\" href=\"modules/indexes/vectorstores/examples/faiss.html\">FAISS</a></li>\\n<li class=\"toctree-l3\"><a class=\"reference internal\" href=\"modules/indexes/vectorstores/examples/milvus.html\">Milvus</a></li>\\n<li class=\"toctree-l3\"><a class=\"reference internal\" href=\"modules/indexes/vectorstores/examples/opensearch.html\">OpenSearch</a></li>\\n<li class=\"toctree-l3\"><a class=\"reference internal\" href=\"modules/indexes/vectorstores/examples/pgvector.html\">PGVector</a></li>\\n<li class=\"toctree-l3\"><a class=\"reference internal\" href=\"modules/indexes/vectorstores/examples/pinecone.html\">Pinecone</a></li>\\n<li class=\"toctree-l3\"><a class=\"reference internal\" href=\"modules/indexes/vectorstores/examples/qdrant.html\">Qdrant</a></li>\\n<li class=\"toctree-l3\"><a class=\"reference internal\" href=\"modules/indexes/vectorstores/examples/redis.html\">Redis</a></li>\\n<li class=\"toctree-l3\"><a class=\"reference internal\" href=\"modules/indexes/vectorstores/examples/weaviate.html\">Weaviate</a></li>\\n</ul>\\n</li>\\n<li class=\"toctree-l2 has-children\"><a class=\"reference internal\" href=\"modules/indexes/retrievers.html\">Retrievers</a><input class=\"toctree-checkbox\" id=\"toctree-checkbox-19\" name=\"toctree-checkbox-19\" type=\"checkbox\"/><label class=\"toctree-toggle\" for=\"toctree-checkbox-19\"><i class=\"fa-solid fa-chevron-down\"></i></label><ul>\\n<li class=\"toctree-l3\"><a class=\"reference internal\" href=\"modules/indexes/retrievers/examples/chatgpt-plugin-retriever.html\">ChatGPT Plugin Retriever</a></li>\\n<li class=\"toctree-l3\"><a class=\"reference internal\" href=\"modules/indexes/retrievers/examples/vectorstore-retriever.html\">VectorStore Retriever</a></li>\\n</ul>\\n</li>\\n</ul>\\n</li>\\n<li class=\"toctree-l1 has-children\"><a class=\"reference internal\" href=\"modules/memory.html\">Memory</a><input class=\"toctree-checkbox\" id=\"toctree-checkbox-20\" name=\"toctree-checkbox-20\" type=\"checkbox\"/><label class=\"toctree-toggle\" for=\"toctree-checkbox-20\"><i class=\"fa-solid fa-chevron-down\"></i></label><ul>\\n<li class=\"toctree-l2\"><a class=\"reference internal\" href=\"modules/memory/getting_started.html\">Getting Started</a></li>\\n<li class=\"toctree-l2 has-children\"><a class=\"reference internal\" href=\"modules/memory/how_to_guides.html\">How-To Guides</a><input class=\"toctree-checkbox\" id=\"toctree-checkbox-21\" name=\"toctree-checkbox-21\" type=\"checkbox\"/><label class=\"toctree-toggle\" for=\"toctree-checkbox-21\"><i class=\"fa-solid fa-chevron-down\"></i></label><ul>\\n<li class=\"toctree-l3\"><a class=\"reference internal\" href=\"modules/memory/types/buffer.html\">ConversationBufferMemory</a></li>\\n<li class=\"toctree-l3\"><a class=\"reference internal\" href=\"modules/memory/types/buffer_window.html\">ConversationBufferWindowMemory</a></li>\\n<li class=\"toctree-l3\"><a class=\"reference internal\" href=\"modules/memory/types/entity_summary_memory.html\">Entity Memory</a></li>\\n<li class=\"toctree-l3\"><a class=\"reference internal\" href=\"modules/memory/types/kg.html\">Conversation Knowledge Graph Memory</a></li>\\n<li class=\"toctree-l3\"><a class=\"reference internal\" href=\"modules/memory/types/summary.html\">ConversationSummaryMemory</a></li>\\n<li class=\"toctree-l3\"><a class=\"reference internal\" href=\"modules/memory/types/summary_buffer.html\">ConversationSummaryBufferMemory</a></li>\\n<li class=\"toctree-l3\"><a class=\"reference internal\" href=\"modules/memory/types/token_buffer.html\">ConversationTokenBufferMemory</a></li>\\n<li class=\"toctree-l3\"><a class=\"reference internal\" href=\"modules/memory/examples/adding_memory.html\">How to add Memory to an LLMChain</a></li>\\n<li class=\"toctree-l3\"><a class=\"reference internal\" href=\"modules/memory/examples/adding_memory_chain_multiple_inputs.html\">How to add memory to a Multi-Input Chain</a></li>\\n<li class=\"toctree-l3\"><a class=\"reference internal\" href=\"modules/memory/examples/agent_with_memory.html\">How to add Memory to an Agent</a></li>\\n<li class=\"toctree-l3\"><a class=\"reference internal\" href=\"modules/memory/examples/agent_with_memory_in_db.html\">Adding Message Memory backed by a database to an Agent</a></li>\\n<li class=\"toctree-l3\"><a class=\"reference internal\" href=\"modules/memory/examples/conversational_customization.html\">How to customize conversational memory</a></li>\\n<li class=\"toctree-l3\"><a class=\"reference internal\" href=\"modules/memory/examples/custom_memory.html\">How to create a custom Memory class</a></li>\\n<li class=\"toctree-l3\"><a class=\"reference internal\" href=\"modules/memory/examples/multiple_memory.html\">How to use multiple memory classes in the same chain</a></li>\\n<li class=\"toctree-l3\"><a class=\"reference internal\" href=\"modules/memory/examples/redis_chat_message_history.html\">Redis Chat Message History</a></li>\\n</ul>\\n</li>\\n</ul>\\n</li>\\n<li class=\"toctree-l1 has-children\"><a class=\"reference internal\" href=\"modules/chains.html\">Chains</a><input class=\"toctree-checkbox\" id=\"toctree-checkbox-22\" name=\"toctree-checkbox-22\" type=\"checkbox\"/><label class=\"toctree-toggle\" for=\"toctree-checkbox-22\"><i class=\"fa-solid fa-chevron-down\"></i></label><ul>\\n<li class=\"toctree-l2\"><a class=\"reference internal\" href=\"modules/chains/getting_started.html\">Getting Started</a></li>\\n<li class=\"toctree-l2 has-children\"><a class=\"reference internal\" href=\"modules/chains/how_to_guides.html\">How-To Guides</a><input class=\"toctree-checkbox\" id=\"toctree-checkbox-23\" name=\"toctree-checkbox-23\" type=\"checkbox\"/><label class=\"toctree-toggle\" for=\"toctree-checkbox-23\"><i class=\"fa-solid fa-chevron-down\"></i></label><ul>\\n<li class=\"toctree-l3\"><a class=\"reference internal\" href=\"modules/chains/generic/async_chain.html\">Async API for Chain</a></li>\\n<li class=\"toctree-l3\"><a class=\"reference internal\" href=\"modules/chains/generic/from_hub.html\">Loading from LangChainHub</a></li>\\n<li class=\"toctree-l3\"><a class=\"reference internal\" href=\"modules/chains/generic/llm_chain.html\">LLM Chain</a></li>\\n<li class=\"toctree-l3\"><a class=\"reference internal\" href=\"modules/chains/generic/sequential_chains.html\">Sequential Chains</a></li>\\n<li class=\"toctree-l3\"><a class=\"reference internal\" href=\"modules/chains/generic/serialization.html\">Serialization</a></li>\\n<li class=\"toctree-l3\"><a class=\"reference internal\" href=\"modules/chains/generic/transformation.html\">Transformation Chain</a></li>\\n<li class=\"toctree-l3\"><a class=\"reference internal\" href=\"modules/chains/index_examples/analyze_document.html\">Analyze Document</a></li>\\n<li class=\"toctree-l3\"><a class=\"reference internal\" href=\"modules/chains/index_examples/chat_vector_db.html\">Chat Index</a></li>\\n<li class=\"toctree-l3\"><a class=\"reference internal\" href=\"modules/chains/index_examples/graph_qa.html\">Graph QA</a></li>\\n<li class=\"toctree-l3\"><a class=\"reference internal\" href=\"modules/chains/index_examples/hyde.html\">Hypothetical Document Embeddings</a></li>\\n<li class=\"toctree-l3\"><a class=\"reference internal\" href=\"modules/chains/index_examples/qa_with_sources.html\">Question Answering with Sources</a></li>\\n<li class=\"toctree-l3\"><a class=\"reference internal\" href=\"modules/chains/index_examples/question_answering.html\">Question Answering</a></li>\\n<li class=\"toctree-l3\"><a class=\"reference internal\" href=\"modules/chains/index_examples/summarize.html\">Summarization</a></li>\\n<li class=\"toctree-l3\"><a class=\"reference internal\" href=\"modules/chains/index_examples/vector_db_qa.html\">Retrieval Question/Answering</a></li>\\n<li class=\"toctree-l3\"><a class=\"reference internal\" href=\"modules/chains/index_examples/vector_db_qa_with_sources.html\">Retrieval Question Answering with Sources</a></li>\\n<li class=\"toctree-l3\"><a class=\"reference internal\" href=\"modules/chains/index_examples/vector_db_text_generation.html\">Vector DB Text Generation</a></li>\\n<li class=\"toctree-l3\"><a class=\"reference internal\" href=\"modules/chains/examples/api.html\">API Chains</a></li>\\n<li class=\"toctree-l3\"><a class=\"reference internal\" href=\"modules/chains/examples/constitutional_chain.html\">Self-Critique Chain with Constitutional AI</a></li>\\n<li class=\"toctree-l3\"><a class=\"reference internal\" href=\"modules/chains/examples/llm_bash.html\">BashChain</a></li>\\n<li class=\"toctree-l3\"><a class=\"reference internal\" href=\"modules/chains/examples/llm_checker.html\">LLMCheckerChain</a></li>\\n<li class=\"toctree-l3\"><a class=\"reference internal\" href=\"modules/chains/examples/llm_math.html\">LLM Math</a></li>\\n<li class=\"toctree-l3\"><a class=\"reference internal\" href=\"modules/chains/examples/llm_requests.html\">LLMRequestsChain</a></li>\\n<li class=\"toctree-l3\"><a class=\"reference internal\" href=\"modules/chains/examples/llm_summarization_checker.html\">LLMSummarizationCheckerChain</a></li>\\n<li class=\"toctree-l3\"><a class=\"reference internal\" href=\"modules/chains/examples/moderation.html\">Moderation</a></li>\\n<li class=\"toctree-l3\"><a class=\"reference internal\" href=\"modules/chains/examples/pal.html\">PAL</a></li>\\n<li class=\"toctree-l3\"><a class=\"reference internal\" href=\"modules/chains/examples/sqlite.html\">SQLite example</a></li>\\n</ul>\\n</li>\\n<li class=\"toctree-l2\"><a class=\"reference internal\" href=\"reference/modules/chains.html\">Reference</a></li>\\n</ul>\\n</li>\\n<li class=\"toctree-l1 has-children\"><a class=\"reference internal\" href=\"modules/agents.html\">Agents</a><input class=\"toctree-checkbox\" id=\"toctree-checkbox-24\" name=\"toctree-checkbox-24\" type=\"checkbox\"/><label class=\"toctree-toggle\" for=\"toctree-checkbox-24\"><i class=\"fa-solid fa-chevron-down\"></i></label><ul>\\n<li class=\"toctree-l2\"><a class=\"reference internal\" href=\"modules/agents/getting_started.html\">Getting Started</a></li>\\n<li class=\"toctree-l2 has-children\"><a class=\"reference internal\" href=\"modules/agents/tools.html\">Tools</a><input class=\"toctree-checkbox\" id=\"toctree-checkbox-25\" name=\"toctree-checkbox-25\" type=\"checkbox\"/><label class=\"toctree-toggle\" for=\"toctree-checkbox-25\"><i class=\"fa-solid fa-chevron-down\"></i></label><ul>\\n<li class=\"toctree-l3\"><a class=\"reference internal\" href=\"modules/agents/tools/getting_started.html\">Getting Started</a></li>\\n<li class=\"toctree-l3\"><a class=\"reference internal\" href=\"modules/agents/tools/custom_tools.html\">Defining Custom Tools</a></li>\\n<li class=\"toctree-l3\"><a class=\"reference internal\" href=\"modules/agents/tools/multi_input_tool.html\">Multi Input Tools</a></li>\\n<li class=\"toctree-l3\"><a class=\"reference internal\" href=\"modules/agents/tools/examples/bash.html\">Bash</a></li>\\n<li class=\"toctree-l3\"><a class=\"reference internal\" href=\"modules/agents/tools/examples/bing_search.html\">Bing Search</a></li>\\n<li class=\"toctree-l3\"><a class=\"reference internal\" href=\"modules/agents/tools/examples/chatgpt_plugins.html\">ChatGPT Plugins</a></li>\\n<li class=\"toctree-l3\"><a class=\"reference internal\" href=\"modules/agents/tools/examples/google_search.html\">Google Search</a></li>\\n<li class=\"toctree-l3\"><a class=\"reference internal\" href=\"modules/agents/tools/examples/google_serper.html\">Google Serper API</a></li>\\n<li class=\"toctree-l3\"><a class=\"reference internal\" href=\"modules/agents/tools/examples/human_tools.html\">Human as a tool</a></li>\\n<li class=\"toctree-l3\"><a class=\"reference internal\" href=\"modules/agents/tools/examples/ifttt.html\">IFTTT WebHooks</a></li>\\n<li class=\"toctree-l3\"><a class=\"reference internal\" href=\"modules/agents/tools/examples/openweathermap.html\">OpenWeatherMap API</a></li>\\n<li class=\"toctree-l3\"><a class=\"reference internal\" href=\"modules/agents/tools/examples/python.html\">Python REPL</a></li>\\n<li class=\"toctree-l3\"><a class=\"reference internal\" href=\"modules/agents/tools/examples/requests.html\">Requests</a></li>\\n<li class=\"toctree-l3\"><a class=\"reference internal\" href=\"modules/agents/tools/examples/search_tools.html\">Search Tools</a></li>\\n<li class=\"toctree-l3\"><a class=\"reference internal\" href=\"modules/agents/tools/examples/searx_search.html\">SearxNG Search API</a></li>\\n<li class=\"toctree-l3\"><a class=\"reference internal\" href=\"modules/agents/tools/examples/serpapi.html\">SerpAPI</a></li>\\n<li class=\"toctree-l3\"><a class=\"reference internal\" href=\"modules/agents/tools/examples/wolfram_alpha.html\">Wolfram Alpha</a></li>\\n<li class=\"toctree-l3\"><a class=\"reference internal\" href=\"modules/agents/tools/examples/zapier.html\">Zapier Natural Language Actions API</a></li>\\n\\n</ul>\\n</li>\\n<li class=\"toctree-l2 has-children\"><a class=\"reference internal\" href=\"modules/agents/agents.html\">Agents</a><input class=\"toctree-checkbox\" id=\"toctree-checkbox-26\" name=\"toctree-checkbox-26\" type=\"checkbox\"/><label class=\"toctree-toggle\" for=\"toctree-checkbox-26\"><i class=\"fa-solid fa-chevron-down\"></i></label><ul>\\n<li class=\"toctree-l3\"><a class=\"reference internal\" href=\"modules/agents/agents/agent_types.html\">Agent Types</a></li>\\n<li class=\"toctree-l3\"><a class=\"reference internal\" href=\"modules/agents/agents/custom_agent.html\">Custom Agent</a></li>\\n<li class=\"toctree-l3\"><a class=\"reference internal\" href=\"modules/agents/agents/examples/chat_conversation_agent.html\">Conversation Agent (for Chat Models)</a></li>\\n<li class=\"toctree-l3\"><a class=\"reference internal\" href=\"modules/agents/agents/examples/conversational_agent.html\">Conversation Agent</a></li>\\n<li class=\"toctree-l3\"><a class=\"reference internal\" href=\"modules/agents/agents/examples/mrkl.html\">MRKL</a></li>\\n<li class=\"toctree-l3\"><a class=\"reference internal\" href=\"modules/agents/agents/examples/mrkl_chat.html\">MRKL Chat</a></li>\\n<li class=\"toctree-l3\"><a class=\"reference internal\" href=\"modules/agents/agents/examples/react.html\">ReAct</a></li>\\n<li class=\"toctree-l3\"><a class=\"reference internal\" href=\"modules/agents/agents/examples/self_ask_with_search.html\">Self Ask With Search</a></li>\\n</ul>\\n</li>\\n<li class=\"toctree-l2 has-children\"><a class=\"reference internal\" href=\"modules/agents/toolkits.html\">Toolkits</a><input class=\"toctree-checkbox\" id=\"toctree-checkbox-27\" name=\"toctree-checkbox-27\" type=\"checkbox\"/><label class=\"toctree-toggle\" for=\"toctree-checkbox-27\"><i class=\"fa-solid fa-chevron-down\"></i></label><ul>\\n<li class=\"toctree-l3\"><a class=\"reference internal\" href=\"modules/agents/toolkits/examples/csv.html\">CSV Agent</a></li>\\n<li class=\"toctree-l3\"><a class=\"reference internal\" href=\"modules/agents/toolkits/examples/json.html\">JSON Agent</a></li>\\n<li class=\"toctree-l3\"><a class=\"reference internal\" href=\"modules/agents/toolkits/examples/openapi.html\">OpenAPI Agent</a></li>\\n<li class=\"toctree-l3\"><a class=\"reference internal\" href=\"modules/agents/toolkits/examples/pandas.html\">Pandas Dataframe Agent</a></li>\\n<li class=\"toctree-l3\"><a class=\"reference internal\" href=\"modules/agents/toolkits/examples/python.html\">Python Agent</a></li>\\n<li class=\"toctree-l3\"><a class=\"reference internal\" href=\"modules/agents/toolkits/examples/sql_database.html\">SQL Database Agent</a></li>\\n<li class=\"toctree-l3\"><a class=\"reference internal\" href=\"modules/agents/toolkits/examples/vectorstore.html\">Vectorstore Agent</a></li>\\n</ul>\\n</li>\\n<li class=\"toctree-l2 has-children\"><a class=\"reference internal\" href=\"modules/agents/agent_executors.html\">Agent Executors</a><input class=\"toctree-checkbox\" id=\"toctree-checkbox-28\" name=\"toctree-checkbox-28\" type=\"checkbox\"/><label class=\"toctree-toggle\" for=\"toctree-checkbox-28\"><i class=\"fa-solid fa-chevron-down\"></i></label><ul>\\n<li class=\"toctree-l3\"><a class=\"reference internal\" href=\"modules/agents/agent_executors/examples/agent_vectorstore.html\">How to combine agents and vectorstores</a></li>\\n<li class=\"toctree-l3\"><a class=\"reference internal\" href=\"modules/agents/agent_executors/examples/async_agent.html\">How to use the async API for Agents</a></li>\\n<li class=\"toctree-l3\"><a class=\"reference internal\" href=\"modules/agents/agent_executors/examples/chatgpt_clone.html\">How to create ChatGPT Clone</a></li>\\n<li class=\"toctree-l3\"><a class=\"reference internal\" href=\"modules/agents/agent_executors/examples/intermediate_steps.html\">How to access intermediate steps</a></li>\\n<li class=\"toctree-l3\"><a class=\"reference internal\" href=\"modules/agents/agent_executors/examples/max_iterations.html\">How to cap the max number of iterations</a></li>\\n<li class=\"toctree-l3\"><a class=\"reference internal\" href=\"modules/agents/agent_executors/examples/sharedmemory_for_tools.html\">How to add SharedMemory to an Agent and its Tools</a></li>\\n</ul>\\n</li>\\n</ul>\\n</li>\\n</ul>\\n<p aria-level=\"2\" class=\"caption\" role=\"heading\"><span class=\"caption-text\">Use Cases</span></p>\\n<ul class=\"nav bd-sidenav\">\\n<li class=\"toctree-l1\"><a class=\"reference internal\" href=\"use_cases/personal_assistants.html\">Personal Assistants</a></li>\\n<li class=\"toctree-l1\"><a class=\"reference internal\" href=\"use_cases/question_answering.html\">Question Answering over Docs</a></li>\\n<li class=\"toctree-l1\"><a class=\"reference internal\" href=\"use_cases/chatbots.html\">Chatbots</a></li>\\n<li class=\"toctree-l1\"><a class=\"reference internal\" href=\"use_cases/tabular.html\">Querying Tabular Data</a></li>\\n<li class=\"toctree-l1\"><a class=\"reference internal\" href=\"use_cases/apis.html\">Interacting with APIs</a></li>\\n<li class=\"toctree-l1\"><a class=\"reference internal\" href=\"use_cases/summarization.html\">Summarization</a></li>\\n<li class=\"toctree-l1\"><a class=\"reference internal\" href=\"use_cases/extraction.html\">Extraction</a></li>\\n<li class=\"toctree-l1 has-children\"><a class=\"reference internal\" href=\"use_cases/evaluation.html\">Evaluation</a><input class=\"toctree-checkbox\" id=\"toctree-checkbox-29\" name=\"toctree-checkbox-29\" type=\"checkbox\"/><label class=\"toctree-toggle\" for=\"toctree-checkbox-29\"><i class=\"fa-solid fa-chevron-down\"></i></label><ul>\\n<li class=\"toctree-l2\"><a class=\"reference internal\" href=\"use_cases/evaluation/agent_benchmarking.html\">Agent Benchmarking: Search + Calculator</a></li>\\n<li class=\"toctree-l2\"><a class=\"reference internal\" href=\"use_cases/evaluation/agent_vectordb_sota_pg.html\">Agent VectorDB Question Answering Benchmarking</a></li>\\n<li class=\"toctree-l2\"><a class=\"reference internal\" href=\"use_cases/evaluation/benchmarking_template.html\">Benchmarking Template</a></li>\\n<li class=\"toctree-l2\"><a class=\"reference internal\" href=\"use_cases/evaluation/data_augmented_question_answering.html\">Data Augmented Question Answering</a></li>\\n<li class=\"toctree-l2\"><a class=\"reference internal\" href=\"use_cases/evaluation/huggingface_datasets.html\">Using Hugging Face Datasets</a></li>\\n<li class=\"toctree-l2\"><a class=\"reference internal\" href=\"use_cases/evaluation/llm_math.html\">LLM Math</a></li>\\n<li class=\"toctree-l2\"><a class=\"reference internal\" href=\"use_cases/evaluation/qa_benchmarking_pg.html\">Question Answering Benchmarking: Paul Graham Essay</a></li>\\n<li class=\"toctree-l2\"><a class=\"reference internal\" href=\"use_cases/evaluation/qa_benchmarking_sota.html\">Question Answering Benchmarking: State of the Union Address</a></li>\\n<li class=\"toctree-l2\"><a class=\"reference internal\" href=\"use_cases/evaluation/qa_generation.html\">QA Generation</a></li>\\n<li class=\"toctree-l2\"><a class=\"reference internal\" href=\"use_cases/evaluation/question_answering.html\">Question Answering</a></li>\\n<li class=\"toctree-l2\"><a class=\"reference internal\" href=\"use_cases/evaluation/sql_qa_benchmarking_chinook.html\">SQL Question Answering Benchmarking: Chinook</a></li>\\n</ul>\\n</li>\\n</ul>\\n<p aria-level=\"2\" class=\"caption\" role=\"heading\"><span class=\"caption-text\">Reference</span></p>\\n<ul class=\"nav bd-sidenav\">\\n<li class=\"toctree-l1\"><a class=\"reference internal\" href=\"reference/installation.html\">Installation</a></li>\\n<li class=\"toctree-l1\"><a class=\"reference internal\" href=\"reference/integrations.html\">Integrations</a></li>\\n<li class=\"toctree-l1 has-children\"><a class=\"reference internal\" href=\"reference.html\">API References</a><input class=\"toctree-checkbox\" id=\"toctree-checkbox-30\" name=\"toctree-checkbox-30\" type=\"checkbox\"/><label class=\"toctree-toggle\" for=\"toctree-checkbox-30\"><i class=\"fa-solid fa-chevron-down\"></i></label><ul>\\n<li class=\"toctree-l2 has-children\"><a class=\"reference internal\" href=\"reference/prompts.html\">Prompts</a><input class=\"toctree-checkbox\" id=\"toctree-checkbox-31\" name=\"toctree-checkbox-31\" type=\"checkbox\"/><label class=\"toctree-toggle\" for=\"toctree-checkbox-31\"><i class=\"fa-solid fa-chevron-down\"></i></label><ul>\\n<li class=\"toctree-l3\"><a class=\"reference internal\" href=\"reference/modules/prompt.html\">PromptTemplates</a></li>\\n<li class=\"toctree-l3\"><a class=\"reference internal\" href=\"reference/modules/example_selector.html\">Example Selector</a></li>\\n</ul>\\n</li>\\n<li class=\"toctree-l2 has-children\"><a class=\"reference internal\" href=\"reference/utils.html\">Utilities</a><input class=\"toctree-checkbox\" id=\"toctree-checkbox-32\" name=\"toctree-checkbox-32\" type=\"checkbox\"/><label class=\"toctree-toggle\" for=\"toctree-checkbox-32\"><i class=\"fa-solid fa-chevron-down\"></i></label><ul>\\n<li class=\"toctree-l3\"><a class=\"reference internal\" href=\"reference/modules/python.html\">Python REPL</a></li>\\n<li class=\"toctree-l3\"><a class=\"reference internal\" href=\"reference/modules/serpapi.html\">SerpAPI</a></li>\\n<li class=\"toctree-l3\"><a class=\"reference internal\" href=\"reference/modules/searx_search.html\">SearxNG Search</a></li>\\n<li class=\"toctree-l3\"><a class=\"reference internal\" href=\"reference/modules/docstore.html\">Docstore</a></li>\\n<li class=\"toctree-l3\"><a class=\"reference internal\" href=\"reference/modules/text_splitter.html\">Text Splitter</a></li>\\n<li class=\"toctree-l3\"><a class=\"reference internal\" href=\"reference/modules/embeddings.html\">Embeddings</a></li>\\n<li class=\"toctree-l3\"><a class=\"reference internal\" href=\"reference/modules/vectorstore.html\">VectorStores</a></li>\\n</ul>\\n</li>\\n<li class=\"toctree-l2\"><a class=\"reference internal\" href=\"reference/modules/chains.html\">Chains</a></li>\\n<li class=\"toctree-l2\"><a class=\"reference internal\" href=\"reference/modules/agents.html\">Agents</a></li>\\n</ul>\\n</li>\\n</ul>\\n<p aria-level=\"2\" class=\"caption\" role=\"heading\"><span class=\"caption-text\">Ecosystem</span></p>\\n<ul class=\"nav bd-sidenav\">\\n<li class=\"toctree-l1 has-children\"><a class=\"reference internal\" href=\"ecosystem.html\">LangChain Ecosystem</a><input class=\"toctree-checkbox\" id=\"toctree-checkbox-33\" name=\"toctree-checkbox-33\" type=\"checkbox\"/><label class=\"toctree-toggle\" for=\"toctree-checkbox-33\"><i class=\"fa-solid fa-chevron-down\"></i></label><ul>\\n<li class=\"toctree-l2\"><a class=\"reference internal\" href=\"ecosystem/ai21.html\">AI21 Labs</a></li>\\n<li class=\"toctree-l2\"><a class=\"reference internal\" href=\"ecosystem/atlas.html\">AtlasDB</a></li>\\n<li class=\"toctree-l2\"><a class=\"reference internal\" href=\"ecosystem/bananadev.html\">Banana</a></li>\\n<li class=\"toctree-l2\"><a class=\"reference internal\" href=\"ecosystem/cerebriumai.html\">CerebriumAI</a></li>\\n<li class=\"toctree-l2\"><a class=\"reference internal\" href=\"ecosystem/chroma.html\">Chroma</a></li>\\n<li class=\"toctree-l2\"><a class=\"reference internal\" href=\"ecosystem/cohere.html\">Cohere</a></li>\\n<li class=\"toctree-l2\"><a class=\"reference internal\" href=\"ecosystem/deepinfra.html\">DeepInfra</a></li>\\n<li class=\"toctree-l2\"><a class=\"reference internal\" href=\"ecosystem/deeplake.html\">Deep Lake</a></li>\\n<li class=\"toctree-l2\"><a class=\"reference internal\" href=\"ecosystem/forefrontai.html\">ForefrontAI</a></li>\\n<li class=\"toctree-l2\"><a class=\"reference internal\" href=\"ecosystem/google_search.html\">Google Search Wrapper</a></li>\\n<li class=\"toctree-l2\"><a class=\"reference internal\" href=\"ecosystem/google_serper.html\">Google Serper Wrapper</a></li>\\n<li class=\"toctree-l2\"><a class=\"reference internal\" href=\"ecosystem/gooseai.html\">GooseAI</a></li>\\n<li class=\"toctree-l2\"><a class=\"reference internal\" href=\"ecosystem/graphsignal.html\">Graphsignal</a></li>\\n<li class=\"toctree-l2\"><a class=\"reference internal\" href=\"ecosystem/hazy_research.html\">Hazy Research</a></li>\\n<li class=\"toctree-l2\"><a class=\"reference internal\" href=\"ecosystem/helicone.html\">Helicone</a></li>\\n<li class=\"toctree-l2\"><a class=\"reference internal\" href=\"ecosystem/huggingface.html\">Hugging Face</a></li>\\n<li class=\"toctree-l2\"><a class=\"reference internal\" href=\"ecosystem/jina.html\">Jina</a></li>\\n<li class=\"toctree-l2\"><a class=\"reference internal\" href=\"ecosystem/milvus.html\">Milvus</a></li>\\n<li class=\"toctree-l2\"><a class=\"reference internal\" href=\"ecosystem/modal.html\">Modal</a></li>\\n<li class=\"toctree-l2\"><a class=\"reference internal\" href=\"ecosystem/nlpcloud.html\">NLPCloud</a></li>\\n<li class=\"toctree-l2\"><a class=\"reference internal\" href=\"ecosystem/openai.html\">OpenAI</a></li>\\n<li class=\"toctree-l2\"><a class=\"reference internal\" href=\"ecosystem/opensearch.html\">OpenSearch</a></li>\\n<li class=\"toctree-l2\"><a class=\"reference internal\" href=\"ecosystem/petals.html\">Petals</a></li>\\n<li class=\"toctree-l2\"><a class=\"reference internal\" href=\"ecosystem/pgvector.html\">PGVector</a></li>\\n<li class=\"toctree-l2\"><a class=\"reference internal\" href=\"ecosystem/pinecone.html\">Pinecone</a></li>\\n<li class=\"toctree-l2\"><a class=\"reference internal\" href=\"ecosystem/promptlayer.html\">PromptLayer</a></li>\\n<li class=\"toctree-l2\"><a class=\"reference internal\" href=\"ecosystem/qdrant.html\">Qdrant</a></li>\\n<li class=\"toctree-l2\"><a class=\"reference internal\" href=\"ecosystem/replicate.html\">Replicate</a></li>\\n<li class=\"toctree-l2\"><a class=\"reference internal\" href=\"ecosystem/runhouse.html\">Runhouse</a></li>\\n<li class=\"toctree-l2\"><a class=\"reference internal\" href=\"ecosystem/searx.html\">SearxNG Search API</a></li>\\n<li class=\"toctree-l2\"><a class=\"reference internal\" href=\"ecosystem/serpapi.html\">SerpAPI</a></li>\\n<li class=\"toctree-l2\"><a class=\"reference internal\" href=\"ecosystem/stochasticai.html\">StochasticAI</a></li>\\n<li class=\"toctree-l2\"><a class=\"reference internal\" href=\"ecosystem/unstructured.html\">Unstructured</a></li>\\n<li class=\"toctree-l2\"><a class=\"reference internal\" href=\"ecosystem/wandb_tracking.html\">Weights &amp; Biases</a></li>\\n<li class=\"toctree-l2\"><a class=\"reference internal\" href=\"ecosystem/weaviate.html\">Weaviate</a></li>\\n<li class=\"toctree-l2\"><a class=\"reference internal\" href=\"ecosystem/wolfram_alpha.html\">Wolfram Alpha Wrapper</a></li>\\n<li class=\"toctree-l2\"><a class=\"reference internal\" href=\"ecosystem/writer.html\">Writer</a></li>\\n</ul>\\n</li>\\n</ul>\\n<p aria-level=\"2\" class=\"caption\" role=\"heading\"><span class=\"caption-text\">Additional Resources</span></p>\\n<ul class=\"nav bd-sidenav\">\\n<li class=\"toctree-l1\"><a class=\"reference external\" href=\"https://github.com/hwchase17/langchain-hub\">LangChainHub</a></li>\\n<li class=\"toctree-l1\"><a class=\"reference internal\" href=\"glossary.html\">Glossary</a></li>\\n<li class=\"toctree-l1\"><a class=\"reference internal\" href=\"gallery.html\">LangChain Gallery</a></li>\\n<li class=\"toctree-l1\"><a class=\"reference internal\" href=\"deployments.html\">Deployments</a></li>\\n<li class=\"toctree-l1\"><a class=\"reference internal\" href=\"tracing.html\">Tracing</a></li>\\n<li class=\"toctree-l1\"><a class=\"reference external\" href=\"https://discord.gg/6adMQxSpJS\">Discord</a></li>\\n<li class=\"toctree-l1\"><a class=\"reference external\" href=\"https://forms.gle/57d8AmXBYp8PP8tZA\">Production Support</a></li>\\n</ul>\\n\\n    </div>\\n</nav></div>\\n    </div>\\n  \\n  \\n  <div class=\"sidebar-primary-items__end sidebar-primary__section\">\\n      <div class=\"sidebar-primary-item\">\\n  <div id=\"ethical-ad-placement\"\\n       class=\"flat\"\\n       data-ea-publisher=\"readthedocs\"\\n       data-ea-type=\"readthedocs-sidebar\"\\n       data-ea-manual=\"true\">\\n  </div>\\n</div>\\n  </div>\\n  \\n  <div id=\"rtd-footer-container\"></div>\\n\\n\\n      </div>\\n      \\n      <main id=\"main-content\" class=\"bd-main\">\\n        \\n        \\n\\n<div class=\"sbt-scroll-pixel-helper\"></div>\\n\\n          <div class=\"bd-content\">\\n            <div class=\"bd-article-container\">\\n              \\n              <div class=\"bd-header-article\">\\n<div class=\"header-article-items header-article__inner\">\\n  \\n    <div class=\"header-article-items__start\">\\n      \\n        <div class=\"header-article-item\"><label class=\"sidebar-toggle primary-toggle btn btn-sm\" for=\"__primary\" title=\"Toggle primary sidebar\" data-bs-placement=\"bottom\" data-bs-toggle=\"tooltip\">\\n  <span class=\"fa-solid fa-bars\"></span>\\n</label></div>\\n      \\n    </div>\\n  \\n  \\n    <div class=\"header-article-items__end\">\\n      \\n        <div class=\"header-article-item\">\\n\\n<div class=\"article-header-buttons\">\\n\\n\\n<a href=\"https://github.com/hwchase17/langchain\" target=\"_blank\"\\n   class=\"btn btn-sm btn-source-repository-button\"\\n   title=\"Source repository\"\\n   data-bs-placement=\"bottom\" data-bs-toggle=\"tooltip\"\\n>\\n  \\n\\n<span class=\"btn__icon-container\">\\n  <i class=\"fab fa-github\"></i>\\n  </span>\\n\\n</a>\\n\\n\\n\\n\\n\\n\\n<div class=\"dropdown dropdown-download-buttons\">\\n  <button class=\"btn dropdown-toggle\" type=\"button\" data-bs-toggle=\"dropdown\" aria-expanded=\"false\" aria-label=\"Download this page\">\\n    <i class=\"fas fa-download\"></i>\\n  </button>\\n  <ul class=\"dropdown-menu\">\\n      \\n      \\n      \\n      <li><a href=\"_sources/index.rst\" target=\"_blank\"\\n   class=\"btn btn-sm btn-download-source-button dropdown-item\"\\n   title=\"Download source file\"\\n   data-bs-placement=\"left\" data-bs-toggle=\"tooltip\"\\n>\\n  \\n\\n<span class=\"btn__icon-container\">\\n  <i class=\"fas fa-file\"></i>\\n  </span>\\n<span class=\"btn__text-container\">.rst</span>\\n</a>\\n</li>\\n      \\n      \\n      \\n      \\n      <li>\\n<button onclick=\"window.print()\"\\n  class=\"btn btn-sm btn-download-pdf-button dropdown-item\"\\n  title=\"Print to PDF\"\\n  data-bs-placement=\"left\" data-bs-toggle=\"tooltip\"\\n>\\n  \\n\\n<span class=\"btn__icon-container\">\\n  <i class=\"fas fa-file-pdf\"></i>\\n  </span>\\n<span class=\"btn__text-container\">.pdf</span>\\n</button>\\n</li>\\n      \\n  </ul>\\n</div>\\n\\n\\n\\n\\n<button onclick=\"toggleFullScreen()\"\\n  class=\"btn btn-sm btn-fullscreen-button\"\\n  title=\"Fullscreen mode\"\\n  data-bs-placement=\"bottom\" data-bs-toggle=\"tooltip\"\\n>\\n  \\n\\n<span class=\"btn__icon-container\">\\n  <i class=\"fas fa-expand\"></i>\\n  </span>\\n\\n</button>\\n\\n\\n<script>\\ndocument.write(`\\n  <button class=\"theme-switch-button btn btn-sm btn-outline-primary navbar-btn rounded-circle\" title=\"light/dark\" aria-label=\"light/dark\" data-bs-placement=\"bottom\" data-bs-toggle=\"tooltip\">\\n    <span class=\"theme-switch\" data-mode=\"light\"><i class=\"fa-solid fa-sun\"></i></span>\\n    <span class=\"theme-switch\" data-mode=\"dark\"><i class=\"fa-solid fa-moon\"></i></span>\\n    <span class=\"theme-switch\" data-mode=\"auto\"><i class=\"fa-solid fa-circle-half-stroke\"></i></span>\\n  </button>\\n`);\\n</script>\\n\\n<script>\\ndocument.write(`\\n  <button class=\"btn btn-sm navbar-btn search-button search-button__button\" title=\"Search\" aria-label=\"Search\" data-bs-placement=\"bottom\" data-bs-toggle=\"tooltip\">\\n    <i class=\"fa-solid fa-magnifying-glass\"></i>\\n  </button>\\n`);\\n</script>\\n<label class=\"sidebar-toggle secondary-toggle btn btn-sm\" for=\"__secondary\"title=\"Toggle secondary sidebar\" data-bs-placement=\"bottom\" data-bs-toggle=\"tooltip\">\\n    <span class=\"fa-solid fa-list\"></span>\\n</label>\\n</div></div>\\n      \\n    </div>\\n  \\n</div>\\n</div>\\n              \\n              \\n\\n<div id=\"jb-print-docs-body\" class=\"onlyprint\">\\n    <h1>Welcome to LangChain</h1>\\n    <!-- Table of contents -->\\n    <div id=\"print-main-content\">\\n        <div id=\"jb-print-toc\">\\n            \\n            <div>\\n                <h2> Contents </h2>\\n            </div>\\n            <nav aria-label=\"Page\">\\n                <ul class=\"visible nav section-nav flex-column\">\\n<li class=\"toc-h2 nav-item toc-entry\"><a class=\"reference internal nav-link\" href=\"#getting-started\">Getting Started</a></li>\\n<li class=\"toc-h2 nav-item toc-entry\"><a class=\"reference internal nav-link\" href=\"#modules\">Modules</a></li>\\n<li class=\"toc-h2 nav-item toc-entry\"><a class=\"reference internal nav-link\" href=\"#use-cases\">Use Cases</a></li>\\n<li class=\"toc-h2 nav-item toc-entry\"><a class=\"reference internal nav-link\" href=\"#reference-docs\">Reference Docs</a></li>\\n<li class=\"toc-h2 nav-item toc-entry\"><a class=\"reference internal nav-link\" href=\"#langchain-ecosystem\">LangChain Ecosystem</a></li>\\n<li class=\"toc-h2 nav-item toc-entry\"><a class=\"reference internal nav-link\" href=\"#additional-resources\">Additional Resources</a></li>\\n</ul>\\n            </nav>\\n        </div>\\n    </div>\\n</div>\\n\\n              \\n                \\n<div id=\"searchbox\"></div>\\n                <article class=\"bd-article\" role=\"main\">\\n                  \\n  <section id=\"welcome-to-langchain\">\\n<h1>Welcome to LangChain<a class=\"headerlink\" href=\"#welcome-to-langchain\" title=\"Permalink to this headline\">#</a></h1>\\n<p>LangChain is a framework for developing applications powered by language models. We believe that the most powerful and differentiated applications will not only call out to a language model via an API, but will also:</p>\\n<ul class=\"simple\">\\n<li><p><em>Be data-aware</em>: connect a language model to other sources of data</p></li>\\n<li><p><em>Be agentic</em>: allow a language model to interact with its environment</p></li>\\n</ul>\\n<p>The LangChain framework is designed with the above principles in mind.</p>\\n<p>This is the Python specific portion of the documentation. For a purely conceptual guide to LangChain, see <a class=\"reference external\" href=\"https://docs.langchain.com/docs/\">here</a>. For the JavaScript documentation, see <a class=\"reference external\" href=\"https://js.langchain.com/docs/\">here</a>.</p>\\n<section id=\"getting-started\">\\n<h2>Getting Started<a class=\"headerlink\" href=\"#getting-started\" title=\"Permalink to this headline\">#</a></h2>\\n<p>Checkout the below guide for a walkthrough of how to get started using LangChain to create an Language Model application.</p>\\n<ul class=\"simple\">\\n<li><p><a class=\"reference external\" href=\"./getting_started/getting_started.html\">Getting Started Documentation</a></p></li>\\n</ul>\\n<div class=\"toctree-wrapper compound\" id=\"id2\">\\n</div>\\n</section>\\n<section id=\"modules\">\\n<h2>Modules<a class=\"headerlink\" href=\"#modules\" title=\"Permalink to this headline\">#</a></h2>\\n<p>There are several main modules that LangChain provides support for.\\nFor each module we provide some examples to get started, how-to guides, reference docs, and conceptual guides.\\nThese modules are, in increasing order of complexity:</p>\\n<ul class=\"simple\">\\n<li><p><a class=\"reference external\" href=\"./modules/models.html\">Models</a>: The various model types and model integrations LangChain supports.</p></li>\\n<li><p><a class=\"reference external\" href=\"./modules/prompts.html\">Prompts</a>: This includes prompt management, prompt optimization, and prompt serialization.</p></li>\\n<li><p><a class=\"reference external\" href=\"./modules/memory.html\">Memory</a>: Memory is the concept of persisting state between calls of a chain/agent. LangChain provides a standard interface for memory, a collection of memory implementations, and examples of chains/agents that use memory.</p></li>\\n<li><p><a class=\"reference external\" href=\"./modules/indexes.html\">Indexes</a>: Language models are often more powerful when combined with your own text data - this module covers best practices for doing exactly that.</p></li>\\n<li><p><a class=\"reference external\" href=\"./modules/chains.html\">Chains</a>: Chains go beyond just a single LLM call, and are sequences of calls (whether to an LLM or a different utility). LangChain provides a standard interface for chains, lots of integrations with other tools, and end-to-end chains for common applications.</p></li>\\n<li><p><a class=\"reference external\" href=\"./modules/agents.html\">Agents</a>: Agents involve an LLM making decisions about which Actions to take, taking that Action, seeing an Observation, and repeating that until done. LangChain provides a standard interface for agents, a selection of agents to choose from, and examples of end to end agents.</p></li>\\n</ul>\\n<div class=\"toctree-wrapper compound\" id=\"id3\">\\n</div>\\n</section>\\n<section id=\"use-cases\">\\n<h2>Use Cases<a class=\"headerlink\" href=\"#use-cases\" title=\"Permalink to this headline\">#</a></h2>\\n<p>The above modules can be used in a variety of ways. LangChain also provides guidance and assistance in this. Below are some of the common use cases LangChain supports.</p>\\n<ul class=\"simple\">\\n<li><p><a class=\"reference external\" href=\"./use_cases/personal_assistants.html\">Personal Assistants</a>: The main LangChain use case. Personal assistants need to take actions, remember interactions, and have knowledge about your data.</p></li>\\n<li><p><a class=\"reference external\" href=\"./use_cases/question_answering.html\">Question Answering</a>: The second big LangChain use case. Answering questions over specific documents, only utilizing the information in those documents to construct an answer.</p></li>\\n<li><p><a class=\"reference external\" href=\"./use_cases/chatbots.html\">Chatbots</a>: Since language models are good at producing text, that makes them ideal for creating chatbots.</p></li>\\n<li><p><a class=\"reference external\" href=\"./use_cases/tabular.html\">Querying Tabular Data</a>: If you want to understand how to use LLMs to query data that is stored in a tabular format (csvs, SQL, dataframes, etc) you should read this page.</p></li>\\n<li><p><a class=\"reference external\" href=\"./use_cases/apis.html\">Interacting with APIs</a>: Enabling LLMs to interact with APIs is extremely powerful in order to give them more up-to-date information and allow them to take actions.</p></li>\\n<li><p><a class=\"reference external\" href=\"./use_cases/extraction.html\">Extraction</a>: Extract structured information from text.</p></li>\\n<li><p><a class=\"reference external\" href=\"./use_cases/summarization.html\">Summarization</a>: Summarizing longer documents into shorter, more condensed chunks of information. A type of Data Augmented Generation.</p></li>\\n<li><p><a class=\"reference external\" href=\"./use_cases/evaluation.html\">Evaluation</a>: Generative models are notoriously hard to evaluate with traditional metrics. One new way of evaluating them is using language models themselves to do the evaluation. LangChain provides some prompts/chains for assisting in this.</p></li>\\n</ul>\\n<div class=\"toctree-wrapper compound\" id=\"id4\">\\n</div>\\n</section>\\n<section id=\"reference-docs\">\\n<h2>Reference Docs<a class=\"headerlink\" href=\"#reference-docs\" title=\"Permalink to this headline\">#</a></h2>\\n<p>All of LangChain’s reference documentation, in one place. Full documentation on all methods, classes, installation methods, and integration setups for LangChain.</p>\\n<ul class=\"simple\">\\n<li><p><a class=\"reference external\" href=\"./reference.html\">Reference Documentation</a></p></li>\\n</ul>\\n<div class=\"toctree-wrapper compound\" id=\"reference\">\\n</div>\\n</section>\\n<section id=\"langchain-ecosystem\">\\n<h2>LangChain Ecosystem<a class=\"headerlink\" href=\"#langchain-ecosystem\" title=\"Permalink to this headline\">#</a></h2>\\n<p>Guides for how other companies/products can be used with LangChain</p>\\n<ul class=\"simple\">\\n<li><p><a class=\"reference external\" href=\"./ecosystem.html\">LangChain Ecosystem</a></p></li>\\n</ul>\\n<div class=\"toctree-wrapper compound\" id=\"ecosystem\">\\n</div>\\n</section>\\n<section id=\"additional-resources\">\\n<h2>Additional Resources<a class=\"headerlink\" href=\"#additional-resources\" title=\"Permalink to this headline\">#</a></h2>\\n<p>Additional collection of resources we think may be useful as you develop your application!</p>\\n<ul class=\"simple\">\\n<li><p><a class=\"reference external\" href=\"https://github.com/hwchase17/langchain-hub\">LangChainHub</a>: The LangChainHub is a place to share and explore other prompts, chains, and agents.</p></li>\\n<li><p><a class=\"reference external\" href=\"./glossary.html\">Glossary</a>: A glossary of all related terms, papers, methods, etc. Whether implemented in LangChain or not!</p></li>\\n<li><p><a class=\"reference external\" href=\"./gallery.html\">Gallery</a>: A collection of our favorite projects that use LangChain. Useful for finding inspiration or seeing how things were done in other applications.</p></li>\\n<li><p><a class=\"reference external\" href=\"./deployments.html\">Deployments</a>: A collection of instructions, code snippets, and template repositories for deploying LangChain apps.</p></li>\\n<li><p><a class=\"reference external\" href=\"./tracing.html\">Tracing</a>: A guide on using tracing in LangChain to visualize the execution of chains and agents.</p></li>\\n<li><p><a class=\"reference external\" href=\"./model_laboratory.html\">Model Laboratory</a>: Experimenting with different prompts, models, and chains is a big part of developing the best possible application. The ModelLaboratory makes it easy to do so.</p></li>\\n<li><p><a class=\"reference external\" href=\"https://discord.gg/6adMQxSpJS\">Discord</a>: Join us on our Discord to discuss all things LangChain!</p></li>\\n<li><p><a class=\"reference external\" href=\"https://forms.gle/57d8AmXBYp8PP8tZA\">Production Support</a>: As you move your LangChains into production, we’d love to offer more comprehensive support. Please fill out this form and we’ll set up a dedicated support Slack channel.</p></li>\\n</ul>\\n<div class=\"toctree-wrapper compound\" id=\"resources\">\\n</div>\\n</section>\\n</section>\\n\\n\\n                </article>\\n              \\n\\n              \\n              \\n                <footer class=\"bd-footer-article\">\\n                  <!-- Previous / next buttons -->\\n<div class=\"prev-next-area\">\\n    <a class=\"right-next\"\\n       href=\"getting_started/getting_started.html\"\\n       title=\"next page\">\\n      <div class=\"prev-next-info\">\\n        <p class=\"prev-next-subtitle\">next</p>\\n        <p class=\"prev-next-title\">Quickstart Guide</p>\\n      </div>\\n      <i class=\"fa-solid fa-angle-right\"></i>\\n    </a>\\n</div>\\n                </footer>\\n              \\n            </div>\\n            \\n            \\n              \\n                <div class=\"bd-sidebar-secondary bd-toc\"><div class=\"sidebar-secondary-items sidebar-secondary__inner\">\\n\\n  <div class=\"sidebar-secondary-item\">\\n  <div class=\"page-toc tocsection onthispage\">\\n    <i class=\"fa-solid fa-list\"></i> Contents\\n  </div>\\n  <nav class=\"bd-toc-nav page-toc\">\\n    <ul class=\"visible nav section-nav flex-column\">\\n<li class=\"toc-h2 nav-item toc-entry\"><a class=\"reference internal nav-link\" href=\"#getting-started\">Getting Started</a></li>\\n<li class=\"toc-h2 nav-item toc-entry\"><a class=\"reference internal nav-link\" href=\"#modules\">Modules</a></li>\\n<li class=\"toc-h2 nav-item toc-entry\"><a class=\"reference internal nav-link\" href=\"#use-cases\">Use Cases</a></li>\\n<li class=\"toc-h2 nav-item toc-entry\"><a class=\"reference internal nav-link\" href=\"#reference-docs\">Reference Docs</a></li>\\n<li class=\"toc-h2 nav-item toc-entry\"><a class=\"reference internal nav-link\" href=\"#langchain-ecosystem\">LangChain Ecosystem</a></li>\\n<li class=\"toc-h2 nav-item toc-entry\"><a class=\"reference internal nav-link\" href=\"#additional-resources\">Additional Resources</a></li>\\n</ul>\\n  </nav></div>\\n\\n</div></div>\\n              \\n            \\n          </div>\\n          <footer class=\"bd-footer-content\">\\n            <div class=\"bd-footer-content__inner\">\\n<div class=\"bd-footer-content__inner container\">\\n  \\n  <div class=\"footer-item\">\\n    \\n<p class=\"component-author\">\\nBy Harrison Chase\\n</p>\\n\\n  </div>\\n  \\n  <div class=\"footer-item\">\\n    \\n  <p class=\"copyright\">\\n    \\n      © Copyright 2023, Harrison Chase.\\n      <br/>\\n    \\n  </p>\\n\\n  </div>\\n  \\n  <div class=\"footer-item\">\\n    <p class=\"last-updated\">\\n  Last updated on Mar 29, 2023.\\n  <br/>\\n</p>\\n  </div>\\n  \\n  <div class=\"footer-item\">\\n    \\n  </div>\\n  \\n</div></div>\\n          </footer>\\n        \\n\\n      </main>\\n    </div>\\n  </div>\\n  \\n  <!-- Scripts loaded after <body> so the DOM is not blocked -->\\n  <script src=\"_static/scripts/bootstrap.js?digest=12da95d707ffb74b382d\"></script>\\n<script src=\"_static/scripts/pydata-sphinx-theme.js?digest=12da95d707ffb74b382d\"></script>\\n\\n  <footer class=\"bd-footer\">\\n  </footer>\\n  </body>\\n</html>'"
      ]
     },
     "execution_count": 2,
     "metadata": {},
     "output_type": "execute_result"
    }
   ],
   "source": [
    "response.text"
   ]
  },
  {
   "cell_type": "code",
   "execution_count": 3,
   "metadata": {},
   "outputs": [],
   "source": [
    "from bs4 import BeautifulSoup\n",
    "import urllib.parse\n",
    "import html\n",
    "import re\n",
    "\n",
    "domain = \"https://langchain.readthedocs.io/\"\n",
    "domain_full = domain + \"en/latest/\"\n",
    "\n",
    "response = requests.get(domain_full)\n",
    "\n",
    "\n",
    "soup = BeautifulSoup(response.text, \"html.parser\")\n",
    "\n",
    "local_links = []\n",
    "\n",
    "for link in soup.find_all(\"a\", href=True):\n",
    "    href = link[\"href\"]\n",
    "    if href.startswith(domain) or href.startswith(\"./\") \\\n",
    "        or href.startswith(\"/\") or href.startswith(\"modules\") or href.startswith(\"use_cases\"):\n",
    "        local_links.append(urllib.parse.urljoin(domain_full, href))"
   ]
  },
  {
   "cell_type": "code",
   "execution_count": 4,
   "metadata": {},
   "outputs": [],
   "source": [
    "def scrape(url: str):\n",
    "    response = requests.get(url)\n",
    "    if \"404\" in str(response):\n",
    "        return\n",
    "    \n",
    "    soup = BeautifulSoup(response.text, \"html.parser\")\n",
    "\n",
    "    local_links = []\n",
    "\n",
    "    for link in soup.find_all(\"a\", href=True):\n",
    "        href = link[\"href\"]\n",
    "        if href.startswith(domain) or href.startswith(\"./\") \\\n",
    "        or href.startswith(\"/\") or href.startswith(\"modules\") or href.startswith(\"use_cases\"):\n",
    "            local_links.append(urllib.parse.urljoin(domain_full, href))\n",
    "        \n",
    "    main_content = soup.select(\"body main\")[0]\n",
    "    main_content_text = main_content.get_text()\n",
    "    main_content_text = re.sub(r\"<[^>]+>\", \"\", main_content_text)\n",
    "    main_content_text = \" \".join(main_content_text.split())\n",
    "    main_content_text = html.unescape(main_content_text)\n",
    "\n",
    "    return {\"url\": url, \"text\": main_content_text}, local_links"
   ]
  },
  {
   "cell_type": "code",
   "execution_count": 5,
   "metadata": {},
   "outputs": [
    {
     "name": "stdout",
     "output_type": "stream",
     "text": [
      "[0001] - https://langchain.readthedocs.io/en/latest/\n",
      "[0002] - https://langchain.readthedocs.io/en/latest/modules/agents/toolkits/examples/python.html\n",
      "[0003] - https://langchain.readthedocs.io/en/latest/modules/indexes/document_loaders/examples/youtube.html\n",
      "[0004] - https://langchain.readthedocs.io/en/latest/modules/memory/examples/agent_with_memory.html\n",
      "[0005] - https://langchain.readthedocs.io/en/latest/modules/indexes/document_loaders/examples/bigquery.html\n",
      "[0006] - https://langchain.readthedocs.io/en/latest/modules/chains/index_examples/vector_db_text_generation.html\n",
      "[0007] - https://langchain.readthedocs.io/en/latest/modules/indexes/document_loaders/examples/gcs_file.html\n",
      "[0008] - https://langchain.readthedocs.io/en/latest/modules/agents/tools/examples/human_tools.html\n",
      "[0009] - https://langchain.readthedocs.io/en/latest/modules/indexes/text_splitters/examples/nltk.html\n",
      "[0010] - https://langchain.readthedocs.io/en/latest/model_laboratory.html\n",
      "[0011] - https://langchain.readthedocs.io/en/latest/use_cases/evaluation/agent_benchmarking.html\n",
      "[0012] - https://langchain.readthedocs.io/en/latest/modules/models/llms/integrations/replicate.html\n",
      "[0013] - https://langchain.readthedocs.io/en/latest/modules/indexes/document_loaders/examples/srt.html\n",
      "[0014] - https://langchain.readthedocs.io/en/latest/modules/indexes/document_loaders/examples/powerpoint.html\n",
      "[0015] - https://langchain.readthedocs.io/en/latest/modules/indexes/document_loaders/examples/gitbook.html\n",
      "[0016] - https://langchain.readthedocs.io/en/latest/modules/indexes/document_loaders/examples/telegram.html\n",
      "[0017] - https://langchain.readthedocs.io/en/latest/modules/chains.html\n",
      "[0018] - https://langchain.readthedocs.io/en/latest/ecosystem.html\n",
      "[0019] - https://langchain.readthedocs.io/en/latest/modules/models/llms/integrations/azure_openai_example.html\n",
      "[0020] - https://langchain.readthedocs.io/en/latest/modules/indexes/document_loaders/examples/airbyte_json.html\n",
      "[0021] - https://langchain.readthedocs.io/en/latest/modules/agents/tools/examples/searx_search.html\n",
      "[0022] - https://langchain.readthedocs.io/en/latest/modules/indexes/document_loaders/examples/directory_loader.html\n",
      "[0023] - https://langchain.readthedocs.io/en/latest/use_cases/apis.html\n",
      "[0024] - https://langchain.readthedocs.io/en/latest/modules/prompts/output_parsers/examples/output_fixing_parser.html\n",
      "[0025] - https://langchain.readthedocs.io/en/latest/modules/agents/agent_executors/examples/sharedmemory_for_tools.html\n",
      "[0026] - https://langchain.readthedocs.io/en/latest/modules/prompts/output_parsers/examples/comma_separated.html\n",
      "[0027] - https://langchain.readthedocs.io/en/latest/modules/indexes/document_loaders/examples/word_document.html\n",
      "[0028] - https://langchain.readthedocs.io/en/latest/modules/agents/agents/examples/mrkl.html\n",
      "[0029] - https://langchain.readthedocs.io/en/latest/modules/agents/tools/multi_input_tool.html\n",
      "[0030] - https://langchain.readthedocs.io/en/latest/modules/prompts/example_selectors/examples/custom_example_selector.html\n",
      "[0031] - https://langchain.readthedocs.io/en/latest/modules/models/llms/integrations/aleph_alpha.html\n",
      "[0032] - https://langchain.readthedocs.io/en/latest/modules/prompts/prompt_templates/getting_started.html\n",
      "[0033] - https://langchain.readthedocs.io/en/latest/modules/models/llms/examples/async_llm.html\n",
      "[0034] - https://langchain.readthedocs.io/en/latest/modules/memory/examples/adding_memory.html\n",
      "[0035] - https://langchain.readthedocs.io/en/latest/modules/memory/examples/redis_chat_message_history.html\n",
      "[0036] - https://langchain.readthedocs.io/en/latest/modules/models/llms/integrations/cohere.html\n",
      "[0037] - https://langchain.readthedocs.io/en/latest/modules/models/text_embedding/examples/fake.html\n",
      "[0038] - https://langchain.readthedocs.io/en/latest/modules/indexes/text_splitters/examples/recursive_text_splitter.html\n",
      "[0039] - https://langchain.readthedocs.io/en/latest/modules/indexes/document_loaders/examples/azlyrics.html\n",
      "[0040] - https://langchain.readthedocs.io/en/latest/chains/getting_started.html\n",
      "[0041] - https://langchain.readthedocs.io/en/latest/modules/chains/generic/serialization.html\n",
      "[0042] - https://langchain.readthedocs.io/en/latest/modules/agents/toolkits/examples/sql_database.html\n",
      "[0043] - https://langchain.readthedocs.io/en/latest/modules/models/llms/integrations/petals_example.html\n",
      "[0044] - https://langchain.readthedocs.io/en/latest/modules/indexes/document_loaders/examples/notiondb.html\n",
      "[0045] - https://langchain.readthedocs.io/en/latest/modules/indexes/vectorstores/examples/atlas.html\n",
      "[0046] - https://langchain.readthedocs.io/en/latest/modules/agents/toolkits/examples/json.html\n",
      "[0047] - https://langchain.readthedocs.io/en/latest/use_cases/evaluation/question_answering.html\n",
      "[0048] - https://langchain.readthedocs.io/en/latest/modules/chains/index_examples/chat_vector_db.html\n",
      "[0049] - https://langchain.readthedocs.io/en/latest/use_cases/evaluation/huggingface_datasets.html\n",
      "[0050] - https://langchain.readthedocs.io/en/latest/modules/models/llms/examples/fake_llm.html\n",
      "[0051] - https://langchain.readthedocs.io/en/latest/modules/models/chat/integrations.html\n",
      "[0052] - https://langchain.readthedocs.io/en/latest/use_cases/evaluation/agent_vectordb_sota_pg.html\n",
      "[0053] - https://langchain.readthedocs.io/en/latest/modules/agents/tools/examples/wolfram_alpha.html\n",
      "[0054] - https://langchain.readthedocs.io/en/latest/modules/chains/index_examples/graph_qa.html\n",
      "[0055] - https://langchain.readthedocs.io/en/latest/modules/indexes/document_loaders/examples/facebook_chat.html\n",
      "[0056] - https://langchain.readthedocs.io/en/latest/modules/indexes/text_splitters/examples/latex.html\n",
      "[0057] - https://langchain.readthedocs.io/en/latest/modules/agents/tools/examples/ifttt.html\n",
      "[0058] - https://langchain.readthedocs.io/en/latest/modules/agents/toolkits/examples/vectorstore.html\n",
      "[0059] - https://langchain.readthedocs.io/en/latest/modules/indexes/document_loaders/examples/unstructured_file.html\n",
      "[0060] - https://langchain.readthedocs.io/en/latest/modules/indexes/document_loaders/examples/email.html\n",
      "[0061] - https://langchain.readthedocs.io/en/latest/modules/models/llms/examples/llm_serialization.html\n",
      "[0062] - https://langchain.readthedocs.io/en/latest/modules/indexes/vectorstores/examples/weaviate.html\n",
      "[0063] - https://langchain.readthedocs.io/en/latest/modules/models/chat.html\n",
      "[0064] - https://langchain.readthedocs.io/en/latest/chat/how_to_guides.html\n",
      "[0065] - https://langchain.readthedocs.io/en/latest/modules/agents/tools/examples/requests.html\n",
      "[0066] - https://langchain.readthedocs.io/en/latest/modules/indexes/document_loaders/examples/obsidian.html\n",
      "[0067] - https://langchain.readthedocs.io/en/latest/modules/agents/tools/examples/google_search.html\n",
      "[0068] - https://langchain.readthedocs.io/en/latest/modules/memory/examples/multiple_memory.html\n",
      "[0069] - https://langchain.readthedocs.io/en/latest/use_cases/evaluation/sql_qa_benchmarking_chinook.html\n",
      "[0070] - https://langchain.readthedocs.io/en/latest/modules/prompts/prompt_templates/examples/custom_prompt_template.html\n",
      "[0071] - https://langchain.readthedocs.io/en/latest/modules/models/chat/how_to_guides.html\n",
      "[0072] - https://langchain.readthedocs.io/en/latest/modules/models/llms/examples/llm_caching.html\n",
      "[0073] - https://langchain.readthedocs.io/en/latest/modules/models/llms/examples/token_usage_tracking.html\n",
      "[0074] - https://langchain.readthedocs.io/en/latest/modules/indexes/document_loaders/examples/html.html\n",
      "[0075] - https://langchain.readthedocs.io/en/latest/modules/indexes/document_loaders/examples/notion.html\n",
      "[0076] - https://langchain.readthedocs.io/en/latest/modules/models/chat/examples/streaming.html\n",
      "[0077] - https://langchain.readthedocs.io/en/latest/modules/models/llms.html\n",
      "[0078] - https://langchain.readthedocs.io/en/latest/modules/indexes/document_loaders/examples/dataframe.html\n",
      "[0079] - https://langchain.readthedocs.io/en/latest/modules/indexes/document_loaders/examples/whatsapp_chat.html\n",
      "[0080] - https://langchain.readthedocs.io/en/latest/modules/models/llms/integrations/banana.html\n",
      "[0081] - https://langchain.readthedocs.io/en/latest/modules/models/llms/integrations.html\n",
      "[0082] - https://langchain.readthedocs.io/en/latest/modules/indexes/text_splitters/getting_started.html\n",
      "[0083] - https://langchain.readthedocs.io/en/latest/modules/chains/generic/llm_chain.html\n",
      "[0084] - https://langchain.readthedocs.io/en/latest/modules/agents/tools.html\n",
      "[0085] - https://langchain.readthedocs.io/en/latest/modules/agents/tools/examples/chatgpt_plugins.html\n",
      "[0086] - https://langchain.readthedocs.io/en/latest/use_cases/evaluation/llm_math.html\n",
      "[0087] - https://langchain.readthedocs.io/en/latest/modules/indexes/text_splitters/examples/character_text_splitter.html\n",
      "[0088] - https://langchain.readthedocs.io/en/latest/modules/prompts/example_selectors/examples/similarity.html\n",
      "[0089] - https://langchain.readthedocs.io/en/latest/modules/models/llms/integrations/forefrontai_example.html\n",
      "[0090] - https://langchain.readthedocs.io/en/latest/modules/prompts/prompt_templates/examples/prompt_serialization.html\n",
      "[0091] - https://langchain.readthedocs.io/en/latest/modules/indexes/text_splitters/examples/markdown.html\n",
      "[0092] - https://langchain.readthedocs.io/en/latest/modules/chains/index_examples/vector_db_qa.html\n",
      "[0093] - https://langchain.readthedocs.io/en/latest/modules/chains/examples/constitutional_chain.html\n",
      "[0094] - https://langchain.readthedocs.io/en/latest/use_cases/chatbots.html\n",
      "[0095] - https://langchain.readthedocs.io/en/latest/modules/models/text_embedding.html\n",
      "[0096] - https://langchain.readthedocs.io/en/latest/modules/models/text_embedding/examples/huggingfacehub.html\n",
      "[0097] - https://langchain.readthedocs.io/en/latest/modules/prompts/output_parsers/examples/retry.html\n",
      "[0098] - https://langchain.readthedocs.io/en/latest/modules/agents/tools/examples/google_serper.html\n",
      "[0099] - https://langchain.readthedocs.io/en/latest/modules/chains/generic/transformation.html\n",
      "[0100] - https://langchain.readthedocs.io/en/latest/modules/models/chat/getting_started.html\n",
      "[0101] - https://langchain.readthedocs.io/en/latest/modules/indexes/document_loaders/examples/image.html\n",
      "[0102] - https://langchain.readthedocs.io/en/latest/llms/getting_started.html\n",
      "[0103] - https://langchain.readthedocs.io/en/latest/use_cases/personal_assistants.html\n",
      "[0104] - https://langchain.readthedocs.io/en/latest/modules/memory/examples/conversational_customization.html\n",
      "[0105] - https://langchain.readthedocs.io/en/latest/modules/prompts/prompt_templates/how_to_guides.html\n",
      "[0106] - https://langchain.readthedocs.io/en/latest/modules/models/text_embedding/examples/self-hosted.html\n",
      "[0107] - https://langchain.readthedocs.io/en/latest/modules/agents/agents.html\n",
      "[0108] - https://langchain.readthedocs.io/en/latest/modules/indexes/vectorstores/examples/opensearch.html\n",
      "[0109] - https://langchain.readthedocs.io/en/latest/modules/prompts/example_selectors/examples/ngram_overlap.html\n",
      "[0110] - https://langchain.readthedocs.io/en/latest/modules/prompts/chat_prompt_template.html\n",
      "[0111] - https://langchain.readthedocs.io/en/latest/modules/models/text_embedding/examples/instruct_embeddings.html\n",
      "[0112] - https://langchain.readthedocs.io/en/latest/modules/indexes/document_loaders/examples/sitemap.html\n",
      "[0113] - https://langchain.readthedocs.io/en/latest/llms/integrations.html\n",
      "[0114] - https://langchain.readthedocs.io/en/latest/modules/indexes/text_splitters/examples/tiktoken.html\n",
      "[0115] - https://langchain.readthedocs.io/en/latest/modules/models/chat/examples/few_shot_examples.html\n",
      "[0116] - https://langchain.readthedocs.io/en/latest/modules/models/llms/examples/custom_llm.html\n",
      "[0117] - https://langchain.readthedocs.io/en/latest/modules/indexes/vectorstores/examples/chroma.html\n",
      "[0118] - https://langchain.readthedocs.io/en/latest/modules/indexes/document_loaders/examples/hn.html\n",
      "[0119] - https://langchain.readthedocs.io/en/latest/modules/chains/examples/llm_summarization_checker.html\n",
      "[0120] - https://langchain.readthedocs.io/en/latest/use_cases/evaluation/benchmarking_template.html\n",
      "[0121] - https://langchain.readthedocs.io/en/latest/modules/agents/agents/examples/self_ask_with_search.html\n",
      "[0122] - https://langchain.readthedocs.io/en/latest/use_cases/tabular.html\n",
      "[0123] - https://langchain.readthedocs.io/en/latest/modules/indexes/retrievers.html\n",
      "[0124] - https://langchain.readthedocs.io/en/latest/modules/memory/types/buffer.html\n",
      "[0125] - https://langchain.readthedocs.io/en/latest/modules/models/llms/integrations/promptlayer_openai.html\n",
      "[0126] - https://langchain.readthedocs.io/en/latest/modules/chains/index_examples/vector_db_qa_with_sources.html\n",
      "[0127] - https://langchain.readthedocs.io/en/latest/modules/agents.html\n",
      "[0128] - https://langchain.readthedocs.io/en/latest/modules/models/text_embedding/examples/cohere.html\n",
      "[0129] - https://langchain.readthedocs.io/en/latest/use_cases/extraction.html\n",
      "[0130] - https://langchain.readthedocs.io/en/latest/modules/indexes/document_loaders/examples/blackboard.html\n",
      "[0131] - https://langchain.readthedocs.io/en/latest/modules/models/llms/integrations/self_hosted_examples.html\n",
      "[0132] - https://langchain.readthedocs.io/en/latest/modules/chains/examples/llm_requests.html\n",
      "[0133] - https://langchain.readthedocs.io/en/latest/modules/models/llms/integrations/sagemaker.html\n",
      "[0134] - https://langchain.readthedocs.io/en/latest/use_cases/summarization.html\n",
      "[0135] - https://langchain.readthedocs.io/en/latest/modules/agents/agents/examples/react.html\n",
      "[0136] - https://langchain.readthedocs.io/en/latest/modules/indexes/document_loaders/examples/s3_file.html\n",
      "[0137] - https://langchain.readthedocs.io/en/latest/modules/models/llms/integrations/deepinfra_example.html\n",
      "[0138] - https://langchain.readthedocs.io/en/latest/modules/models/chat/integrations/azure_chat_openai.html\n",
      "[0139] - https://langchain.readthedocs.io/en/latest/modules/chains/generic/async_chain.html\n",
      "[0140] - https://langchain.readthedocs.io/en/latest/modules/prompts/example_selectors/examples/length_based.html\n",
      "[0141] - https://langchain.readthedocs.io/en/latest/modules/indexes/vectorstores/examples/qdrant.html\n",
      "[0142] - https://langchain.readthedocs.io/en/latest/modules/chains/getting_started.html\n",
      "[0143] - https://langchain.readthedocs.io/en/latest/modules/agents/tools/examples/serpapi.html\n",
      "[0144] - https://langchain.readthedocs.io/en/latest/modules/indexes/document_loaders.html\n",
      "[0145] - https://langchain.readthedocs.io/en/latest/modules/indexes/document_loaders/examples/gutenberg.html\n",
      "[0146] - https://langchain.readthedocs.io/en/latest/modules/memory/examples/adding_memory_chain_multiple_inputs.html\n",
      "[0147] - https://langchain.readthedocs.io/en/latest/modules/prompts/prompt_templates.html\n",
      "[0148] - https://langchain.readthedocs.io/en/latest/prompt_templates/getting_started.html\n",
      "[0149] - https://langchain.readthedocs.io/en/latest/modules/chains/examples/moderation.html\n",
      "[0150] - https://langchain.readthedocs.io/en/latest/modules/models/llms/integrations/openai.html\n",
      "[0151] - https://langchain.readthedocs.io/en/latest/modules/indexes/document_loaders/examples/csv.html\n",
      "[0152] - https://langchain.readthedocs.io/en/latest/modules/models/text_embedding/examples/sagemaker-endpoint.html\n",
      "[0153] - https://langchain.readthedocs.io/en/latest/modules/chains/index_examples/summarize.html\n",
      "[0154] - https://langchain.readthedocs.io/en/latest/modules/indexes/vectorstores/examples/pinecone.html\n",
      "[0155] - https://langchain.readthedocs.io/en/latest/modules/agents/toolkits/examples/csv.html\n",
      "[0156] - https://langchain.readthedocs.io/en/latest/modules/chains/generic/sequential_chains.html\n",
      "[0157] - https://langchain.readthedocs.io/en/latest/modules/models/llms/how_to_guides.html\n",
      "[0158] - https://langchain.readthedocs.io/en/latest/modules/memory/types/token_buffer.html\n",
      "[0159] - https://langchain.readthedocs.io/en/latest/modules/agents/tools/examples/zapier.html\n",
      "[0160] - https://langchain.readthedocs.io/en/latest/modules/chains/examples/llm_bash.html\n",
      "[0161] - https://langchain.readthedocs.io/en/latest/chains/how_to_guides.html\n",
      "[0162] - https://langchain.readthedocs.io/en/latest/modules/indexes/document_loaders/examples/CoNLL-U.html\n",
      "[0163] - https://langchain.readthedocs.io/en/latest/modules/indexes/document_loaders/examples/gcs_directory.html\n",
      "[0164] - https://langchain.readthedocs.io/en/latest/modules/memory/types/buffer_window.html\n",
      "[0165] - https://langchain.readthedocs.io/en/latest/modules/agents/tools/examples/search_tools.html\n",
      "[0166] - https://langchain.readthedocs.io/en/latest/modules/indexes/text_splitters/examples/tiktoken_splitter.html\n",
      "[0167] - https://langchain.readthedocs.io/en/latest/use_cases/evaluation.html\n",
      "[0168] - https://langchain.readthedocs.io/en/latest/evaluation/agent_benchmarking.html\n",
      "[0169] - https://langchain.readthedocs.io/en/latest/evaluation/sql_qa_benchmarking_chinook.html\n",
      "[0170] - https://langchain.readthedocs.io/en/latest/evaluation/qa_benchmarking_sota.html\n",
      "[0171] - https://langchain.readthedocs.io/en/latest/evaluation/agent_vectordb_sota_pg.html\n",
      "[0172] - https://langchain.readthedocs.io/en/latest/evaluation/question_answering.html\n",
      "[0173] - https://langchain.readthedocs.io/en/latest/evaluation/huggingface_datasets.html\n",
      "[0174] - https://langchain.readthedocs.io/en/latest/modules/indexes/document_loaders/examples/azure_blob_storage_file.html\n",
      "[0175] - https://langchain.readthedocs.io/en/latest/modules/models/llms/integrations/cerebriumai_example.html\n",
      "[0176] - https://langchain.readthedocs.io/en/latest/modules/memory/types/kg.html\n",
      "[0177] - https://langchain.readthedocs.io/en/latest/modules/indexes/document_loaders/examples/figma.html\n",
      "[0178] - https://langchain.readthedocs.io/en/latest/modules/indexes/text_splitters.html\n",
      "[0179] - https://langchain.readthedocs.io/en/latest/modules/indexes/document_loaders/examples/readthedocs_documentation.html\n",
      "[0180] - https://langchain.readthedocs.io/en/latest/use_cases/evaluation/qa_benchmarking_pg.html\n",
      "[0181] - https://langchain.readthedocs.io/en/latest/modules/indexes/vectorstores/examples/pgvector.html\n",
      "[0182] - https://langchain.readthedocs.io/en/latest/modules/indexes/document_loaders/examples/roam.html\n",
      "[0183] - https://langchain.readthedocs.io/en/latest/modules/memory/examples/custom_memory.html\n",
      "[0184] - https://langchain.readthedocs.io/en/latest/modules/agents/tools/examples/openweathermap.html\n",
      "[0185] - https://langchain.readthedocs.io/en/latest/modules/models/llms/integrations/gooseai_example.html\n",
      "[0186] - https://langchain.readthedocs.io/en/latest/modules/models/text_embedding/examples/azureopenai.html\n",
      "[0187] - https://langchain.readthedocs.io/en/latest/modules/chains/how_to_guides.html\n",
      "[0188] - https://langchain.readthedocs.io/en/latest/modules/models/llms/integrations/stochasticai.html\n",
      "[0189] - https://langchain.readthedocs.io/en/latest/modules/chains/examples/sqlite.html\n",
      "[0190] - https://langchain.readthedocs.io/en/latest/modules/models/text_embedding/examples/openai.html\n",
      "[0191] - https://langchain.readthedocs.io/en/latest/modules/agents/agent_executors/examples/max_iterations.html\n",
      "[0192] - https://langchain.readthedocs.io/en/latest/modules/agents/toolkits.html\n",
      "[0193] - https://langchain.readthedocs.io/en/latest/modules/agents/tools/custom_tools.html\n",
      "[0194] - https://langchain.readthedocs.io/en/latest/getting_started/getting_started.html\n",
      "[0195] - https://langchain.readthedocs.io/en/latest/modules/agents/toolkits/examples/openapi.html\n",
      "[0196] - https://langchain.readthedocs.io/en/latest/tracing.html\n",
      "[0197] - https://langchain.readthedocs.io/en/latest/modules/models/llms/integrations/writer.html\n",
      "[0198] - https://langchain.readthedocs.io/en/latest/modules/prompts/output_parsers/examples/structured.html\n",
      "[0199] - https://langchain.readthedocs.io/en/latest/gallery.html\n",
      "[0200] - https://langchain.readthedocs.io/en/latest/evaluation/benchmarking_template.html\n"
     ]
    }
   ],
   "source": [
    "links = set([\"https://langchain.readthedocs.io/en/latest/\"])\n",
    "scraped = set()\n",
    "data = []\n",
    "i = 0\n",
    "\n",
    "while True:\n",
    "    if len(links) == 0:\n",
    "        print(\"Completed!\")\n",
    "        break\n",
    "        \n",
    "    if len(scraped) == 200:\n",
    "        break\n",
    "\n",
    "    url = list(links)[0]\n",
    "    print(f\"[{str(i+1).zfill(4)}] - {url}\")\n",
    "    response = scrape(url)\n",
    "    if response is not None:\n",
    "        content, local_links = response\n",
    "    scraped.add(url)\n",
    "\n",
    "    if content is not None:\n",
    "        data.append(content)\n",
    "\n",
    "    if local_links is not None:\n",
    "        links.update(local_links)\n",
    "    \n",
    "    links -= scraped\n",
    "    i += 1"
   ]
  },
  {
   "cell_type": "code",
   "execution_count": 6,
   "metadata": {},
   "outputs": [
    {
     "data": {
      "text/plain": [
       "{'url': 'https://langchain.readthedocs.io/en/latest/modules/indexes/document_loaders/examples/youtube.html',\n",
       " 'text': '.ipynb .pdf YouTube Contents Add video info YouTube loader from Google Cloud Prerequisites 🧑 Instructions for ingesting your Google Docs data YouTube# How to load documents from YouTube transcripts. from langchain.document_loaders import YoutubeLoader # !pip install youtube-transcript-api loader = YoutubeLoader.from_youtube_url(\"https://www.youtube.com/watch?v=QsYGlZkevEg\", add_video_info=True) loader.load() Add video info# # ! pip install pytube loader = YoutubeLoader.from_youtube_url(\"https://www.youtube.com/watch?v=QsYGlZkevEg\", add_video_info=True) loader.load() YouTube loader from Google Cloud# Prerequisites# Create a Google Cloud project or use an existing project Enable the Youtube Api Authorize credentials for desktop app pip install --upgrade google-api-python-client google-auth-httplib2 google-auth-oauthlib youtube-transcript-api 🧑 Instructions for ingesting your Google Docs data# By default, the GoogleDriveLoader expects the credentials.json file to be ~/.credentials/credentials.json, but this is configurable using the credentials_file keyword argument. Same thing with token.json. Note that token.json will be created automatically the first time you use the loader. GoogleApiYoutubeLoader can load from a list of Google Docs document ids or a folder id. You can obtain your folder and document id from the URL: Note depending on your set up, the service_account_path needs to be set up. See here for more details. from langchain.document_loaders import GoogleApiClient, GoogleApiYoutubeLoader # Init the GoogleApiClient from pathlib import Path google_api_client = GoogleApiClient(credentials_path=Path(\"your_path_creds.json\")) # Use a Channel youtube_loader_channel = GoogleApiYoutubeLoader(google_api_client=google_api_client, channel_name=\"Reducible\",captions_language=\"en\") # Use Youtube Ids youtube_loader_ids = GoogleApiYoutubeLoader(google_api_client=google_api_client, video_ids=[\"TrdevFK_am4\"], add_video_info=True) # returns a list of Documents youtube_loader_channel.load() previous Word Documents next Text Splitters Contents Add video info YouTube loader from Google Cloud Prerequisites 🧑 Instructions for ingesting your Google Docs data By Harrison Chase © Copyright 2023, Harrison Chase. Last updated on Mar 29, 2023.'}"
      ]
     },
     "execution_count": 6,
     "metadata": {},
     "output_type": "execute_result"
    }
   ],
   "source": [
    "data[2]"
   ]
  },
  {
   "cell_type": "code",
   "execution_count": 7,
   "metadata": {},
   "outputs": [
    {
     "data": {
      "text/plain": [
       "['https://langchain.readthedocs.io/en/latest/',\n",
       " 'https://langchain.readthedocs.io/en/latest/modules/agents/toolkits/examples/python.html',\n",
       " 'https://langchain.readthedocs.io/en/latest/modules/indexes/document_loaders/examples/youtube.html',\n",
       " 'https://langchain.readthedocs.io/en/latest/modules/memory/examples/agent_with_memory.html',\n",
       " 'https://langchain.readthedocs.io/en/latest/modules/indexes/document_loaders/examples/bigquery.html',\n",
       " 'https://langchain.readthedocs.io/en/latest/modules/chains/index_examples/vector_db_text_generation.html',\n",
       " 'https://langchain.readthedocs.io/en/latest/modules/indexes/document_loaders/examples/gcs_file.html',\n",
       " 'https://langchain.readthedocs.io/en/latest/modules/agents/tools/examples/human_tools.html',\n",
       " 'https://langchain.readthedocs.io/en/latest/modules/indexes/text_splitters/examples/nltk.html',\n",
       " 'https://langchain.readthedocs.io/en/latest/model_laboratory.html',\n",
       " 'https://langchain.readthedocs.io/en/latest/use_cases/evaluation/agent_benchmarking.html',\n",
       " 'https://langchain.readthedocs.io/en/latest/modules/models/llms/integrations/replicate.html',\n",
       " 'https://langchain.readthedocs.io/en/latest/modules/indexes/document_loaders/examples/srt.html',\n",
       " 'https://langchain.readthedocs.io/en/latest/modules/indexes/document_loaders/examples/powerpoint.html',\n",
       " 'https://langchain.readthedocs.io/en/latest/modules/indexes/document_loaders/examples/gitbook.html',\n",
       " 'https://langchain.readthedocs.io/en/latest/modules/indexes/document_loaders/examples/telegram.html',\n",
       " 'https://langchain.readthedocs.io/en/latest/modules/chains.html',\n",
       " 'https://langchain.readthedocs.io/en/latest/ecosystem.html',\n",
       " 'https://langchain.readthedocs.io/en/latest/modules/models/llms/integrations/azure_openai_example.html',\n",
       " 'https://langchain.readthedocs.io/en/latest/modules/indexes/document_loaders/examples/airbyte_json.html',\n",
       " 'https://langchain.readthedocs.io/en/latest/modules/agents/tools/examples/searx_search.html',\n",
       " 'https://langchain.readthedocs.io/en/latest/modules/indexes/document_loaders/examples/directory_loader.html',\n",
       " 'https://langchain.readthedocs.io/en/latest/use_cases/apis.html',\n",
       " 'https://langchain.readthedocs.io/en/latest/modules/prompts/output_parsers/examples/output_fixing_parser.html',\n",
       " 'https://langchain.readthedocs.io/en/latest/modules/agents/agent_executors/examples/sharedmemory_for_tools.html',\n",
       " 'https://langchain.readthedocs.io/en/latest/modules/prompts/output_parsers/examples/comma_separated.html',\n",
       " 'https://langchain.readthedocs.io/en/latest/modules/indexes/document_loaders/examples/word_document.html',\n",
       " 'https://langchain.readthedocs.io/en/latest/modules/agents/agents/examples/mrkl.html',\n",
       " 'https://langchain.readthedocs.io/en/latest/modules/agents/tools/multi_input_tool.html',\n",
       " 'https://langchain.readthedocs.io/en/latest/modules/prompts/example_selectors/examples/custom_example_selector.html',\n",
       " 'https://langchain.readthedocs.io/en/latest/modules/models/llms/integrations/aleph_alpha.html',\n",
       " 'https://langchain.readthedocs.io/en/latest/modules/prompts/prompt_templates/getting_started.html',\n",
       " 'https://langchain.readthedocs.io/en/latest/modules/models/llms/examples/async_llm.html',\n",
       " 'https://langchain.readthedocs.io/en/latest/modules/memory/examples/adding_memory.html',\n",
       " 'https://langchain.readthedocs.io/en/latest/modules/memory/examples/redis_chat_message_history.html',\n",
       " 'https://langchain.readthedocs.io/en/latest/modules/models/llms/integrations/cohere.html',\n",
       " 'https://langchain.readthedocs.io/en/latest/modules/models/text_embedding/examples/fake.html',\n",
       " 'https://langchain.readthedocs.io/en/latest/modules/indexes/text_splitters/examples/recursive_text_splitter.html',\n",
       " 'https://langchain.readthedocs.io/en/latest/modules/indexes/document_loaders/examples/azlyrics.html',\n",
       " 'https://langchain.readthedocs.io/en/latest/modules/indexes/document_loaders/examples/azlyrics.html',\n",
       " 'https://langchain.readthedocs.io/en/latest/modules/chains/generic/serialization.html',\n",
       " 'https://langchain.readthedocs.io/en/latest/modules/agents/toolkits/examples/sql_database.html',\n",
       " 'https://langchain.readthedocs.io/en/latest/modules/models/llms/integrations/petals_example.html',\n",
       " 'https://langchain.readthedocs.io/en/latest/modules/indexes/document_loaders/examples/notiondb.html',\n",
       " 'https://langchain.readthedocs.io/en/latest/modules/indexes/vectorstores/examples/atlas.html',\n",
       " 'https://langchain.readthedocs.io/en/latest/modules/agents/toolkits/examples/json.html',\n",
       " 'https://langchain.readthedocs.io/en/latest/use_cases/evaluation/question_answering.html',\n",
       " 'https://langchain.readthedocs.io/en/latest/modules/chains/index_examples/chat_vector_db.html',\n",
       " 'https://langchain.readthedocs.io/en/latest/use_cases/evaluation/huggingface_datasets.html',\n",
       " 'https://langchain.readthedocs.io/en/latest/modules/models/llms/examples/fake_llm.html',\n",
       " 'https://langchain.readthedocs.io/en/latest/modules/models/chat/integrations.html',\n",
       " 'https://langchain.readthedocs.io/en/latest/use_cases/evaluation/agent_vectordb_sota_pg.html',\n",
       " 'https://langchain.readthedocs.io/en/latest/modules/agents/tools/examples/wolfram_alpha.html',\n",
       " 'https://langchain.readthedocs.io/en/latest/modules/chains/index_examples/graph_qa.html',\n",
       " 'https://langchain.readthedocs.io/en/latest/modules/indexes/document_loaders/examples/facebook_chat.html',\n",
       " 'https://langchain.readthedocs.io/en/latest/modules/indexes/text_splitters/examples/latex.html',\n",
       " 'https://langchain.readthedocs.io/en/latest/modules/agents/tools/examples/ifttt.html',\n",
       " 'https://langchain.readthedocs.io/en/latest/modules/agents/toolkits/examples/vectorstore.html',\n",
       " 'https://langchain.readthedocs.io/en/latest/modules/indexes/document_loaders/examples/unstructured_file.html',\n",
       " 'https://langchain.readthedocs.io/en/latest/modules/indexes/document_loaders/examples/email.html',\n",
       " 'https://langchain.readthedocs.io/en/latest/modules/models/llms/examples/llm_serialization.html',\n",
       " 'https://langchain.readthedocs.io/en/latest/modules/indexes/vectorstores/examples/weaviate.html',\n",
       " 'https://langchain.readthedocs.io/en/latest/modules/models/chat.html',\n",
       " 'https://langchain.readthedocs.io/en/latest/modules/models/chat.html',\n",
       " 'https://langchain.readthedocs.io/en/latest/modules/agents/tools/examples/requests.html',\n",
       " 'https://langchain.readthedocs.io/en/latest/modules/indexes/document_loaders/examples/obsidian.html',\n",
       " 'https://langchain.readthedocs.io/en/latest/modules/agents/tools/examples/google_search.html',\n",
       " 'https://langchain.readthedocs.io/en/latest/modules/memory/examples/multiple_memory.html',\n",
       " 'https://langchain.readthedocs.io/en/latest/use_cases/evaluation/sql_qa_benchmarking_chinook.html',\n",
       " 'https://langchain.readthedocs.io/en/latest/modules/prompts/prompt_templates/examples/custom_prompt_template.html',\n",
       " 'https://langchain.readthedocs.io/en/latest/modules/models/chat/how_to_guides.html',\n",
       " 'https://langchain.readthedocs.io/en/latest/modules/models/llms/examples/llm_caching.html',\n",
       " 'https://langchain.readthedocs.io/en/latest/modules/models/llms/examples/token_usage_tracking.html',\n",
       " 'https://langchain.readthedocs.io/en/latest/modules/indexes/document_loaders/examples/html.html',\n",
       " 'https://langchain.readthedocs.io/en/latest/modules/indexes/document_loaders/examples/notion.html',\n",
       " 'https://langchain.readthedocs.io/en/latest/modules/models/chat/examples/streaming.html',\n",
       " 'https://langchain.readthedocs.io/en/latest/modules/models/llms.html',\n",
       " 'https://langchain.readthedocs.io/en/latest/modules/indexes/document_loaders/examples/dataframe.html',\n",
       " 'https://langchain.readthedocs.io/en/latest/modules/indexes/document_loaders/examples/whatsapp_chat.html',\n",
       " 'https://langchain.readthedocs.io/en/latest/modules/models/llms/integrations/banana.html',\n",
       " 'https://langchain.readthedocs.io/en/latest/modules/models/llms/integrations.html',\n",
       " 'https://langchain.readthedocs.io/en/latest/modules/indexes/text_splitters/getting_started.html',\n",
       " 'https://langchain.readthedocs.io/en/latest/modules/chains/generic/llm_chain.html',\n",
       " 'https://langchain.readthedocs.io/en/latest/modules/agents/tools.html',\n",
       " 'https://langchain.readthedocs.io/en/latest/modules/agents/tools/examples/chatgpt_plugins.html',\n",
       " 'https://langchain.readthedocs.io/en/latest/use_cases/evaluation/llm_math.html',\n",
       " 'https://langchain.readthedocs.io/en/latest/modules/indexes/text_splitters/examples/character_text_splitter.html',\n",
       " 'https://langchain.readthedocs.io/en/latest/modules/prompts/example_selectors/examples/similarity.html',\n",
       " 'https://langchain.readthedocs.io/en/latest/modules/models/llms/integrations/forefrontai_example.html',\n",
       " 'https://langchain.readthedocs.io/en/latest/modules/prompts/prompt_templates/examples/prompt_serialization.html',\n",
       " 'https://langchain.readthedocs.io/en/latest/modules/indexes/text_splitters/examples/markdown.html',\n",
       " 'https://langchain.readthedocs.io/en/latest/modules/chains/index_examples/vector_db_qa.html',\n",
       " 'https://langchain.readthedocs.io/en/latest/modules/chains/examples/constitutional_chain.html',\n",
       " 'https://langchain.readthedocs.io/en/latest/use_cases/chatbots.html',\n",
       " 'https://langchain.readthedocs.io/en/latest/modules/models/text_embedding.html',\n",
       " 'https://langchain.readthedocs.io/en/latest/modules/models/text_embedding/examples/huggingfacehub.html',\n",
       " 'https://langchain.readthedocs.io/en/latest/modules/prompts/output_parsers/examples/retry.html',\n",
       " 'https://langchain.readthedocs.io/en/latest/modules/agents/tools/examples/google_serper.html',\n",
       " 'https://langchain.readthedocs.io/en/latest/modules/chains/generic/transformation.html',\n",
       " 'https://langchain.readthedocs.io/en/latest/modules/models/chat/getting_started.html',\n",
       " 'https://langchain.readthedocs.io/en/latest/modules/indexes/document_loaders/examples/image.html',\n",
       " 'https://langchain.readthedocs.io/en/latest/modules/indexes/document_loaders/examples/image.html',\n",
       " 'https://langchain.readthedocs.io/en/latest/use_cases/personal_assistants.html',\n",
       " 'https://langchain.readthedocs.io/en/latest/modules/memory/examples/conversational_customization.html',\n",
       " 'https://langchain.readthedocs.io/en/latest/modules/prompts/prompt_templates/how_to_guides.html',\n",
       " 'https://langchain.readthedocs.io/en/latest/modules/models/text_embedding/examples/self-hosted.html',\n",
       " 'https://langchain.readthedocs.io/en/latest/modules/agents/agents.html',\n",
       " 'https://langchain.readthedocs.io/en/latest/modules/indexes/vectorstores/examples/opensearch.html',\n",
       " 'https://langchain.readthedocs.io/en/latest/modules/prompts/example_selectors/examples/ngram_overlap.html',\n",
       " 'https://langchain.readthedocs.io/en/latest/modules/prompts/chat_prompt_template.html',\n",
       " 'https://langchain.readthedocs.io/en/latest/modules/models/text_embedding/examples/instruct_embeddings.html',\n",
       " 'https://langchain.readthedocs.io/en/latest/modules/indexes/document_loaders/examples/sitemap.html',\n",
       " 'https://langchain.readthedocs.io/en/latest/modules/indexes/document_loaders/examples/sitemap.html',\n",
       " 'https://langchain.readthedocs.io/en/latest/modules/indexes/text_splitters/examples/tiktoken.html',\n",
       " 'https://langchain.readthedocs.io/en/latest/modules/models/chat/examples/few_shot_examples.html',\n",
       " 'https://langchain.readthedocs.io/en/latest/modules/models/llms/examples/custom_llm.html',\n",
       " 'https://langchain.readthedocs.io/en/latest/modules/indexes/vectorstores/examples/chroma.html',\n",
       " 'https://langchain.readthedocs.io/en/latest/modules/indexes/document_loaders/examples/hn.html',\n",
       " 'https://langchain.readthedocs.io/en/latest/modules/chains/examples/llm_summarization_checker.html',\n",
       " 'https://langchain.readthedocs.io/en/latest/use_cases/evaluation/benchmarking_template.html',\n",
       " 'https://langchain.readthedocs.io/en/latest/modules/agents/agents/examples/self_ask_with_search.html',\n",
       " 'https://langchain.readthedocs.io/en/latest/use_cases/tabular.html',\n",
       " 'https://langchain.readthedocs.io/en/latest/modules/indexes/retrievers.html',\n",
       " 'https://langchain.readthedocs.io/en/latest/modules/memory/types/buffer.html',\n",
       " 'https://langchain.readthedocs.io/en/latest/modules/models/llms/integrations/promptlayer_openai.html',\n",
       " 'https://langchain.readthedocs.io/en/latest/modules/chains/index_examples/vector_db_qa_with_sources.html',\n",
       " 'https://langchain.readthedocs.io/en/latest/modules/agents.html',\n",
       " 'https://langchain.readthedocs.io/en/latest/modules/models/text_embedding/examples/cohere.html',\n",
       " 'https://langchain.readthedocs.io/en/latest/use_cases/extraction.html',\n",
       " 'https://langchain.readthedocs.io/en/latest/modules/indexes/document_loaders/examples/blackboard.html',\n",
       " 'https://langchain.readthedocs.io/en/latest/modules/models/llms/integrations/self_hosted_examples.html',\n",
       " 'https://langchain.readthedocs.io/en/latest/modules/chains/examples/llm_requests.html',\n",
       " 'https://langchain.readthedocs.io/en/latest/modules/models/llms/integrations/sagemaker.html',\n",
       " 'https://langchain.readthedocs.io/en/latest/use_cases/summarization.html',\n",
       " 'https://langchain.readthedocs.io/en/latest/modules/agents/agents/examples/react.html',\n",
       " 'https://langchain.readthedocs.io/en/latest/modules/indexes/document_loaders/examples/s3_file.html',\n",
       " 'https://langchain.readthedocs.io/en/latest/modules/models/llms/integrations/deepinfra_example.html',\n",
       " 'https://langchain.readthedocs.io/en/latest/modules/models/chat/integrations/azure_chat_openai.html',\n",
       " 'https://langchain.readthedocs.io/en/latest/modules/chains/generic/async_chain.html',\n",
       " 'https://langchain.readthedocs.io/en/latest/modules/prompts/example_selectors/examples/length_based.html',\n",
       " 'https://langchain.readthedocs.io/en/latest/modules/indexes/vectorstores/examples/qdrant.html',\n",
       " 'https://langchain.readthedocs.io/en/latest/modules/chains/getting_started.html',\n",
       " 'https://langchain.readthedocs.io/en/latest/modules/agents/tools/examples/serpapi.html',\n",
       " 'https://langchain.readthedocs.io/en/latest/modules/indexes/document_loaders.html',\n",
       " 'https://langchain.readthedocs.io/en/latest/modules/indexes/document_loaders/examples/gutenberg.html',\n",
       " 'https://langchain.readthedocs.io/en/latest/modules/memory/examples/adding_memory_chain_multiple_inputs.html',\n",
       " 'https://langchain.readthedocs.io/en/latest/modules/prompts/prompt_templates.html',\n",
       " 'https://langchain.readthedocs.io/en/latest/modules/prompts/prompt_templates.html',\n",
       " 'https://langchain.readthedocs.io/en/latest/modules/chains/examples/moderation.html',\n",
       " 'https://langchain.readthedocs.io/en/latest/modules/models/llms/integrations/openai.html',\n",
       " 'https://langchain.readthedocs.io/en/latest/modules/indexes/document_loaders/examples/csv.html',\n",
       " 'https://langchain.readthedocs.io/en/latest/modules/models/text_embedding/examples/sagemaker-endpoint.html',\n",
       " 'https://langchain.readthedocs.io/en/latest/modules/chains/index_examples/summarize.html',\n",
       " 'https://langchain.readthedocs.io/en/latest/modules/indexes/vectorstores/examples/pinecone.html',\n",
       " 'https://langchain.readthedocs.io/en/latest/modules/agents/toolkits/examples/csv.html',\n",
       " 'https://langchain.readthedocs.io/en/latest/modules/chains/generic/sequential_chains.html',\n",
       " 'https://langchain.readthedocs.io/en/latest/modules/models/llms/how_to_guides.html',\n",
       " 'https://langchain.readthedocs.io/en/latest/modules/memory/types/token_buffer.html',\n",
       " 'https://langchain.readthedocs.io/en/latest/modules/agents/tools/examples/zapier.html',\n",
       " 'https://langchain.readthedocs.io/en/latest/modules/chains/examples/llm_bash.html',\n",
       " 'https://langchain.readthedocs.io/en/latest/modules/chains/examples/llm_bash.html',\n",
       " 'https://langchain.readthedocs.io/en/latest/modules/indexes/document_loaders/examples/CoNLL-U.html',\n",
       " 'https://langchain.readthedocs.io/en/latest/modules/indexes/document_loaders/examples/gcs_directory.html',\n",
       " 'https://langchain.readthedocs.io/en/latest/modules/memory/types/buffer_window.html',\n",
       " 'https://langchain.readthedocs.io/en/latest/modules/agents/tools/examples/search_tools.html',\n",
       " 'https://langchain.readthedocs.io/en/latest/modules/indexes/text_splitters/examples/tiktoken_splitter.html',\n",
       " 'https://langchain.readthedocs.io/en/latest/use_cases/evaluation.html',\n",
       " 'https://langchain.readthedocs.io/en/latest/use_cases/evaluation.html',\n",
       " 'https://langchain.readthedocs.io/en/latest/use_cases/evaluation.html',\n",
       " 'https://langchain.readthedocs.io/en/latest/use_cases/evaluation.html',\n",
       " 'https://langchain.readthedocs.io/en/latest/use_cases/evaluation.html',\n",
       " 'https://langchain.readthedocs.io/en/latest/use_cases/evaluation.html',\n",
       " 'https://langchain.readthedocs.io/en/latest/use_cases/evaluation.html',\n",
       " 'https://langchain.readthedocs.io/en/latest/modules/indexes/document_loaders/examples/azure_blob_storage_file.html',\n",
       " 'https://langchain.readthedocs.io/en/latest/modules/models/llms/integrations/cerebriumai_example.html',\n",
       " 'https://langchain.readthedocs.io/en/latest/modules/memory/types/kg.html',\n",
       " 'https://langchain.readthedocs.io/en/latest/modules/indexes/document_loaders/examples/figma.html',\n",
       " 'https://langchain.readthedocs.io/en/latest/modules/indexes/text_splitters.html',\n",
       " 'https://langchain.readthedocs.io/en/latest/modules/indexes/document_loaders/examples/readthedocs_documentation.html',\n",
       " 'https://langchain.readthedocs.io/en/latest/use_cases/evaluation/qa_benchmarking_pg.html',\n",
       " 'https://langchain.readthedocs.io/en/latest/modules/indexes/vectorstores/examples/pgvector.html',\n",
       " 'https://langchain.readthedocs.io/en/latest/modules/indexes/document_loaders/examples/roam.html',\n",
       " 'https://langchain.readthedocs.io/en/latest/modules/memory/examples/custom_memory.html',\n",
       " 'https://langchain.readthedocs.io/en/latest/modules/agents/tools/examples/openweathermap.html',\n",
       " 'https://langchain.readthedocs.io/en/latest/modules/models/llms/integrations/gooseai_example.html',\n",
       " 'https://langchain.readthedocs.io/en/latest/modules/models/text_embedding/examples/azureopenai.html',\n",
       " 'https://langchain.readthedocs.io/en/latest/modules/chains/how_to_guides.html',\n",
       " 'https://langchain.readthedocs.io/en/latest/modules/models/llms/integrations/stochasticai.html',\n",
       " 'https://langchain.readthedocs.io/en/latest/modules/chains/examples/sqlite.html',\n",
       " 'https://langchain.readthedocs.io/en/latest/modules/models/text_embedding/examples/openai.html',\n",
       " 'https://langchain.readthedocs.io/en/latest/modules/agents/agent_executors/examples/max_iterations.html',\n",
       " 'https://langchain.readthedocs.io/en/latest/modules/agents/toolkits.html',\n",
       " 'https://langchain.readthedocs.io/en/latest/modules/agents/tools/custom_tools.html',\n",
       " 'https://langchain.readthedocs.io/en/latest/getting_started/getting_started.html',\n",
       " 'https://langchain.readthedocs.io/en/latest/modules/agents/toolkits/examples/openapi.html',\n",
       " 'https://langchain.readthedocs.io/en/latest/tracing.html',\n",
       " 'https://langchain.readthedocs.io/en/latest/modules/models/llms/integrations/writer.html',\n",
       " 'https://langchain.readthedocs.io/en/latest/modules/prompts/output_parsers/examples/structured.html',\n",
       " 'https://langchain.readthedocs.io/en/latest/gallery.html',\n",
       " 'https://langchain.readthedocs.io/en/latest/gallery.html']"
      ]
     },
     "execution_count": 7,
     "metadata": {},
     "output_type": "execute_result"
    }
   ],
   "source": [
    "urls = [record[\"url\"] for record in data]\n",
    "urls"
   ]
  },
  {
   "cell_type": "markdown",
   "metadata": {},
   "source": [
    "## Chunk documents"
   ]
  },
  {
   "cell_type": "code",
   "execution_count": 8,
   "metadata": {},
   "outputs": [],
   "source": [
    "import tiktoken\n",
    "\n",
    "tokenizer = tiktoken.get_encoding(\"p50k_base\")\n",
    "\n",
    "def tokenize_and_count(text):\n",
    "    tokens = tokenizer.encode(text, disallowed_special=())\n",
    "\n",
    "    return len(tokens)"
   ]
  },
  {
   "cell_type": "code",
   "execution_count": 9,
   "metadata": {},
   "outputs": [],
   "source": [
    "from langchain.text_splitter import RecursiveCharacterTextSplitter\n",
    "\n",
    "text_splitter = RecursiveCharacterTextSplitter(\n",
    "    chunk_size=400,\n",
    "    chunk_overlap=20,\n",
    "    length_function=tokenize_and_count,\n",
    "    separators=[\"\\n\\n\", \"\\n\", \" \", \"\"]\n",
    ")"
   ]
  },
  {
   "cell_type": "code",
   "execution_count": 10,
   "metadata": {},
   "outputs": [],
   "source": [
    "from uuid import uuid4\n",
    "from tqdm.auto import tqdm\n",
    "\n",
    "chunks_and_metadata = []\n",
    "\n",
    "for i, doc in enumerate(data):\n",
    "    chunks = text_splitter.split_text(doc[\"text\"])\n",
    "    chunks_and_metadata.extend([{\n",
    "        \"id\": str(uuid4()),\n",
    "        \"chunk_id\": j,\n",
    "        \"text\": chunk,\n",
    "        \"url\": doc[\"url\"]\n",
    "    } for j, chunk in enumerate(chunks)])"
   ]
  },
  {
   "cell_type": "code",
   "execution_count": 11,
   "metadata": {},
   "outputs": [
    {
     "name": "stdout",
     "output_type": "stream",
     "text": [
      "to get started, how-to guides, reference docs, and + get started, how-to guides, reference docs, and co\n"
     ]
    }
   ],
   "source": [
    "print(chunks_and_metadata[0][\"text\"][-50:], \"+\", chunks_and_metadata[1][\"text\"][:50])"
   ]
  },
  {
   "cell_type": "code",
   "execution_count": 12,
   "metadata": {},
   "outputs": [
    {
     "data": {
      "text/plain": [
       "890"
      ]
     },
     "execution_count": 12,
     "metadata": {},
     "output_type": "execute_result"
    }
   ],
   "source": [
    "len(chunks_and_metadata)"
   ]
  },
  {
   "cell_type": "markdown",
   "metadata": {},
   "source": [
    "## Create Vectorstore"
   ]
  },
  {
   "cell_type": "code",
   "execution_count": 13,
   "metadata": {},
   "outputs": [],
   "source": [
    "import openai\n",
    "from getpass import getpass\n",
    "import os\n",
    "\n",
    "if os.getenv(\"OPENAI_API_KEY\") is None:\n",
    "    os.environ[\"OPENAI_API_KEY\"] = getpass()\n",
    "    openai.api_key = os.environ[\"OPENAI_API_KEY\"]\n",
    "\n",
    "embedding_model = \"text-embedding-ada-002\"\n",
    "\n",
    "response = openai.Embedding.create(\n",
    "    input=[\"this one example sentence.\", \"this is another example to be embedded.\"],\n",
    "    engine=embedding_model\n",
    ")"
   ]
  },
  {
   "cell_type": "code",
   "execution_count": 14,
   "metadata": {},
   "outputs": [
    {
     "name": "stdout",
     "output_type": "stream",
     "text": [
      "1536\n",
      "1536\n"
     ]
    }
   ],
   "source": [
    "for example in response.data:\n",
    "    print(len(example[\"embedding\"]))"
   ]
  },
  {
   "cell_type": "code",
   "execution_count": 15,
   "metadata": {},
   "outputs": [],
   "source": [
    "import pinecone\n",
    "\n",
    "if os.getenv(\"PINECONE_API_KEY\") is None:\n",
    "    os.environ[\"PINECONE_API_KEY\"] = getpass()\n",
    "    os.environ[\"PINECONE_ENVIRONMENT\"] = input()"
   ]
  },
  {
   "cell_type": "code",
   "execution_count": 16,
   "metadata": {},
   "outputs": [],
   "source": [
    "pinecone.init(\n",
    "    api_key=os.environ[\"PINECONE_API_KEY\"],\n",
    "    environment=os.environ[\"PINECONE_ENVIRONMENT\"]\n",
    ")"
   ]
  },
  {
   "cell_type": "code",
   "execution_count": 17,
   "metadata": {},
   "outputs": [
    {
     "data": {
      "text/plain": [
       "{'dimension': 1536,\n",
       " 'index_fullness': 0.0,\n",
       " 'namespaces': {'': {'vector_count': 45}},\n",
       " 'total_vector_count': 45}"
      ]
     },
     "execution_count": 17,
     "metadata": {},
     "output_type": "execute_result"
    }
   ],
   "source": [
    "index_name = \"gpt-4-langchain-docs\"\n",
    "\n",
    "if index_name not in pinecone.list_indexes():\n",
    "    pinecone.create_index(\n",
    "        name=index_name,\n",
    "        dimension=len(response.data[0][\"embedding\"]),\n",
    "        metric=\"dotproduct\"\n",
    "    )\n",
    "\n",
    "index = pinecone.GRPCIndex(index_name)\n",
    "index.describe_index_stats()"
   ]
  },
  {
   "cell_type": "code",
   "execution_count": 18,
   "metadata": {},
   "outputs": [
    {
     "data": {
      "application/vnd.jupyter.widget-view+json": {
       "model_id": "036837b9cd6d4db6b5de6208eacdebc6",
       "version_major": 2,
       "version_minor": 0
      },
      "text/plain": [
       "  0%|          | 0/9 [00:00<?, ?it/s]"
      ]
     },
     "metadata": {},
     "output_type": "display_data"
    }
   ],
   "source": [
    "batch_size = 100\n",
    "\n",
    "for i in tqdm(range(0, len(chunks_and_metadata), batch_size)):\n",
    "    batch = chunks_and_metadata[i:i+batch_size]\n",
    "\n",
    "    batch_ids = [example[\"id\"] for example in batch]\n",
    "    batch_texts = [example[\"text\"] for example in batch]\n",
    "\n",
    "    response = openai.Embedding.create(input=batch_texts, engine=embedding_model)\n",
    "    embeddings = [example[\"embedding\"] for example in response.data]\n",
    "\n",
    "    batch_cleaned = [{\n",
    "        \"text\": example[\"text\"],\n",
    "        \"chunk_id\": example[\"chunk_id\"],\n",
    "        \"url\": example[\"url\"]\n",
    "    } for example in batch]\n",
    "\n",
    "    to_upsert = list(zip(batch_ids, embeddings, batch_cleaned))\n",
    "\n",
    "    index.upsert(vectors=to_upsert)"
   ]
  },
  {
   "cell_type": "code",
   "execution_count": 19,
   "metadata": {},
   "outputs": [
    {
     "data": {
      "text/plain": [
       "{'dimension': 1536,\n",
       " 'index_fullness': 0.0,\n",
       " 'namespaces': {'': {'vector_count': 935}},\n",
       " 'total_vector_count': 935}"
      ]
     },
     "execution_count": 19,
     "metadata": {},
     "output_type": "execute_result"
    }
   ],
   "source": [
    "index.describe_index_stats()"
   ]
  },
  {
   "attachments": {},
   "cell_type": "markdown",
   "metadata": {},
   "source": [
    "## Retrieval"
   ]
  },
  {
   "cell_type": "code",
   "execution_count": 20,
   "metadata": {},
   "outputs": [],
   "source": [
    "query = \"How do I use the LLMChain in LangChain?\"\n",
    "\n",
    "response = openai.Embedding.create(\n",
    "    input=[query],\n",
    "    engine=embedding_model\n",
    ")\n",
    "\n",
    "query_embedding = response.data[0][\"embedding\"]\n",
    "retrieved_info = index.query(query_embedding, top_k=5, include_metadata=True)"
   ]
  },
  {
   "cell_type": "code",
   "execution_count": 21,
   "metadata": {},
   "outputs": [
    {
     "data": {
      "text/plain": [
       "{'matches': [{'id': '75951fb9-582d-421a-9456-91761be3542e',\n",
       "              'metadata': {'chunk_id': 0.0,\n",
       "                           'text': '.rst .pdf Chains Chains# Note Conceptual '\n",
       "                                   'Guide Using an LLM in isolation is fine '\n",
       "                                   'for some simple applications, but many '\n",
       "                                   'more complex ones require chaining LLMs - '\n",
       "                                   'either with each other or with other '\n",
       "                                   'experts. LangChain provides a standard '\n",
       "                                   'interface for Chains, as well as some '\n",
       "                                   'common implementations of chains for ease '\n",
       "                                   'of use. The following sections of '\n",
       "                                   'documentation are provided: Getting '\n",
       "                                   'Started: A getting started guide for '\n",
       "                                   'chains, to get you up and running quickly. '\n",
       "                                   'How-To Guides: A collection of how-to '\n",
       "                                   'guides. These highlight how to use various '\n",
       "                                   'types of chains. Reference: API reference '\n",
       "                                   'documentation for all Chain classes. '\n",
       "                                   'previous Redis Chat Message History next '\n",
       "                                   'Getting Started By Harrison Chase © '\n",
       "                                   'Copyright 2023, Harrison Chase. Last '\n",
       "                                   'updated on Mar 29, 2023.',\n",
       "                           'url': 'https://langchain.readthedocs.io/en/latest/modules/chains.html'},\n",
       "              'score': 0.8794312,\n",
       "              'sparse_values': {'indices': [], 'values': []},\n",
       "              'values': []},\n",
       "             {'id': '514cf694-32f0-4638-9fff-e07f72f1c9b3',\n",
       "              'metadata': {'chunk_id': 6.0,\n",
       "                           'text': 'about how to do cool things with Chains, '\n",
       "                                   'check out the how-to guide for chains. '\n",
       "                                   'previous Chains next How-To Guides '\n",
       "                                   'Contents Why do we need chains? Query an '\n",
       "                                   'LLM with the LLMChain Combine chains with '\n",
       "                                   'the SequentialChain Create a custom chain '\n",
       "                                   'with the Chain class By Harrison Chase © '\n",
       "                                   'Copyright 2023, Harrison Chase. Last '\n",
       "                                   'updated on Mar 29, 2023.',\n",
       "                           'url': 'https://langchain.readthedocs.io/en/latest/modules/chains/getting_started.html'},\n",
       "              'score': 0.8676856,\n",
       "              'sparse_values': {'indices': [], 'values': []},\n",
       "              'values': []},\n",
       "             {'id': 'deea2667-1411-4fea-b8fe-94832b85f2e2',\n",
       "              'metadata': {'chunk_id': 1.0,\n",
       "                           'text': 'LangChain provides many modules that can '\n",
       "                                   'be used to build language model '\n",
       "                                   'applications. Modules can be combined to '\n",
       "                                   'create more complex applications, or be '\n",
       "                                   'used individually for simple applications. '\n",
       "                                   'LLMs: Get predictions from a language '\n",
       "                                   'model The most basic building block of '\n",
       "                                   'LangChain is calling an LLM on some input. '\n",
       "                                   'Let’s walk through a simple example of how '\n",
       "                                   'to do this. For this purpose, let’s '\n",
       "                                   'pretend we are building a service that '\n",
       "                                   'generates a company name based on what the '\n",
       "                                   'company makes. In order to do this, we '\n",
       "                                   'first need to import the LLM wrapper. from '\n",
       "                                   'langchain.llms import OpenAI We can then '\n",
       "                                   'initialize the wrapper with any arguments. '\n",
       "                                   'In this example, we probably want the '\n",
       "                                   'outputs to be MORE random, so we’ll '\n",
       "                                   'initialize it with a HIGH temperature. llm '\n",
       "                                   '= OpenAI(temperature=0.9) We can now call '\n",
       "                                   'it on some input! text = \"What would be a '\n",
       "                                   'good company name for a company that makes '\n",
       "                                   'colorful socks?\" print(llm(text)) Feetful '\n",
       "                                   'of Fun For more details',\n",
       "                           'url': 'https://langchain.readthedocs.io/en/latest/getting_started/getting_started.html'},\n",
       "              'score': 0.8625015,\n",
       "              'sparse_values': {'indices': [], 'values': []},\n",
       "              'values': []},\n",
       "             {'id': 'd9b01ff8-a3be-46ec-a753-1913ac069749',\n",
       "              'metadata': {'chunk_id': 0.0,\n",
       "                           'text': '.ipynb .pdf Getting Started Contents Why '\n",
       "                                   'do we need chains? Query an LLM with the '\n",
       "                                   'LLMChain Combine chains with the '\n",
       "                                   'SequentialChain Create a custom chain with '\n",
       "                                   'the Chain class Getting Started# In this '\n",
       "                                   'tutorial, we will learn about creating '\n",
       "                                   'simple chains in LangChain. We will learn '\n",
       "                                   'how to create a chain, add components to '\n",
       "                                   'it, and run it. In this tutorial, we will '\n",
       "                                   'cover: Using a simple LLM chain Creating '\n",
       "                                   'sequential chains Creating a custom chain '\n",
       "                                   'Why do we need chains?# Chains allow us to '\n",
       "                                   'combine multiple components together to '\n",
       "                                   'create a single, coherent application. For '\n",
       "                                   'example, we can create a chain that takes '\n",
       "                                   'user input, formats it with a '\n",
       "                                   'PromptTemplate, and then passes the '\n",
       "                                   'formatted response to an LLM. We can build '\n",
       "                                   'more complex chains by combining multiple '\n",
       "                                   'chains together, or by combining chains '\n",
       "                                   'with other components. Query an LLM with '\n",
       "                                   'the LLMChain# The LLMChain is a simple '\n",
       "                                   'chain that takes in a prompt template, '\n",
       "                                   'formats it with the user input and returns '\n",
       "                                   'the response from an',\n",
       "                           'url': 'https://langchain.readthedocs.io/en/latest/modules/chains/getting_started.html'},\n",
       "              'score': 0.85697293,\n",
       "              'sparse_values': {'indices': [], 'values': []},\n",
       "              'values': []},\n",
       "             {'id': '6af2a62c-f175-48a5-917e-12612a2212d9',\n",
       "              'metadata': {'chunk_id': 0.0,\n",
       "                           'text': '.rst .pdf LLMs LLMs# Note Conceptual Guide '\n",
       "                                   'Large Language Models (LLMs) are a core '\n",
       "                                   'component of LangChain. LangChain is not a '\n",
       "                                   'provider of LLMs, but rather provides a '\n",
       "                                   'standard interface through which you can '\n",
       "                                   'interact with a variety of LLMs. The '\n",
       "                                   'following sections of documentation are '\n",
       "                                   'provided: Getting Started: An overview of '\n",
       "                                   'all the functionality the LangChain LLM '\n",
       "                                   'class provides. How-To Guides: A '\n",
       "                                   'collection of how-to guides. These '\n",
       "                                   'highlight how to accomplish various '\n",
       "                                   'objectives with our LLM class (streaming, '\n",
       "                                   'async, etc). Integrations: A collection of '\n",
       "                                   'examples on how to integrate different LLM '\n",
       "                                   'providers with LangChain (OpenAI, Hugging '\n",
       "                                   'Face, etc). Reference: API reference '\n",
       "                                   'documentation for all LLM classes. '\n",
       "                                   'previous Models next Getting Started By '\n",
       "                                   'Harrison Chase © Copyright 2023, Harrison '\n",
       "                                   'Chase. Last updated on Mar 29, 2023.',\n",
       "                           'url': 'https://langchain.readthedocs.io/en/latest/modules/models/llms.html'},\n",
       "              'score': 0.85553426,\n",
       "              'sparse_values': {'indices': [], 'values': []},\n",
       "              'values': []}],\n",
       " 'namespace': ''}"
      ]
     },
     "execution_count": 21,
     "metadata": {},
     "output_type": "execute_result"
    }
   ],
   "source": [
    "retrieved_info"
   ]
  },
  {
   "cell_type": "code",
   "execution_count": 22,
   "metadata": {},
   "outputs": [
    {
     "data": {
      "text/plain": [
       "['.rst .pdf Chains Chains# Note Conceptual Guide Using an LLM in isolation is fine for some simple applications, but many more complex ones require chaining LLMs - either with each other or with other experts. LangChain provides a standard interface for Chains, as well as some common implementations of chains for ease of use. The following sections of documentation are provided: Getting Started: A getting started guide for chains, to get you up and running quickly. How-To Guides: A collection of how-to guides. These highlight how to use various types of chains. Reference: API reference documentation for all Chain classes. previous Redis Chat Message History next Getting Started By Harrison Chase © Copyright 2023, Harrison Chase. Last updated on Mar 29, 2023.',\n",
       " 'about how to do cool things with Chains, check out the how-to guide for chains. previous Chains next How-To Guides Contents Why do we need chains? Query an LLM with the LLMChain Combine chains with the SequentialChain Create a custom chain with the Chain class By Harrison Chase © Copyright 2023, Harrison Chase. Last updated on Mar 29, 2023.',\n",
       " 'LangChain provides many modules that can be used to build language model applications. Modules can be combined to create more complex applications, or be used individually for simple applications. LLMs: Get predictions from a language model The most basic building block of LangChain is calling an LLM on some input. Let’s walk through a simple example of how to do this. For this purpose, let’s pretend we are building a service that generates a company name based on what the company makes. In order to do this, we first need to import the LLM wrapper. from langchain.llms import OpenAI We can then initialize the wrapper with any arguments. In this example, we probably want the outputs to be MORE random, so we’ll initialize it with a HIGH temperature. llm = OpenAI(temperature=0.9) We can now call it on some input! text = \"What would be a good company name for a company that makes colorful socks?\" print(llm(text)) Feetful of Fun For more details',\n",
       " '.ipynb .pdf Getting Started Contents Why do we need chains? Query an LLM with the LLMChain Combine chains with the SequentialChain Create a custom chain with the Chain class Getting Started# In this tutorial, we will learn about creating simple chains in LangChain. We will learn how to create a chain, add components to it, and run it. In this tutorial, we will cover: Using a simple LLM chain Creating sequential chains Creating a custom chain Why do we need chains?# Chains allow us to combine multiple components together to create a single, coherent application. For example, we can create a chain that takes user input, formats it with a PromptTemplate, and then passes the formatted response to an LLM. We can build more complex chains by combining multiple chains together, or by combining chains with other components. Query an LLM with the LLMChain# The LLMChain is a simple chain that takes in a prompt template, formats it with the user input and returns the response from an',\n",
       " '.rst .pdf LLMs LLMs# Note Conceptual Guide Large Language Models (LLMs) are a core component of LangChain. LangChain is not a provider of LLMs, but rather provides a standard interface through which you can interact with a variety of LLMs. The following sections of documentation are provided: Getting Started: An overview of all the functionality the LangChain LLM class provides. How-To Guides: A collection of how-to guides. These highlight how to accomplish various objectives with our LLM class (streaming, async, etc). Integrations: A collection of examples on how to integrate different LLM providers with LangChain (OpenAI, Hugging Face, etc). Reference: API reference documentation for all LLM classes. previous Models next Getting Started By Harrison Chase © Copyright 2023, Harrison Chase. Last updated on Mar 29, 2023.']"
      ]
     },
     "execution_count": 22,
     "metadata": {},
     "output_type": "execute_result"
    }
   ],
   "source": [
    "context = [match[\"metadata\"][\"text\"] for match in retrieved_info[\"matches\"]]\n",
    "context"
   ]
  },
  {
   "cell_type": "code",
   "execution_count": 24,
   "metadata": {},
   "outputs": [
    {
     "name": "stdout",
     "output_type": "stream",
     "text": [
      ".rst .pdf Chains Chains# Note Conceptual Guide Using an LLM in isolation is fine for some simple applications, but many more complex ones require chaining LLMs - either with each other or with other experts. LangChain provides a standard interface for Chains, as well as some common implementations of chains for ease of use. The following sections of documentation are provided: Getting Started: A getting started guide for chains, to get you up and running quickly. How-To Guides: A collection of how-to guides. These highlight how to use various types of chains. Reference: API reference documentation for all Chain classes. previous Redis Chat Message History next Getting Started By Harrison Chase © Copyright 2023, Harrison Chase. Last updated on Mar 29, 2023.\n",
      "\n",
      "---\n",
      "\n",
      "about how to do cool things with Chains, check out the how-to guide for chains. previous Chains next How-To Guides Contents Why do we need chains? Query an LLM with the LLMChain Combine chains with the SequentialChain Create a custom chain with the Chain class By Harrison Chase © Copyright 2023, Harrison Chase. Last updated on Mar 29, 2023.\n",
      "\n",
      "---\n",
      "\n",
      "LangChain provides many modules that can be used to build language model applications. Modules can be combined to create more complex applications, or be used individually for simple applications. LLMs: Get predictions from a language model The most basic building block of LangChain is calling an LLM on some input. Let’s walk through a simple example of how to do this. For this purpose, let’s pretend we are building a service that generates a company name based on what the company makes. In order to do this, we first need to import the LLM wrapper. from langchain.llms import OpenAI We can then initialize the wrapper with any arguments. In this example, we probably want the outputs to be MORE random, so we’ll initialize it with a HIGH temperature. llm = OpenAI(temperature=0.9) We can now call it on some input! text = \"What would be a good company name for a company that makes colorful socks?\" print(llm(text)) Feetful of Fun For more details\n",
      "\n",
      "---\n",
      "\n",
      ".ipynb .pdf Getting Started Contents Why do we need chains? Query an LLM with the LLMChain Combine chains with the SequentialChain Create a custom chain with the Chain class Getting Started# In this tutorial, we will learn about creating simple chains in LangChain. We will learn how to create a chain, add components to it, and run it. In this tutorial, we will cover: Using a simple LLM chain Creating sequential chains Creating a custom chain Why do we need chains?# Chains allow us to combine multiple components together to create a single, coherent application. For example, we can create a chain that takes user input, formats it with a PromptTemplate, and then passes the formatted response to an LLM. We can build more complex chains by combining multiple chains together, or by combining chains with other components. Query an LLM with the LLMChain# The LLMChain is a simple chain that takes in a prompt template, formats it with the user input and returns the response from an\n",
      "\n",
      "---\n",
      "\n",
      ".rst .pdf LLMs LLMs# Note Conceptual Guide Large Language Models (LLMs) are a core component of LangChain. LangChain is not a provider of LLMs, but rather provides a standard interface through which you can interact with a variety of LLMs. The following sections of documentation are provided: Getting Started: An overview of all the functionality the LangChain LLM class provides. How-To Guides: A collection of how-to guides. These highlight how to accomplish various objectives with our LLM class (streaming, async, etc). Integrations: A collection of examples on how to integrate different LLM providers with LangChain (OpenAI, Hugging Face, etc). Reference: API reference documentation for all LLM classes. previous Models next Getting Started By Harrison Chase © Copyright 2023, Harrison Chase. Last updated on Mar 29, 2023.\n",
      "\n",
      "---\n",
      "\n",
      "How do I use the LLMChain in LangChain?\n"
     ]
    }
   ],
   "source": [
    "augmented_query = \"\\n\\n---\\n\\n\".join(context) + \"\\n\\n---\\n\\n\" + query\n",
    "print(augmented_query)"
   ]
  },
  {
   "cell_type": "code",
   "execution_count": 26,
   "metadata": {},
   "outputs": [],
   "source": [
    "primer = f\"\"\"\n",
    "You are Q&A bot. A highly intelligent system that answers\n",
    "user questions based on the information provided by the user above\n",
    "each question. If the information can not be found in the information\n",
    "provided by the user you truthfully say \"I don't know\".\n",
    "\"\"\".strip()\n",
    "\n",
    "response = openai.ChatCompletion.create(\n",
    "    model=\"gpt-4\",\n",
    "    messages=[\n",
    "        {\"role\": \"system\", \"content\": primer},\n",
    "        {\"role\": \"user\", \"content\": augmented_query}\n",
    "    ]\n",
    ")"
   ]
  },
  {
   "cell_type": "code",
   "execution_count": 33,
   "metadata": {},
   "outputs": [
    {
     "data": {
      "text/markdown": [
       "To use the LLMChain in LangChain, follow these steps:\n",
       "\n",
       "1. Import the necessary modules and classes.\n",
       "\n",
       "```python\n",
       "from langchain.llms import OpenAI\n",
       "from langchain.chains import LLMChain\n",
       "```\n",
       "\n",
       "2. Initialize the LLM wrapper with the desired arguments. In this example, we'll use the OpenAI language model with a temperature of 0.9.\n",
       "\n",
       "```python\n",
       "llm = OpenAI(temperature=0.9)\n",
       "```\n",
       "\n",
       "3. Create an instance of the `LLMChain` class and provide the LLM wrapper object.\n",
       "\n",
       "```python\n",
       "llm_chain = LLMChain(llm)\n",
       "```\n",
       "\n",
       "4. Now, you can call the `llm_chain` with the user input text to get the LLM's response.\n",
       "\n",
       "```python\n",
       "text = \"What would be a good company name for a company that makes colorful socks?\"\n",
       "response = llm_chain(text)\n",
       "print(response)\n",
       "```\n",
       "\n",
       "The `LLMChain` takes in the user input, formats it with the given prompt template (if any), and returns the response from the LLM."
      ],
      "text/plain": [
       "<IPython.core.display.Markdown object>"
      ]
     },
     "metadata": {},
     "output_type": "display_data"
    }
   ],
   "source": [
    "from IPython.display import Markdown\n",
    "\n",
    "display(Markdown(response['choices'][0]['message']['content']))"
   ]
  },
  {
   "cell_type": "code",
   "execution_count": 34,
   "metadata": {},
   "outputs": [],
   "source": [
    "response = openai.ChatCompletion.create(\n",
    "    model=\"gpt-4\",\n",
    "    messages=[\n",
    "        {\"role\": \"system\", \"content\": primer},\n",
    "        {\"role\": \"user\", \"content\": query}\n",
    "    ]\n",
    ")"
   ]
  },
  {
   "cell_type": "code",
   "execution_count": 35,
   "metadata": {},
   "outputs": [
    {
     "data": {
      "text/markdown": [
       "I don't know."
      ],
      "text/plain": [
       "<IPython.core.display.Markdown object>"
      ]
     },
     "metadata": {},
     "output_type": "display_data"
    }
   ],
   "source": [
    "display(Markdown(response['choices'][0]['message']['content']))"
   ]
  },
  {
   "cell_type": "code",
   "execution_count": null,
   "metadata": {},
   "outputs": [],
   "source": []
  },
  {
   "cell_type": "code",
   "execution_count": null,
   "metadata": {},
   "outputs": [],
   "source": []
  }
 ],
 "metadata": {
  "kernelspec": {
   "display_name": "ml",
   "language": "python",
   "name": "python3"
  },
  "language_info": {
   "codemirror_mode": {
    "name": "ipython",
    "version": 3
   },
   "file_extension": ".py",
   "mimetype": "text/x-python",
   "name": "python",
   "nbconvert_exporter": "python",
   "pygments_lexer": "ipython3",
   "version": "3.10.9"
  },
  "orig_nbformat": 4
 },
 "nbformat": 4,
 "nbformat_minor": 2
}
