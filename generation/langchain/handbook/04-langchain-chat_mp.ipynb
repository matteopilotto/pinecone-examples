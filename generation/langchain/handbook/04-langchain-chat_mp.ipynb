{
 "cells": [
  {
   "cell_type": "code",
   "execution_count": 3,
   "metadata": {},
   "outputs": [],
   "source": [
    "def format_text(text):\n",
    "    return text.strip().replace(\". \", \".\\n\")"
   ]
  },
  {
   "cell_type": "code",
   "execution_count": 4,
   "metadata": {},
   "outputs": [],
   "source": [
    "from getpass import getpass\n",
    "import os\n",
    "\n",
    "os.environ[\"OPENAI_API_KEY\"] = getpass(\"OpenAI API Key: \")"
   ]
  },
  {
   "cell_type": "code",
   "execution_count": 5,
   "metadata": {},
   "outputs": [],
   "source": [
    "from langchain.chat_models import ChatOpenAI\n",
    "\n",
    "chat = ChatOpenAI(\n",
    "    model_name=\"gpt-3.5-turbo\",\n",
    "    temperature=0,\n",
    "    openai_api_key=os.environ[\"OPENAI_API_KEY\"]\n",
    ")"
   ]
  },
  {
   "cell_type": "code",
   "execution_count": 6,
   "metadata": {},
   "outputs": [],
   "source": [
    "from langchain.schema import SystemMessage, HumanMessage, AIMessage\n",
    "\n",
    "messages = [\n",
    "    SystemMessage(content=\"You are a helpful assistant.\"),\n",
    "    HumanMessage(content=\"Hi AI, how are you today?\"),\n",
    "    AIMessage(content=\"I'm great, thank you. How can I help you?\"),\n",
    "    HumanMessage(content=\"I'd like to understand string theory\")\n",
    "]"
   ]
  },
  {
   "cell_type": "code",
   "execution_count": 6,
   "metadata": {},
   "outputs": [
    {
     "data": {
      "text/plain": [
       "AIMessage(content='String theory is a theoretical framework in physics that attempts to reconcile quantum mechanics and general relativity. It proposes that the fundamental building blocks of the universe are not particles, but tiny, one-dimensional \"strings\" that vibrate at different frequencies. These strings are incredibly small, with a length scale of about 10^-33 centimeters.\\n\\nThe theory suggests that there are many different possible configurations of these strings, each corresponding to a different particle with different properties, such as mass and charge. In this way, string theory provides a way to unify all the known forces of nature, including gravity, electromagnetism, and the strong and weak nuclear forces.\\n\\nOne of the most intriguing aspects of string theory is the idea of extra dimensions. In addition to the three dimensions of space and one of time that we experience in our everyday lives, string theory requires the existence of six or seven additional dimensions that are curled up and hidden from view.\\n\\nWhile string theory is still a highly speculative and controversial idea, it has generated a great deal of interest and research in the physics community.', additional_kwargs={})"
      ]
     },
     "execution_count": 6,
     "metadata": {},
     "output_type": "execute_result"
    }
   ],
   "source": [
    "response = chat(messages)\n",
    "response"
   ]
  },
  {
   "cell_type": "code",
   "execution_count": 7,
   "metadata": {},
   "outputs": [
    {
     "name": "stdout",
     "output_type": "stream",
     "text": [
      "String theory is a theoretical framework in physics that attempts to reconcile quantum mechanics and general relativity.\n",
      "It proposes that the fundamental building blocks of the universe are not particles, but tiny, one-dimensional \"strings\" that vibrate at different frequencies.\n",
      "These strings are incredibly small, with a length scale of about 10^-33 centimeters.\n",
      "\n",
      "The theory suggests that there are many different possible configurations of these strings, each corresponding to a different particle with different properties, such as mass and charge.\n",
      "In this way, string theory provides a way to unify all the known forces of nature, including gravity, electromagnetism, and the strong and weak nuclear forces.\n",
      "\n",
      "One of the most intriguing aspects of string theory is the idea of extra dimensions.\n",
      "In addition to the three dimensions of space and one of time that we experience in our everyday lives, string theory requires the existence of six or seven additional dimensions that are curled up and hidden from view.\n",
      "\n",
      "While string theory is still a highly speculative and controversial idea, it has generated a great deal of interest and research in the physics community.\n"
     ]
    }
   ],
   "source": [
    "print(format_text(response.content))"
   ]
  },
  {
   "cell_type": "code",
   "execution_count": 8,
   "metadata": {},
   "outputs": [
    {
     "name": "stdout",
     "output_type": "stream",
     "text": [
      "Physicists believe that string theory has the potential to produce a unified theory because it provides a way to reconcile the two pillars of modern physics: quantum mechanics and general relativity.\n",
      "\n",
      "Quantum mechanics describes the behavior of particles on a very small scale, while general relativity describes the behavior of gravity on a large scale.\n",
      "However, these two theories are fundamentally incompatible with each other, and attempts to combine them have been unsuccessful.\n",
      "\n",
      "String theory proposes that the fundamental building blocks of the universe are not particles, but tiny, one-dimensional \"strings\" that vibrate at different frequencies.\n",
      "These strings are incredibly small, with a length scale of about 10^-33 centimeters.\n",
      "\n",
      "The theory suggests that there are many different possible configurations of these strings, each corresponding to a different particle with different properties, such as mass and charge.\n",
      "In this way, string theory provides a way to unify all the known forces of nature, including gravity, electromagnetism, and the strong and weak nuclear forces.\n",
      "\n",
      "Furthermore, string theory requires the existence of extra dimensions beyond the three dimensions of space and one of time that we experience in our everyday lives.\n",
      "These extra dimensions could provide a way to reconcile quantum mechanics and general relativity by allowing gravity to be described in terms of the geometry of these extra dimensions\n"
     ]
    }
   ],
   "source": [
    "messages.append(response)\n",
    "\n",
    "prompt = HumanMessage(content=\"Why physicists believe it can produce a 'unified theory'?\")\n",
    "messages.append(prompt)\n",
    "\n",
    "response = chat(messages)\n",
    "\n",
    "print(format_text(response.content))"
   ]
  },
  {
   "cell_type": "markdown",
   "metadata": {},
   "source": [
    "### New prompt templates"
   ]
  },
  {
   "cell_type": "code",
   "execution_count": 7,
   "metadata": {},
   "outputs": [],
   "source": [
    "chat = ChatOpenAI(\n",
    "    model_name=\"gpt-3.5-turbo\",\n",
    "    temperature=0,\n",
    "    openai_api_key=os.environ[\"OPENAI_API_KEY\"]\n",
    ")\n",
    "\n",
    "messages = [\n",
    "    SystemMessage(content=\n",
    "                  \"You are a helpful assistant. You keep responses to no more than \"\n",
    "                  \"100 characters long (including whitespace), and you sign off every \"\n",
    "                  \"message with a random name like 'Robot McRobot' or 'Bob Rob'.\"\n",
    "    ),\n",
    "    HumanMessage(content=\"Hi AI, how are you? What is quantum physics?\")\n",
    "]"
   ]
  },
  {
   "cell_type": "code",
   "execution_count": 10,
   "metadata": {},
   "outputs": [
    {
     "name": "stdout",
     "output_type": "stream",
     "text": [
      "Length response: 154\n",
      "I'm doing well, thank you! Quantum physics is the study of the behavior of matter and energy at a very small scale, such as atoms and subatomic particles.\n"
     ]
    }
   ],
   "source": [
    "response = chat(messages)\n",
    "\n",
    "print(f\"Length response: {len(response.content)}\")\n",
    "print(format_text(response.content))"
   ]
  },
  {
   "cell_type": "code",
   "execution_count": 63,
   "metadata": {},
   "outputs": [
    {
     "name": "stdout",
     "output_type": "stream",
     "text": [
      "messages=[HumanMessage(content='Hi AI, how are you? What is quantum physics? Can you keep the response to no more than 100 characters (including whitespace) (including whitespace), and sign off with a random name like \"Robot McRobot\" or \"Bot Rob\".', additional_kwargs={})]\n"
     ]
    }
   ],
   "source": [
    "from langchain.prompts.chat import HumanMessagePromptTemplate, ChatPromptTemplate\n",
    "\n",
    "human_template = HumanMessagePromptTemplate.from_template(\n",
    "    '{input} Can you keep the response to no more than 100 characters (including whitespace) '\n",
    "    '(including whitespace), and sign off with a random name like \"Robot '\n",
    "    'McRobot\" or \"Bot Rob\".'\n",
    ")\n",
    "\n",
    "chat_prompt = ChatPromptTemplate.from_messages([human_template])\n",
    "\n",
    "chat_prompt_formatted = chat_prompt.format_prompt(input=\"Hi AI, how are you? What is quantum physics?\")\n",
    "\n",
    "print(chat_prompt_formatted)"
   ]
  },
  {
   "cell_type": "code",
   "execution_count": 40,
   "metadata": {},
   "outputs": [
    {
     "data": {
      "text/plain": [
       "[HumanMessage(content='Hi AI, how are you? What is quantum physics? Keep the response to no more than 100 characters (including whitespace)(including whitespace), and sign off with a random name like \"Robot McRobot\" or \"Bot Rob\".', additional_kwargs={})]"
      ]
     },
     "execution_count": 40,
     "metadata": {},
     "output_type": "execute_result"
    }
   ],
   "source": [
    "chat_prompt_formatted.to_messages()"
   ]
  },
  {
   "cell_type": "code",
   "execution_count": 41,
   "metadata": {},
   "outputs": [
    {
     "data": {
      "text/plain": [
       "'Human: Hi AI, how are you? What is quantum physics? Keep the response to no more than 100 characters (including whitespace)(including whitespace), and sign off with a random name like \"Robot McRobot\" or \"Bot Rob\".'"
      ]
     },
     "execution_count": 41,
     "metadata": {},
     "output_type": "execute_result"
    }
   ],
   "source": [
    "chat_prompt_formatted.to_string()"
   ]
  },
  {
   "cell_type": "code",
   "execution_count": 67,
   "metadata": {},
   "outputs": [],
   "source": [
    "messages = [\n",
    "    SystemMessage(content=(\n",
    "                'You are a helpful assistant. You always keep your responses to no more than '\n",
    "                '100 characters long (including whitespace), and sign off every '\n",
    "                'message with a random name like \"Robot McRobot\" or \"Bot Rob\".'\n",
    "    )),\n",
    "    chat_prompt.format_prompt(input=\"Hi AI, how are you? What is quantum physics?\").to_messages()[0]\n",
    "]\n",
    "\n",
    "response = chat(messages)"
   ]
  },
  {
   "cell_type": "code",
   "execution_count": 68,
   "metadata": {},
   "outputs": [
    {
     "name": "stdout",
     "output_type": "stream",
     "text": [
      "Response length: 99\n",
      "I'm good! Quantum physics studies the behavior of matter and energy at a very small scale.\n",
      "-Bot Rob\n"
     ]
    }
   ],
   "source": [
    "print(f\"Response length: {len(response.content)}\")\n",
    "print(format_text(response.content))"
   ]
  },
  {
   "cell_type": "code",
   "execution_count": null,
   "metadata": {},
   "outputs": [],
   "source": [
    "'You are a helpful assistant. You keep responses to no more than '\n",
    "'You are a helpful assistant. You keep responses to no more than '\n",
    "'100 characters long (including whitespace), and sign off every '\n",
    "'100 characters long (including whitespace), and sign off every '\n",
    "'message with a random name like \"Robot McRobot\" or \"Bot Rob\".'\n",
    "'message with a random name like \"Robot McRobot\" or \"Bot Rob\".'\n",
    "\n",
    "\n",
    "'100 characters long (including whitespace), and sign off every '\n",
    "'message with a random name like \"Robot McRobot\" or \"Bot Rob\".'"
   ]
  },
  {
   "cell_type": "code",
   "execution_count": 70,
   "metadata": {},
   "outputs": [
    {
     "data": {
      "text/plain": [
       "ChatPromptValue(messages=[SystemMessage(content=\"You are a helpful assistant. You always keep your response to no more than 50 characters long (including whitespace), and you always sign off every message with '- Robot McRobot'.\", additional_kwargs={}), HumanMessage(content='Hi AI, how are you? What is quantum physics?', additional_kwargs={}), AIMessage(content=\"Good! It's physics of small things. - Robot McRobot\", additional_kwargs={})])"
      ]
     },
     "execution_count": 70,
     "metadata": {},
     "output_type": "execute_result"
    }
   ],
   "source": [
    "from langchain.prompts.chat import SystemMessagePromptTemplate, AIMessagePromptTemplate\n",
    "\n",
    "system_template = SystemMessagePromptTemplate.from_template(\n",
    "    \"You are a helpful assistant. You always keep your response to no more than \"\n",
    "    \"{character_limit} characters long (including whitespace), and you always sign off \"\n",
    "    \"every message with '- {sign_off}'.\"\n",
    ")\n",
    "\n",
    "human_template = HumanMessagePromptTemplate.from_template(\"{input}\")\n",
    "\n",
    "ai_template = AIMessagePromptTemplate.from_template(\"{response} - {sign_off}\")\n",
    "\n",
    "chat_prompt = ChatPromptTemplate.from_messages([\n",
    "    system_template,\n",
    "    human_template,\n",
    "    ai_template\n",
    "])\n",
    "\n",
    "chat_prompt_formatted = chat_prompt.format_prompt(\n",
    "    character_limit=\"50\",\n",
    "    sign_off=\"Robot McRobot\",\n",
    "    input=\"Hi AI, how are you? What is quantum physics?\",\n",
    "    response=\"Good! It's physics of small things.\"\n",
    ")\n",
    "\n",
    "chat_prompt_formatted"
   ]
  },
  {
   "cell_type": "code",
   "execution_count": 71,
   "metadata": {},
   "outputs": [
    {
     "data": {
      "text/plain": [
       "[SystemMessage(content=\"You are a helpful assistant. You always keep your response to no more than 50 characters long (including whitespace), and you always sign off every message with '- Robot McRobot'.\", additional_kwargs={}),\n",
       " HumanMessage(content='Hi AI, how are you? What is quantum physics?', additional_kwargs={}),\n",
       " AIMessage(content=\"Good! It's physics of small things. - Robot McRobot\", additional_kwargs={})]"
      ]
     },
     "execution_count": 71,
     "metadata": {},
     "output_type": "execute_result"
    }
   ],
   "source": [
    "chat_prompt_formatted.to_messages()"
   ]
  },
  {
   "cell_type": "code",
   "execution_count": 73,
   "metadata": {},
   "outputs": [
    {
     "name": "stdout",
     "output_type": "stream",
     "text": [
      "System: You are a helpful assistant. You always keep your response to no more than 50 characters long (including whitespace), and you always sign off every message with '- Robot McRobot'.\n",
      "Human: Hi AI, how are you? What is quantum physics?\n",
      "AI: Good! It's physics of small things. - Robot McRobot\n"
     ]
    }
   ],
   "source": [
    "print(chat_prompt_formatted.to_string())"
   ]
  },
  {
   "cell_type": "code",
   "execution_count": 75,
   "metadata": {},
   "outputs": [],
   "source": [
    "messages = chat_prompt_formatted.to_messages()\n",
    "\n",
    "messages.append(HumanMessage(content=\"How small?\"))\n",
    "\n",
    "response = chat(messages)"
   ]
  },
  {
   "cell_type": "code",
   "execution_count": 76,
   "metadata": {},
   "outputs": [
    {
     "name": "stdout",
     "output_type": "stream",
     "text": [
      "Response length: 44\n",
      "Atoms, particles, and light.\n",
      "- Robot McRobot\n"
     ]
    }
   ],
   "source": [
    "print(f\"Response length: {len(response.content)}\")\n",
    "print(format_text(response.content))"
   ]
  },
  {
   "cell_type": "code",
   "execution_count": 77,
   "metadata": {},
   "outputs": [],
   "source": [
    "messages.append(response)\n",
    "\n",
    "messages.append(HumanMessage(content=\"Okay cool! Is it like 'partical physics'?\"))\n",
    "\n",
    "response = chat(messages)"
   ]
  },
  {
   "cell_type": "code",
   "execution_count": 78,
   "metadata": {},
   "outputs": [
    {
     "name": "stdout",
     "output_type": "stream",
     "text": [
      "Response length: 55\n",
      "Yes, it's a branch of particle physics.\n",
      "- Robot McRobot\n"
     ]
    }
   ],
   "source": [
    "print(f\"Response length: {len(response.content)}\")\n",
    "print(format_text(response.content))"
   ]
  },
  {
   "cell_type": "code",
   "execution_count": 102,
   "metadata": {},
   "outputs": [],
   "source": [
    "human_template = HumanMessagePromptTemplate.from_template(\n",
    "    \"{input} Always answer in less than {character_limit} characters, including whitespaces.\"\n",
    ")\n",
    "\n",
    "human_prompt = ChatPromptTemplate.from_messages([human_template])\n",
    "\n",
    "human_prompt_formatted = human_prompt.format_prompt(\n",
    "    input=\"Okay cool! Is it like 'partical physics'?\",\n",
    "    character_limit=\"50\"\n",
    ")"
   ]
  },
  {
   "cell_type": "code",
   "execution_count": 103,
   "metadata": {},
   "outputs": [
    {
     "name": "stdout",
     "output_type": "stream",
     "text": [
      "[HumanMessage(content=\"Okay cool! Is it like 'partical physics'? Always answer in less than 50 characters, including whitespaces.\", additional_kwargs={})]\n"
     ]
    }
   ],
   "source": [
    "print(human_prompt_formatted.to_messages())"
   ]
  },
  {
   "cell_type": "code",
   "execution_count": 104,
   "metadata": {},
   "outputs": [
    {
     "name": "stdout",
     "output_type": "stream",
     "text": [
      "Human: Okay cool! Is it like 'partical physics'? Always answer in less than 50 characters, including whitespaces.\n"
     ]
    }
   ],
   "source": [
    "print(human_prompt_formatted.to_string())"
   ]
  },
  {
   "cell_type": "code",
   "execution_count": 105,
   "metadata": {},
   "outputs": [
    {
     "data": {
      "text/plain": [
       "HumanMessage(content=\"Okay cool! Is it like 'partical physics'? Always answer with exactly 50 characters, including whitespaces.\", additional_kwargs={})"
      ]
     },
     "execution_count": 105,
     "metadata": {},
     "output_type": "execute_result"
    }
   ],
   "source": [
    "messages.pop(-1)"
   ]
  },
  {
   "cell_type": "code",
   "execution_count": 106,
   "metadata": {},
   "outputs": [
    {
     "data": {
      "text/plain": [
       "[SystemMessage(content=\"You are a helpful assistant. You always keep your response to no more than 50 characters long (including whitespace), and you always sign off every message with '- Robot McRobot'.\", additional_kwargs={}),\n",
       " HumanMessage(content='Hi AI, how are you? What is quantum physics?', additional_kwargs={}),\n",
       " AIMessage(content=\"Good! It's physics of small things. - Robot McRobot\", additional_kwargs={}),\n",
       " HumanMessage(content='How small?', additional_kwargs={}),\n",
       " HumanMessage(content='How small?', additional_kwargs={}),\n",
       " AIMessage(content='Atoms, particles, and light. - Robot McRobot', additional_kwargs={}),\n",
       " HumanMessage(content=\"Okay cool! Is it like 'partical physics'? Always answer in less than 50 characters, including whitespaces.\", additional_kwargs={})]"
      ]
     },
     "execution_count": 106,
     "metadata": {},
     "output_type": "execute_result"
    }
   ],
   "source": [
    "messages.extend(human_prompt_formatted.to_messages())\n",
    "messages"
   ]
  },
  {
   "cell_type": "code",
   "execution_count": 107,
   "metadata": {},
   "outputs": [
    {
     "name": "stdout",
     "output_type": "stream",
     "text": [
      "Response length: 39\n",
      "Similar, but different.\n",
      "- Robot McRobot\n"
     ]
    }
   ],
   "source": [
    "response = chat(messages)\n",
    "\n",
    "print(f\"Response length: {len(response.content)}\")\n",
    "print(format_text(response.content))"
   ]
  },
  {
   "cell_type": "code",
   "execution_count": 112,
   "metadata": {},
   "outputs": [
    {
     "data": {
      "text/plain": [
       "HumanMessage(content=\"Okay cool! So is it like 'partical physics'? Always answer in less than 50 characters, including whitespaces.\", additional_kwargs={})"
      ]
     },
     "execution_count": 112,
     "metadata": {},
     "output_type": "execute_result"
    }
   ],
   "source": [
    "human_template = \"{query} Always answer in less than {character_limit} characters, including whitespaces.\"\n",
    "query = \"Okay cool! So is it like 'partical physics'?\"\n",
    "character_limit = \"50\"\n",
    "\n",
    "human_message = HumanMessage(content=human_template.format(query=query, character_limit=character_limit))\n",
    "\n",
    "human_message\n"
   ]
  },
  {
   "cell_type": "code",
   "execution_count": 113,
   "metadata": {},
   "outputs": [
    {
     "name": "stdout",
     "output_type": "stream",
     "text": [
      "Response length: 39\n",
      "Similar, but different.\n",
      "- Robot McRobot\n"
     ]
    }
   ],
   "source": [
    "messages.pop(-1)\n",
    "messages.append(human_message)\n",
    "\n",
    "response = chat(messages)\n",
    "\n",
    "print(f\"Response length: {len(response.content)}\")\n",
    "print(format_text(response.content))"
   ]
  },
  {
   "cell_type": "code",
   "execution_count": null,
   "metadata": {},
   "outputs": [],
   "source": []
  }
 ],
 "metadata": {
  "kernelspec": {
   "display_name": "ml",
   "language": "python",
   "name": "python3"
  },
  "language_info": {
   "codemirror_mode": {
    "name": "ipython",
    "version": 3
   },
   "file_extension": ".py",
   "mimetype": "text/x-python",
   "name": "python",
   "nbconvert_exporter": "python",
   "pygments_lexer": "ipython3",
   "version": "3.10.9"
  },
  "orig_nbformat": 4
 },
 "nbformat": 4,
 "nbformat_minor": 2
}
