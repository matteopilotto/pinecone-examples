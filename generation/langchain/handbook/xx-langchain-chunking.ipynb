{
 "cells": [
  {
   "attachments": {},
   "cell_type": "markdown",
   "metadata": {},
   "source": [
    "[![Open In Colab](https://colab.research.google.com/assets/colab-badge.svg)](https://colab.research.google.com/github/pinecone-io/examples/blob/master/generation/langchain/handbook/xx-langchain-chunking.ipynb) [![Open nbviewer](https://raw.githubusercontent.com/pinecone-io/examples/master/assets/nbviewer-shield.svg)](https://nbviewer.org/github/pinecone-io/examples/blob/master/generation/langchain/handbook/xx-langchain-chunking.ipynb)"
   ]
  },
  {
   "attachments": {},
   "cell_type": "markdown",
   "metadata": {},
   "source": [
    "#### [LangChain Handbook](https://pinecone.io/learn/langchain)\n",
    "\n",
    "# Preparing Text Data for use with Retrieval-Augmented LLMs\n",
    "\n",
    "In this walkthrough we'll take a look at an example and some of the considerations when we need to prepare text data for retrieval augmented question-answering using **L**arge **L**anguage **M**odels (LLMs)."
   ]
  },
  {
   "attachments": {},
   "cell_type": "markdown",
   "metadata": {},
   "source": [
    "## Required Libraries"
   ]
  },
  {
   "attachments": {},
   "cell_type": "markdown",
   "metadata": {},
   "source": [
    "There are a few Python libraries we must `pip install` for this notebook to run, those are:"
   ]
  },
  {
   "cell_type": "code",
   "execution_count": null,
   "metadata": {},
   "outputs": [],
   "source": [
    "!pip install -qU langchain tiktoken matplotlib seaborn tqdm"
   ]
  },
  {
   "attachments": {},
   "cell_type": "markdown",
   "metadata": {},
   "source": [
    "## Preparing Data"
   ]
  },
  {
   "attachments": {},
   "cell_type": "markdown",
   "metadata": {},
   "source": [
    "In this example, we will download the LangChain docs from [langchain.readthedocs.io/](https://langchain.readthedocs.io/latest/en/). We get all `.html` files located on the site like so:"
   ]
  },
  {
   "cell_type": "code",
   "execution_count": null,
   "metadata": {},
   "outputs": [],
   "source": [
    "!wget -r -A.html -P rtdocs https://langchain.readthedocs.io/en/latest/"
   ]
  },
  {
   "attachments": {},
   "cell_type": "markdown",
   "metadata": {},
   "source": [
    "This downloads all HTML into the `rtdocs` directory. Now we can use LangChain itself to process these docs. We do this using the `ReadTheDocsLoader` like so:"
   ]
  },
  {
   "cell_type": "code",
   "execution_count": 44,
   "metadata": {},
   "outputs": [
    {
     "name": "stderr",
     "output_type": "stream",
     "text": [
      "c:\\Users\\matte\\miniconda3\\envs\\ml\\lib\\site-packages\\langchain\\document_loaders\\readthedocs.py:30: GuessedAtParserWarning: No parser was explicitly specified, so I'm using the best available HTML parser for this system (\"html.parser\"). This usually isn't a problem, but if you run this code on another system, or in a different virtual environment, it may use a different parser and behave differently.\n",
      "\n",
      "The code that caused this warning is on line 30 of the file c:\\Users\\matte\\miniconda3\\envs\\ml\\lib\\site-packages\\langchain\\document_loaders\\readthedocs.py. To get rid of this warning, pass the additional argument 'features=\"html.parser\"' to the BeautifulSoup constructor.\n",
      "\n",
      "  _ = BeautifulSoup(\n",
      "c:\\Users\\matte\\miniconda3\\envs\\ml\\lib\\site-packages\\langchain\\document_loaders\\readthedocs.py:46: GuessedAtParserWarning: No parser was explicitly specified, so I'm using the best available HTML parser for this system (\"html.parser\"). This usually isn't a problem, but if you run this code on another system, or in a different virtual environment, it may use a different parser and behave differently.\n",
      "\n",
      "The code that caused this warning is on line 46 of the file c:\\Users\\matte\\miniconda3\\envs\\ml\\lib\\site-packages\\langchain\\document_loaders\\readthedocs.py. To get rid of this warning, pass the additional argument 'features=\"html.parser\"' to the BeautifulSoup constructor.\n",
      "\n",
      "  soup = BeautifulSoup(data, **self.bs_kwargs)\n"
     ]
    },
    {
     "data": {
      "text/plain": [
       "397"
      ]
     },
     "execution_count": 44,
     "metadata": {},
     "output_type": "execute_result"
    }
   ],
   "source": [
    "from langchain.document_loaders import ReadTheDocsLoader\n",
    "\n",
    "loader = ReadTheDocsLoader('rtdocs')\n",
    "docs = loader.load()\n",
    "len(docs)"
   ]
  },
  {
   "attachments": {},
   "cell_type": "markdown",
   "metadata": {},
   "source": [
    "This leaves us with `389` processed doc pages. Let's take a look at the format each one contains:"
   ]
  },
  {
   "cell_type": "code",
   "execution_count": 4,
   "metadata": {},
   "outputs": [
    {
     "data": {
      "text/plain": [
       "Document(page_content='.md\\n.pdf\\nDeployments\\n Contents \\nStreamlit\\nGradio (on Hugging Face)\\nBeam\\nVercel\\nSteamShip\\nDeployments#\\nSo you’ve made a really cool chain - now what? How do you deploy it and make it easily sharable with the world?\\nThis section covers several options for that.\\nNote that these are meant as quick deployment options for prototypes and demos, and not for production systems.\\nIf you are looking for help with deployment of a production system, please contact us directly.\\nWhat follows is a list of template GitHub repositories aimed that are intended to be\\nvery easy to fork and modify to use your chain.\\nThis is far from an exhaustive list of options, and we are EXTREMELY open to contributions here.\\nStreamlit#\\nThis repo serves as a template for how to deploy a LangChain with Streamlit.\\nIt implements a chatbot interface.\\nIt also contains instructions for how to deploy this app on the Streamlit platform.\\nGradio (on Hugging Face)#\\nThis repo serves as a template for how deploy a LangChain with Gradio.\\nIt implements a chatbot interface, with a “Bring-Your-Own-Token” approach (nice for not wracking up big bills).\\nIt also contains instructions for how to deploy this app on the Hugging Face platform.\\nThis is heavily influenced by James Weaver’s excellent examples.\\nBeam#\\nThis repo serves as a template for how deploy a LangChain with Beam.\\nIt implements a Question Answering app and contains instructions for deploying the app as a serverless REST API.\\nVercel#\\nA minimal example on how to run LangChain on Vercel using Flask.\\nSteamShip#\\nThis repository contains LangChain adapters for Steamship, enabling LangChain developers to rapidly deploy their apps on Steamship.\\nThis includes: production ready endpoints, horizontal scaling across dependencies, persistant storage of app state, multi-tenancy support, etc.\\nprevious\\nLangChain Gallery\\nnext\\nTracing\\n Contents\\n  \\nStreamlit\\nGradio (on Hugging Face)\\nBeam\\nVercel\\nSteamShip\\nBy Harrison Chase\\n    \\n      © Copyright 2023, Harrison Chase.\\n      \\n  Last updated on Mar 24, 2023.\\n  ', lookup_str='', metadata={'source': 'rtdocs\\\\langchain.readthedocs.io\\\\en\\\\latest\\\\deployments.html'}, lookup_index=0)"
      ]
     },
     "execution_count": 4,
     "metadata": {},
     "output_type": "execute_result"
    }
   ],
   "source": [
    "docs[0]"
   ]
  },
  {
   "attachments": {},
   "cell_type": "markdown",
   "metadata": {},
   "source": [
    "We access the plaintext page content like so:"
   ]
  },
  {
   "cell_type": "code",
   "execution_count": 5,
   "metadata": {},
   "outputs": [
    {
     "name": "stdout",
     "output_type": "stream",
     "text": [
      ".md\n",
      ".pdf\n",
      "Deployments\n",
      " Contents \n",
      "Streamlit\n",
      "Gradio (on Hugging Face)\n",
      "Beam\n",
      "Vercel\n",
      "SteamShip\n",
      "Deployments#\n",
      "So you’ve made a really cool chain - now what? How do you deploy it and make it easily sharable with the world?\n",
      "This section covers several options for that.\n",
      "Note that these are meant as quick deployment options for prototypes and demos, and not for production systems.\n",
      "If you are looking for help with deployment of a production system, please contact us directly.\n",
      "What follows is a list of template GitHub repositories aimed that are intended to be\n",
      "very easy to fork and modify to use your chain.\n",
      "This is far from an exhaustive list of options, and we are EXTREMELY open to contributions here.\n",
      "Streamlit#\n",
      "This repo serves as a template for how to deploy a LangChain with Streamlit.\n",
      "It implements a chatbot interface.\n",
      "It also contains instructions for how to deploy this app on the Streamlit platform.\n",
      "Gradio (on Hugging Face)#\n",
      "This repo serves as a template for how deploy a LangChain with Gradio.\n",
      "It implements a chatbot interface, with a “Bring-Your-Own-Token” approach (nice for not wracking up big bills).\n",
      "It also contains instructions for how to deploy this app on the Hugging Face platform.\n",
      "This is heavily influenced by James Weaver’s excellent examples.\n",
      "Beam#\n",
      "This repo serves as a template for how deploy a LangChain with Beam.\n",
      "It implements a Question Answering app and contains instructions for deploying the app as a serverless REST API.\n",
      "Vercel#\n",
      "A minimal example on how to run LangChain on Vercel using Flask.\n",
      "SteamShip#\n",
      "This repository contains LangChain adapters for Steamship, enabling LangChain developers to rapidly deploy their apps on Steamship.\n",
      "This includes: production ready endpoints, horizontal scaling across dependencies, persistant storage of app state, multi-tenancy support, etc.\n",
      "previous\n",
      "LangChain Gallery\n",
      "next\n",
      "Tracing\n",
      " Contents\n",
      "  \n",
      "Streamlit\n",
      "Gradio (on Hugging Face)\n",
      "Beam\n",
      "Vercel\n",
      "SteamShip\n",
      "By Harrison Chase\n",
      "    \n",
      "      © Copyright 2023, Harrison Chase.\n",
      "      \n",
      "  Last updated on Mar 24, 2023.\n",
      "  \n"
     ]
    }
   ],
   "source": [
    "print(docs[0].page_content)"
   ]
  },
  {
   "cell_type": "code",
   "execution_count": 6,
   "metadata": {},
   "outputs": [
    {
     "name": "stdout",
     "output_type": "stream",
     "text": [
      ".rst\n",
      ".pdf\n",
      "Welcome to LangChain\n",
      " Contents \n",
      "Getting Started\n",
      "Modules\n",
      "Use Cases\n",
      "Reference Docs\n",
      "LangChain Ecosystem\n",
      "Additional Resources\n",
      "Welcome to LangChain#\n",
      "Large language models (LLMs) are emerging as a transformative technology, enabling\n",
      "developers to build applications that they previously could not.\n",
      "But using these LLMs in isolation is often not enough to\n",
      "create a truly powerful app - the real power comes when you are able to\n",
      "combine them with other sources of computation or knowledge.\n",
      "This library is aimed at assisting in the development of those types of applications. Common examples of these types of applications include:\n",
      "❓ Question Answering over specific documents\n",
      "Documentation\n",
      "End-to-end Example: Question Answering over Notion Database\n",
      "💬 Chatbots\n",
      "Documentation\n",
      "End-to-end Example: Chat-LangChain\n",
      "🤖 Agents\n",
      "Documentation\n",
      "End-to-end Example: GPT+WolframAlpha\n",
      "Getting Started#\n",
      "Checkout the below guide for a walkthrough of how to get started using LangChain to create an Language Model application.\n",
      "Getting Started Documentation\n",
      "Modules#\n",
      "There are several main modules that LangChain provides support for.\n",
      "For each module we provide some examples to get started, how-to guides, reference docs, and conceptual guides.\n",
      "These modules are, in increasing order of complexity:\n",
      "Prompts: This includes prompt management, prompt optimization, and prompt serialization.\n",
      "LLMs: This includes a generic interface for all LLMs, and common utilities for working with LLMs.\n",
      "Document Loaders: This includes a standard interface for loading documents, as well as specific integrations to all types of text data sources.\n",
      "Utils: Language models are often more powerful when interacting with other sources of knowledge or computation. This can include Python REPLs, embeddings, search engines, and more. LangChain provides a large collection of common utils to use in your application.\n",
      "Chains: Chains go beyond just a single LLM call, and are sequences of calls (whether to an LLM or a different utility). LangChain provides a standard interface for chains, lots of integrations with other tools, and end-to-end chains for common applications.\n",
      "Indexes: Language models are often more powerful when combined with your own text data - this module covers best practices for doing exactly that.\n",
      "Agents: Agents involve an LLM making decisions about which Actions to take, taking that Action, seeing an Observation, and repeating that until done. LangChain provides a standard interface for agents, a selection of agents to choose from, and examples of end to end agents.\n",
      "Memory: Memory is the concept of persisting state between calls of a chain/agent. LangChain provides a standard interface for memory, a collection of memory implementations, and examples of chains/agents that use memory.\n",
      "Chat: Chat models are a variation on Language Models that expose a different API - rather than working with raw text, they work with messages. LangChain provides a standard interface for working with them and doing all the same things as above.\n",
      "Use Cases#\n",
      "The above modules can be used in a variety of ways. LangChain also provides guidance and assistance in this. Below are some of the common use cases LangChain supports.\n",
      "Agents: Agents are systems that use a language model to interact with other tools. These can be used to do more grounded question/answering, interact with APIs, or even take actions.\n",
      "Chatbots: Since language models are good at producing text, that makes them ideal for creating chatbots.\n",
      "Data Augmented Generation: Data Augmented Generation involves specific types of chains that first interact with an external datasource to fetch data to use in the generation step. Examples of this include summarization of long pieces of text and question/answering over specific data sources.\n",
      "Question Answering: Answering questions over specific documents, only utilizing the information in those documents to construct an answer. A type of Data Augmented Generation.\n",
      "Summarization: Summarizing longer documents into shorter, more condensed chunks of information. A type of Data Augmented Generation.\n",
      "Querying Tabular Data: If you want to understand how to use LLMs to query data that is stored in a tabular format (csvs, SQL, dataframes, etc) you should read this page.\n",
      "Evaluation: Generative models are notoriously hard to evaluate with traditional metrics. One new way of evaluating them is using language models themselves to do the evaluation. LangChain provides some prompts/chains for assisting in this.\n",
      "Generate similar examples: Generating similar examples to a given input. This is a common use case for many applications, and LangChain provides some prompts/chains for assisting in this.\n",
      "Compare models: Experimenting with different prompts, models, and chains is a big part of developing the best possible application. The ModelLaboratory makes it easy to do so.\n",
      "Reference Docs#\n",
      "All of LangChain’s reference documentation, in one place. Full documentation on all methods, classes, installation methods, and integration setups for LangChain.\n",
      "Reference Documentation\n",
      "LangChain Ecosystem#\n",
      "Guides for how other companies/products can be used with LangChain\n",
      "LangChain Ecosystem\n",
      "Additional Resources#\n",
      "Additional collection of resources we think may be useful as you develop your application!\n",
      "LangChainHub: The LangChainHub is a place to share and explore other prompts, chains, and agents.\n",
      "Glossary: A glossary of all related terms, papers, methods, etc. Whether implemented in LangChain or not!\n",
      "Gallery: A collection of our favorite projects that use LangChain. Useful for finding inspiration or seeing how things were done in other applications.\n",
      "Deployments: A collection of instructions, code snippets, and template repositories for deploying LangChain apps.\n",
      "Discord: Join us on our Discord to discuss all things LangChain!\n",
      "Tracing: A guide on using tracing in LangChain to visualize the execution of chains and agents.\n",
      "Production Support: As you move your LangChains into production, we’d love to offer more comprehensive support. Please fill out this form and we’ll set up a dedicated support Slack channel.\n",
      "next\n",
      "Quickstart Guide\n",
      " Contents\n",
      "  \n",
      "Getting Started\n",
      "Modules\n",
      "Use Cases\n",
      "Reference Docs\n",
      "LangChain Ecosystem\n",
      "Additional Resources\n",
      "By Harrison Chase\n",
      "    \n",
      "      © Copyright 2023, Harrison Chase.\n",
      "      \n",
      "  Last updated on Mar 24, 2023.\n",
      "  \n"
     ]
    }
   ],
   "source": [
    "print(docs[5].page_content)"
   ]
  },
  {
   "attachments": {},
   "cell_type": "markdown",
   "metadata": {},
   "source": [
    "We can also find the source of each document:"
   ]
  },
  {
   "cell_type": "code",
   "execution_count": 8,
   "metadata": {},
   "outputs": [
    {
     "data": {
      "text/plain": [
       "'https://langchain.readthedocs.io\\\\en\\\\latest\\\\index.html'"
      ]
     },
     "execution_count": 8,
     "metadata": {},
     "output_type": "execute_result"
    }
   ],
   "source": [
    "# docs[5].metadata['source'].replace('rtdocs/', 'https://')\n",
    "docs[5].metadata['source'].replace('rtdocs\\\\', 'https://')"
   ]
  },
  {
   "attachments": {},
   "cell_type": "markdown",
   "metadata": {},
   "source": [
    "Looks good, we need to also consider the length of each page with respect to the number of tokens that will reasonably fit within the window of the latest LLMs. We will use `gpt-3.5-turbo` as an example.\n",
    "\n",
    "To count the number of tokens that `gpt-3.5-turbo` will use for some text we need to initialize the `tiktoken` tokenizer."
   ]
  },
  {
   "cell_type": "code",
   "execution_count": 9,
   "metadata": {},
   "outputs": [],
   "source": [
    "import tiktoken\n",
    "\n",
    "tokenizer = tiktoken.get_encoding('cl100k_base')\n",
    "\n",
    "# create the length function\n",
    "def tiktoken_len(text):\n",
    "    tokens = tokenizer.encode(text, disallowed_special=())\n",
    "\n",
    "    return len(tokens)"
   ]
  },
  {
   "attachments": {},
   "cell_type": "markdown",
   "metadata": {},
   "source": [
    "Note that for the tokenizer we defined the encoder as `\"cl100k_base\"`. This is a specific tiktoken encoder which is used by `gpt-3.5-turbo`. Other encoders exist. At the time of writing the OpenAI specific tokenizers (using `tiktoken`) are summarized as:\n",
    "\n",
    "| Encoder | Models |\n",
    "| --- | --- |\n",
    "| `cl100k_base` | `gpt-4`, `gpt-3.5-turbo`, `text-embedding-ada-002` |\n",
    "| `p50k_base` | `text-davinci-003`, `code-davinci-002`, `code-cushman-002` |\n",
    "| `r50k_base` | `text-davinci-001`, `davinci`, `text-similarity-davinci-001` |\n",
    "| `gpt2` | `gpt2` |\n",
    "\n",
    "You can find these details in the [Tiktoken `model.py` script](https://github.com/openai/tiktoken/blob/main/tiktoken/model.py), or using `tiktoken.encoding_for_model`:"
   ]
  },
  {
   "cell_type": "code",
   "execution_count": 12,
   "metadata": {},
   "outputs": [
    {
     "data": {
      "text/plain": [
       "<Encoding 'cl100k_base'>"
      ]
     },
     "execution_count": 12,
     "metadata": {},
     "output_type": "execute_result"
    }
   ],
   "source": [
    "tiktoken.encoding_for_model('gpt-3.5-turbo')"
   ]
  },
  {
   "attachments": {},
   "cell_type": "markdown",
   "metadata": {},
   "source": [
    "Using the `tiktoken_len` function, let's count and visualize the number of tokens across our webpages."
   ]
  },
  {
   "cell_type": "code",
   "execution_count": 13,
   "metadata": {},
   "outputs": [],
   "source": [
    "token_counts = [tiktoken_len(doc.page_content) for doc in docs]"
   ]
  },
  {
   "attachments": {},
   "cell_type": "markdown",
   "metadata": {},
   "source": [
    "Let's see `min`, average, and `max` values:"
   ]
  },
  {
   "cell_type": "code",
   "execution_count": 17,
   "metadata": {},
   "outputs": [
    {
     "name": "stdout",
     "output_type": "stream",
     "text": [
      "Min: 45\n",
      "Avg: 1329\n",
      "Max: 57674\n"
     ]
    }
   ],
   "source": [
    "print(f\"\"\"\n",
    "Min: {min(token_counts)}\n",
    "Avg: {int(sum(token_counts) / len(token_counts))}\n",
    "Max: {max(token_counts)}\n",
    "\"\"\".strip()\n",
    ")"
   ]
  },
  {
   "attachments": {},
   "cell_type": "markdown",
   "metadata": {},
   "source": [
    "Now visualize:"
   ]
  },
  {
   "cell_type": "code",
   "execution_count": 19,
   "metadata": {},
   "outputs": [
    {
     "data": {
      "image/png": "[encoded data removed]",
      "text/plain": [
       "<Figure size 1200x600 with 1 Axes>"
      ]
     },
     "metadata": {},
     "output_type": "display_data"
    }
   ],
   "source": [
    "import matplotlib.pyplot as plt\n",
    "import seaborn as sns\n",
    "\n",
    "# set style and color palette for the plot\n",
    "sns.set_style(\"whitegrid\")\n",
    "sns.set_palette(\"muted\")\n",
    "\n",
    "# create histogram\n",
    "plt.figure(figsize=(12, 6))\n",
    "sns.histplot(token_counts, kde=False, bins=50)\n",
    "\n",
    "# customize the plot info\n",
    "plt.title(\"Token Counts Histogram\")\n",
    "plt.xlabel(\"Token Count\")\n",
    "plt.ylabel(\"Frequency\")\n",
    "\n",
    "plt.show()"
   ]
  },
  {
   "attachments": {},
   "cell_type": "markdown",
   "metadata": {},
   "source": [
    "The vast majority of pages seem to contain a lower number of tokens. But our limits for the number of tokens to add to each chunk is actually smaller than some of the smaller pages. But, how do we decide what this number should be?"
   ]
  },
  {
   "attachments": {},
   "cell_type": "markdown",
   "metadata": {},
   "source": [
    "### Chunking the Text\n",
    "\n",
    "At the time of writing, `gpt-3.5-turbo` supports a context window of 4096 tokens — that means that input tokens + generated ( / completion) output tokens, cannot total more than 4096 without hitting an error.\n",
    "\n",
    "So we 100% need to keep below this. If we assume a very safe margin of ~2000 tokens for the input prompt into `gpt-3.5-turbo`, leaving ~2000 tokens for conversation history and completion.\n",
    "\n",
    "With this ~2000 token limit we may want to include *five* snippets of relevant information, meaning each snippet can be no more than **400** token long.\n",
    "\n",
    "To create these snippets we use the `RecursiveCharacterTextSplitter` from LangChain. To measure the length of snippets we also need a *length function*. This is a function that consumes text, counts the number of tokens within the text (after tokenization using the `gpt-3.5-turbo` tokenizer), and returns that number. We define it like so:"
   ]
  },
  {
   "attachments": {},
   "cell_type": "markdown",
   "metadata": {},
   "source": [
    "With the length function defined we can initialize our `RecursiveCharacterTextSplitter` object like so:"
   ]
  },
  {
   "cell_type": "code",
   "execution_count": 20,
   "metadata": {},
   "outputs": [],
   "source": [
    "from langchain.text_splitter import RecursiveCharacterTextSplitter\n",
    "\n",
    "text_splitter = RecursiveCharacterTextSplitter(\n",
    "    chunk_size=400,\n",
    "    chunk_overlap=20,  # number of tokens overlap between chunks\n",
    "    length_function=tiktoken_len,\n",
    "    separators=['\\n\\n', '\\n', ' ', '']\n",
    ")"
   ]
  },
  {
   "attachments": {},
   "cell_type": "markdown",
   "metadata": {},
   "source": [
    "Then we split the text for a document like so:"
   ]
  },
  {
   "cell_type": "code",
   "execution_count": 21,
   "metadata": {},
   "outputs": [
    {
     "data": {
      "text/plain": [
       "4"
      ]
     },
     "execution_count": 21,
     "metadata": {},
     "output_type": "execute_result"
    }
   ],
   "source": [
    "chunks = text_splitter.split_text(docs[5].page_content)\n",
    "len(chunks)"
   ]
  },
  {
   "cell_type": "code",
   "execution_count": 27,
   "metadata": {},
   "outputs": [
    {
     "name": "stdout",
     "output_type": "stream",
     "text": [
      "237 375\n",
      "294 375\n",
      "254 368\n",
      "106 147\n"
     ]
    }
   ],
   "source": [
    "for chunk in chunks:\n",
    "    print(len(chunk.split(' ')), tiktoken_len(chunk))\n",
    "# tiktoken_len(chunks[0]), tiktoken_len(chunks[1])"
   ]
  },
  {
   "cell_type": "code",
   "execution_count": 30,
   "metadata": {},
   "outputs": [
    {
     "data": {
      "text/plain": [
       "[('page_content',\n",
       "  '.md\\n.pdf\\nDeployments\\n Contents \\nStreamlit\\nGradio (on Hugging Face)\\nBeam\\nVercel\\nSteamShip\\nDeployments#\\nSo you’ve made a really cool chain - now what? How do you deploy it and make it easily sharable with the world?\\nThis section covers several options for that.\\nNote that these are meant as quick deployment options for prototypes and demos, and not for production systems.\\nIf you are looking for help with deployment of a production system, please contact us directly.\\nWhat follows is a list of template GitHub repositories aimed that are intended to be\\nvery easy to fork and modify to use your chain.\\nThis is far from an exhaustive list of options, and we are EXTREMELY open to contributions here.\\nStreamlit#\\nThis repo serves as a template for how to deploy a LangChain with Streamlit.\\nIt implements a chatbot interface.\\nIt also contains instructions for how to deploy this app on the Streamlit platform.\\nGradio (on Hugging Face)#\\nThis repo serves as a template for how deploy a LangChain with Gradio.\\nIt implements a chatbot interface, with a “Bring-Your-Own-Token” approach (nice for not wracking up big bills).\\nIt also contains instructions for how to deploy this app on the Hugging Face platform.\\nThis is heavily influenced by James Weaver’s excellent examples.\\nBeam#\\nThis repo serves as a template for how deploy a LangChain with Beam.\\nIt implements a Question Answering app and contains instructions for deploying the app as a serverless REST API.\\nVercel#\\nA minimal example on how to run LangChain on Vercel using Flask.\\nSteamShip#\\nThis repository contains LangChain adapters for Steamship, enabling LangChain developers to rapidly deploy their apps on Steamship.\\nThis includes: production ready endpoints, horizontal scaling across dependencies, persistant storage of app state, multi-tenancy support, etc.\\nprevious\\nLangChain Gallery\\nnext\\nTracing\\n Contents\\n  \\nStreamlit\\nGradio (on Hugging Face)\\nBeam\\nVercel\\nSteamShip\\nBy Harrison Chase\\n    \\n      © Copyright 2023, Harrison Chase.\\n      \\n  Last updated on Mar 24, 2023.\\n  '),\n",
       " ('lookup_str', ''),\n",
       " ('metadata',\n",
       "  {'source': 'rtdocs\\\\langchain.readthedocs.io\\\\en\\\\latest\\\\deployments.html'}),\n",
       " ('lookup_index', 0)]"
      ]
     },
     "execution_count": 30,
     "metadata": {},
     "output_type": "execute_result"
    }
   ],
   "source": [
    "list(docs[0])"
   ]
  },
  {
   "attachments": {},
   "cell_type": "markdown",
   "metadata": {},
   "source": [
    "For `docs[5]` we created `2` chunks of token length `346` and `247`.\n",
    "\n",
    "This is for a single document, we need to do this over all of our documents. While we iterate through the docs to create these chunks we will reformat them into a format that looks like:\n",
    "\n",
    "```json\n",
    "[\n",
    "    {\n",
    "        \"id\": \"abc-0\",\n",
    "        \"text\": \"some important document text\",\n",
    "        \"source\": \"https://langchain.readthedocs.io/en/latest/glossary.html\"\n",
    "    },\n",
    "    {\n",
    "        \"id\": \"abc-1\",\n",
    "        \"text\": \"the next chunk of important document text\",\n",
    "        \"source\": \"https://langchain.readthedocs.io/en/latest/glossary.html\"\n",
    "    }\n",
    "    ...\n",
    "]\n",
    "```"
   ]
  },
  {
   "attachments": {},
   "cell_type": "markdown",
   "metadata": {},
   "source": [
    "The `\"id\"` will be created based on the URL of the text + it's chunk number."
   ]
  },
  {
   "cell_type": "code",
   "execution_count": 32,
   "metadata": {},
   "outputs": [
    {
     "name": "stdout",
     "output_type": "stream",
     "text": [
      "https://langchain.readthedocs.io\\en\\latest\\index.html\n",
      "30b694fe53d5\n"
     ]
    }
   ],
   "source": [
    "import hashlib\n",
    "m = hashlib.md5()  # this will convert URL into unique ID\n",
    "\n",
    "url = docs[5].metadata['source'].replace('rtdocs\\\\', 'https://')\n",
    "print(url)\n",
    "\n",
    "# convert URL to unique ID\n",
    "m.update(url.encode('utf-8'))\n",
    "uid = m.hexdigest()[:12]\n",
    "print(uid)"
   ]
  },
  {
   "attachments": {},
   "cell_type": "markdown",
   "metadata": {},
   "source": [
    "Then use the `uid` alongside chunk number and actual `url` to create the format needed:"
   ]
  },
  {
   "cell_type": "code",
   "execution_count": 34,
   "metadata": {},
   "outputs": [
    {
     "data": {
      "text/plain": [
       "[{'id': '30b694fe53d5-0',\n",
       "  'text': '.rst\\n.pdf\\nWelcome to LangChain\\n Contents \\nGetting Started\\nModules\\nUse Cases\\nReference Docs\\nLangChain Ecosystem\\nAdditional Resources\\nWelcome to LangChain#\\nLarge language models (LLMs) are emerging as a transformative technology, enabling\\ndevelopers to build applications that they previously could not.\\nBut using these LLMs in isolation is often not enough to\\ncreate a truly powerful app - the real power comes when you are able to\\ncombine them with other sources of computation or knowledge.\\nThis library is aimed at assisting in the development of those types of applications. Common examples of these types of applications include:\\n❓ Question Answering over specific documents\\nDocumentation\\nEnd-to-end Example: Question Answering over Notion Database\\n💬 Chatbots\\nDocumentation\\nEnd-to-end Example: Chat-LangChain\\n🤖 Agents\\nDocumentation\\nEnd-to-end Example: GPT+WolframAlpha\\nGetting Started#\\nCheckout the below guide for a walkthrough of how to get started using LangChain to create an Language Model application.\\nGetting Started Documentation\\nModules#\\nThere are several main modules that LangChain provides support for.\\nFor each module we provide some examples to get started, how-to guides, reference docs, and conceptual guides.\\nThese modules are, in increasing order of complexity:\\nPrompts: This includes prompt management, prompt optimization, and prompt serialization.\\nLLMs: This includes a generic interface for all LLMs, and common utilities for working with LLMs.\\nDocument Loaders: This includes a standard interface for loading documents, as well as specific integrations to all types of text data sources.\\nUtils: Language models are often more powerful when interacting with other sources of knowledge or computation. This can include Python REPLs, embeddings, search engines, and more. LangChain provides a large collection of common utils to use in your application.',\n",
       "  'source': 'https://langchain.readthedocs.io\\\\en\\\\latest\\\\index.html'},\n",
       " {'id': '30b694fe53d5-1',\n",
       "  'text': 'Chains: Chains go beyond just a single LLM call, and are sequences of calls (whether to an LLM or a different utility). LangChain provides a standard interface for chains, lots of integrations with other tools, and end-to-end chains for common applications.\\nIndexes: Language models are often more powerful when combined with your own text data - this module covers best practices for doing exactly that.\\nAgents: Agents involve an LLM making decisions about which Actions to take, taking that Action, seeing an Observation, and repeating that until done. LangChain provides a standard interface for agents, a selection of agents to choose from, and examples of end to end agents.\\nMemory: Memory is the concept of persisting state between calls of a chain/agent. LangChain provides a standard interface for memory, a collection of memory implementations, and examples of chains/agents that use memory.\\nChat: Chat models are a variation on Language Models that expose a different API - rather than working with raw text, they work with messages. LangChain provides a standard interface for working with them and doing all the same things as above.\\nUse Cases#\\nThe above modules can be used in a variety of ways. LangChain also provides guidance and assistance in this. Below are some of the common use cases LangChain supports.\\nAgents: Agents are systems that use a language model to interact with other tools. These can be used to do more grounded question/answering, interact with APIs, or even take actions.\\nChatbots: Since language models are good at producing text, that makes them ideal for creating chatbots.\\nData Augmented Generation: Data Augmented Generation involves specific types of chains that first interact with an external datasource to fetch data to use in the generation step. Examples of this include summarization of long pieces of text and question/answering over specific data sources.',\n",
       "  'source': 'https://langchain.readthedocs.io\\\\en\\\\latest\\\\index.html'},\n",
       " {'id': '30b694fe53d5-2',\n",
       "  'text': 'Question Answering: Answering questions over specific documents, only utilizing the information in those documents to construct an answer. A type of Data Augmented Generation.\\nSummarization: Summarizing longer documents into shorter, more condensed chunks of information. A type of Data Augmented Generation.\\nQuerying Tabular Data: If you want to understand how to use LLMs to query data that is stored in a tabular format (csvs, SQL, dataframes, etc) you should read this page.\\nEvaluation: Generative models are notoriously hard to evaluate with traditional metrics. One new way of evaluating them is using language models themselves to do the evaluation. LangChain provides some prompts/chains for assisting in this.\\nGenerate similar examples: Generating similar examples to a given input. This is a common use case for many applications, and LangChain provides some prompts/chains for assisting in this.\\nCompare models: Experimenting with different prompts, models, and chains is a big part of developing the best possible application. The ModelLaboratory makes it easy to do so.\\nReference Docs#\\nAll of LangChain’s reference documentation, in one place. Full documentation on all methods, classes, installation methods, and integration setups for LangChain.\\nReference Documentation\\nLangChain Ecosystem#\\nGuides for how other companies/products can be used with LangChain\\nLangChain Ecosystem\\nAdditional Resources#\\nAdditional collection of resources we think may be useful as you develop your application!\\nLangChainHub: The LangChainHub is a place to share and explore other prompts, chains, and agents.\\nGlossary: A glossary of all related terms, papers, methods, etc. Whether implemented in LangChain or not!\\nGallery: A collection of our favorite projects that use LangChain. Useful for finding inspiration or seeing how things were done in other applications.',\n",
       "  'source': 'https://langchain.readthedocs.io\\\\en\\\\latest\\\\index.html'},\n",
       " {'id': '30b694fe53d5-3',\n",
       "  'text': 'Deployments: A collection of instructions, code snippets, and template repositories for deploying LangChain apps.\\nDiscord: Join us on our Discord to discuss all things LangChain!\\nTracing: A guide on using tracing in LangChain to visualize the execution of chains and agents.\\nProduction Support: As you move your LangChains into production, we’d love to offer more comprehensive support. Please fill out this form and we’ll set up a dedicated support Slack channel.\\nnext\\nQuickstart Guide\\n Contents\\n  \\nGetting Started\\nModules\\nUse Cases\\nReference Docs\\nLangChain Ecosystem\\nAdditional Resources\\nBy Harrison Chase\\n    \\n      © Copyright 2023, Harrison Chase.\\n      \\n  Last updated on Mar 24, 2023.',\n",
       "  'source': 'https://langchain.readthedocs.io\\\\en\\\\latest\\\\index.html'}]"
      ]
     },
     "execution_count": 34,
     "metadata": {},
     "output_type": "execute_result"
    }
   ],
   "source": [
    "data = [{'id': f'{uid}-{i}', 'text': chunk, 'source': url} for i, chunk in enumerate(chunks)]\n",
    "data"
   ]
  },
  {
   "attachments": {},
   "cell_type": "markdown",
   "metadata": {},
   "source": [
    "Now we repeat the same logic across our full dataset:"
   ]
  },
  {
   "cell_type": "code",
   "execution_count": 37,
   "metadata": {},
   "outputs": [
    {
     "data": {
      "text/plain": [
       "397"
      ]
     },
     "execution_count": 37,
     "metadata": {},
     "output_type": "execute_result"
    }
   ],
   "source": [
    "len(docs)"
   ]
  },
  {
   "cell_type": "code",
   "execution_count": 35,
   "metadata": {},
   "outputs": [
    {
     "name": "stderr",
     "output_type": "stream",
     "text": [
      "c:\\Users\\matte\\miniconda3\\envs\\ml\\lib\\site-packages\\tqdm\\auto.py:21: TqdmWarning: IProgress not found. Please update jupyter and ipywidgets. See https://ipywidgets.readthedocs.io/en/stable/user_install.html\n",
      "  from .autonotebook import tqdm as notebook_tqdm\n",
      "100%|██████████| 397/397 [00:04<00:00, 82.49it/s] \n"
     ]
    },
    {
     "data": {
      "text/plain": [
       "2237"
      ]
     },
     "execution_count": 35,
     "metadata": {},
     "output_type": "execute_result"
    }
   ],
   "source": [
    "from tqdm.auto import tqdm\n",
    "\n",
    "documents = []\n",
    "\n",
    "for doc in tqdm(docs):\n",
    "    url = doc.metadata['source'].replace('rtdocs\\\\', 'https://')\n",
    "    m.update(url.encode('utf-8'))\n",
    "    uid = m.hexdigest()[:12]\n",
    "    chunks = text_splitter.split_text(doc.page_content)\n",
    "    for i, chunk in enumerate(chunks):\n",
    "        documents.append({\n",
    "            'id': f'{uid}-{i}',\n",
    "            'text': chunk,\n",
    "            'source': url\n",
    "        })\n",
    "\n",
    "len(documents)"
   ]
  },
  {
   "attachments": {},
   "cell_type": "markdown",
   "metadata": {},
   "source": [
    "We're now left with `2201` documents. We can save them to a JSON lines (`.jsonl`) file like so:"
   ]
  },
  {
   "cell_type": "code",
   "execution_count": 40,
   "metadata": {},
   "outputs": [
    {
     "data": {
      "text/plain": [
       "{'id': '94d948fe82d2-0',\n",
       " 'text': '.md\\n.pdf\\nDeployments\\n Contents \\nStreamlit\\nGradio (on Hugging Face)\\nBeam\\nVercel\\nSteamShip\\nDeployments#\\nSo you’ve made a really cool chain - now what? How do you deploy it and make it easily sharable with the world?\\nThis section covers several options for that.\\nNote that these are meant as quick deployment options for prototypes and demos, and not for production systems.\\nIf you are looking for help with deployment of a production system, please contact us directly.\\nWhat follows is a list of template GitHub repositories aimed that are intended to be\\nvery easy to fork and modify to use your chain.\\nThis is far from an exhaustive list of options, and we are EXTREMELY open to contributions here.\\nStreamlit#\\nThis repo serves as a template for how to deploy a LangChain with Streamlit.\\nIt implements a chatbot interface.\\nIt also contains instructions for how to deploy this app on the Streamlit platform.\\nGradio (on Hugging Face)#\\nThis repo serves as a template for how deploy a LangChain with Gradio.\\nIt implements a chatbot interface, with a “Bring-Your-Own-Token” approach (nice for not wracking up big bills).\\nIt also contains instructions for how to deploy this app on the Hugging Face platform.\\nThis is heavily influenced by James Weaver’s excellent examples.\\nBeam#\\nThis repo serves as a template for how deploy a LangChain with Beam.\\nIt implements a Question Answering app and contains instructions for deploying the app as a serverless REST API.\\nVercel#\\nA minimal example on how to run LangChain on Vercel using Flask.\\nSteamShip#\\nThis repository contains LangChain adapters for Steamship, enabling LangChain developers to rapidly deploy their apps on Steamship.',\n",
       " 'source': 'https://langchain.readthedocs.io\\\\en\\\\latest\\\\deployments.html'}"
      ]
     },
     "execution_count": 40,
     "metadata": {},
     "output_type": "execute_result"
    }
   ],
   "source": [
    "documents[0]"
   ]
  },
  {
   "cell_type": "code",
   "execution_count": 41,
   "metadata": {},
   "outputs": [],
   "source": [
    "import json\n",
    "\n",
    "with open('train.jsonl', 'w') as f:\n",
    "    for doc in documents:\n",
    "        f.write(json.dumps(doc) + '\\n')"
   ]
  },
  {
   "attachments": {},
   "cell_type": "markdown",
   "metadata": {},
   "source": [
    "To load the data from file we'd write:"
   ]
  },
  {
   "cell_type": "code",
   "execution_count": 42,
   "metadata": {},
   "outputs": [
    {
     "data": {
      "text/plain": [
       "2237"
      ]
     },
     "execution_count": 42,
     "metadata": {},
     "output_type": "execute_result"
    }
   ],
   "source": [
    "documents = []\n",
    "\n",
    "with open('train.jsonl', 'r') as f:\n",
    "    for line in f:\n",
    "        documents.append(json.loads(line))\n",
    "\n",
    "len(documents)"
   ]
  },
  {
   "cell_type": "code",
   "execution_count": 43,
   "metadata": {},
   "outputs": [
    {
     "data": {
      "text/plain": [
       "{'id': '94d948fe82d2-0',\n",
       " 'text': '.md\\n.pdf\\nDeployments\\n Contents \\nStreamlit\\nGradio (on Hugging Face)\\nBeam\\nVercel\\nSteamShip\\nDeployments#\\nSo you’ve made a really cool chain - now what? How do you deploy it and make it easily sharable with the world?\\nThis section covers several options for that.\\nNote that these are meant as quick deployment options for prototypes and demos, and not for production systems.\\nIf you are looking for help with deployment of a production system, please contact us directly.\\nWhat follows is a list of template GitHub repositories aimed that are intended to be\\nvery easy to fork and modify to use your chain.\\nThis is far from an exhaustive list of options, and we are EXTREMELY open to contributions here.\\nStreamlit#\\nThis repo serves as a template for how to deploy a LangChain with Streamlit.\\nIt implements a chatbot interface.\\nIt also contains instructions for how to deploy this app on the Streamlit platform.\\nGradio (on Hugging Face)#\\nThis repo serves as a template for how deploy a LangChain with Gradio.\\nIt implements a chatbot interface, with a “Bring-Your-Own-Token” approach (nice for not wracking up big bills).\\nIt also contains instructions for how to deploy this app on the Hugging Face platform.\\nThis is heavily influenced by James Weaver’s excellent examples.\\nBeam#\\nThis repo serves as a template for how deploy a LangChain with Beam.\\nIt implements a Question Answering app and contains instructions for deploying the app as a serverless REST API.\\nVercel#\\nA minimal example on how to run LangChain on Vercel using Flask.\\nSteamShip#\\nThis repository contains LangChain adapters for Steamship, enabling LangChain developers to rapidly deploy their apps on Steamship.',\n",
       " 'source': 'https://langchain.readthedocs.io\\\\en\\\\latest\\\\deployments.html'}"
      ]
     },
     "execution_count": 43,
     "metadata": {},
     "output_type": "execute_result"
    }
   ],
   "source": [
    "documents[0]"
   ]
  },
  {
   "attachments": {},
   "cell_type": "markdown",
   "metadata": {},
   "source": [
    "### (Optional) Sharing the Dataset"
   ]
  },
  {
   "attachments": {},
   "cell_type": "markdown",
   "metadata": {},
   "source": [
    "We've now created our dataset and you can go ahead and use it in any way you like. However, if you'd like to share the dataset, or store it somewhere that you can get easy access to later — we can use [Hugging Face Datasets Hub](https://huggingface.co/datasets).\n",
    "\n",
    "To begin we first need to create an account by clicking the **Sign Up** button at [huggingface.co](https://huggingface.co/). Once done we click our profile button in the same location > click **New Dataset** > give it a name like *\"langchain-docs\"* > set the dataset to **Public** or **Private** > click **Create dataset**."
   ]
  }
 ],
 "metadata": {
  "kernelspec": {
   "display_name": "ml",
   "language": "python",
   "name": "python3"
  },
  "language_info": {
   "codemirror_mode": {
    "name": "ipython",
    "version": 3
   },
   "file_extension": ".py",
   "mimetype": "text/x-python",
   "name": "python",
   "nbconvert_exporter": "python",
   "pygments_lexer": "ipython3",
   "version": "3.10.9"
  },
  "orig_nbformat": 4
 },
 "nbformat": 4,
 "nbformat_minor": 2
}
